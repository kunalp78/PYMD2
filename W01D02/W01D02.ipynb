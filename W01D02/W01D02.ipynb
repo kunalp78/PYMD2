{
 "cells": [
  {
   "cell_type": "code",
   "execution_count": null,
   "id": "26980295-0fc5-4915-9c62-9f57cd0c730a",
   "metadata": {},
   "outputs": [],
   "source": [
    "# data type\n",
    "\"name\"\n",
    "\"hey I am studying python\"\n",
    "1 2 3 2.0 6.2\n",
    "2 + 6i"
   ]
  },
  {
   "cell_type": "code",
   "execution_count": null,
   "id": "5ff57d9d-aa06-44d0-b459-98bfacd6df5a",
   "metadata": {},
   "outputs": [],
   "source": [
    "string --> \"name\" \"asleen\"\n",
    "number\n",
    "    int --> 1,2,3,4\n",
    "    float\n",
    "bool --> True, False\n",
    "complex --> 5+3j, 2+6j, 9j\n",
    "None\n",
    "\n",
    "collection:\n",
    "    list --> [1, 2, \"elephant\", True, 1] --> mutable data type\n",
    "    tuple --> (1, 2, \"rabbit\", 1) --> immutable data type\n",
    "    set --> {1, 2, 3} --> it stores uniqe data (mutable data type)\n",
    "    dictionary --> {\"value1\": 125, \"value2\": [5,1,2], 5: \"string2\"} --> mutable daat type\n",
    "    range --> range(10) --> 0-9 (immutable data type)"
   ]
  },
  {
   "cell_type": "code",
   "execution_count": 1,
   "id": "b619566d-ad44-4224-b391-be5d7e011eff",
   "metadata": {},
   "outputs": [],
   "source": [
    "a = \"harjit\""
   ]
  },
  {
   "cell_type": "code",
   "execution_count": 2,
   "id": "027cc7de-8fad-4f3e-b409-98ed99948759",
   "metadata": {},
   "outputs": [
    {
     "name": "stdout",
     "output_type": "stream",
     "text": [
      "harjit\n"
     ]
    }
   ],
   "source": [
    "print(a)"
   ]
  },
  {
   "cell_type": "code",
   "execution_count": 3,
   "id": "8e5a17bb-fab5-453b-9e63-0c3d06800380",
   "metadata": {},
   "outputs": [],
   "source": [
    "a = 5 + 3j"
   ]
  },
  {
   "cell_type": "code",
   "execution_count": 4,
   "id": "6b85f601-6d9b-4dd5-8dae-aa76e1371380",
   "metadata": {},
   "outputs": [
    {
     "name": "stdout",
     "output_type": "stream",
     "text": [
      "(5+3j)\n"
     ]
    }
   ],
   "source": [
    "print(a)"
   ]
  },
  {
   "cell_type": "code",
   "execution_count": 5,
   "id": "751cee8f-9b0a-4d19-af9b-642d952c914b",
   "metadata": {},
   "outputs": [
    {
     "data": {
      "text/plain": [
       "8"
      ]
     },
     "execution_count": 5,
     "metadata": {},
     "output_type": "execute_result"
    }
   ],
   "source": [
    "5 + 3"
   ]
  },
  {
   "cell_type": "code",
   "execution_count": 6,
   "id": "54ca6c99-4009-40f0-a206-fc15f2460e76",
   "metadata": {},
   "outputs": [
    {
     "data": {
      "text/plain": [
       "9"
      ]
     },
     "execution_count": 6,
     "metadata": {},
     "output_type": "execute_result"
    }
   ],
   "source": [
    "7 + 2"
   ]
  },
  {
   "cell_type": "code",
   "execution_count": 7,
   "id": "080ff589-cb36-4eae-9b58-9de3eee1226f",
   "metadata": {},
   "outputs": [
    {
     "data": {
      "text/plain": [
       "6"
      ]
     },
     "execution_count": 7,
     "metadata": {},
     "output_type": "execute_result"
    }
   ],
   "source": [
    "8 - 2"
   ]
  },
  {
   "cell_type": "code",
   "execution_count": 8,
   "id": "8a33ffb4-2f79-4119-87d2-95d13f59c5e2",
   "metadata": {},
   "outputs": [
    {
     "data": {
      "text/plain": [
       "-90"
      ]
     },
     "execution_count": 8,
     "metadata": {},
     "output_type": "execute_result"
    }
   ],
   "source": [
    " 10-100"
   ]
  },
  {
   "cell_type": "code",
   "execution_count": 9,
   "id": "033ef2d2-67ce-4fb5-b18b-473a7488dbaa",
   "metadata": {},
   "outputs": [],
   "source": [
    "d = [1, 5, \"RS\"]"
   ]
  },
  {
   "cell_type": "code",
   "execution_count": 10,
   "id": "2c5aaef2-92dd-4b7e-b626-a53fac635ccc",
   "metadata": {},
   "outputs": [
    {
     "name": "stdout",
     "output_type": "stream",
     "text": [
      "[1, 5, 'RS']\n"
     ]
    }
   ],
   "source": [
    "print(d)"
   ]
  },
  {
   "cell_type": "code",
   "execution_count": 11,
   "id": "f2c0b601-2bd4-4a56-9cd5-3bdebe9b9fe4",
   "metadata": {},
   "outputs": [
    {
     "data": {
      "text/plain": [
       "list"
      ]
     },
     "execution_count": 11,
     "metadata": {},
     "output_type": "execute_result"
    }
   ],
   "source": [
    "type(d)"
   ]
  },
  {
   "cell_type": "code",
   "execution_count": 12,
   "id": "27b5d18a-6d97-45f9-9ab2-4cec4603ea65",
   "metadata": {},
   "outputs": [
    {
     "data": {
      "text/plain": [
       "complex"
      ]
     },
     "execution_count": 12,
     "metadata": {},
     "output_type": "execute_result"
    }
   ],
   "source": [
    "type(a)"
   ]
  },
  {
   "cell_type": "code",
   "execution_count": 13,
   "id": "cf74684f-f6e8-4f2a-90b3-c4feaa64114c",
   "metadata": {},
   "outputs": [
    {
     "name": "stdout",
     "output_type": "stream",
     "text": [
      "<class 'int'>\n"
     ]
    }
   ],
   "source": [
    "a = 5\n",
    "print(type(a))"
   ]
  },
  {
   "cell_type": "code",
   "execution_count": 14,
   "id": "a2c7135a-8291-421b-8adf-a6980d553c19",
   "metadata": {},
   "outputs": [
    {
     "name": "stdout",
     "output_type": "stream",
     "text": [
      "<class 'dict'>\n"
     ]
    }
   ],
   "source": [
    "b = {\"k\":25}\n",
    "print(type(b))"
   ]
  },
  {
   "cell_type": "code",
   "execution_count": 15,
   "id": "b34fdb77-36a2-42f6-94a5-c6f568f4df68",
   "metadata": {},
   "outputs": [
    {
     "data": {
      "text/plain": [
       "set"
      ]
     },
     "execution_count": 15,
     "metadata": {},
     "output_type": "execute_result"
    }
   ],
   "source": [
    "s = {1, 2, 3}\n",
    "type(s)"
   ]
  },
  {
   "cell_type": "code",
   "execution_count": 16,
   "id": "86a6d68f-e7f9-46e4-b0a2-03ae744b3088",
   "metadata": {},
   "outputs": [
    {
     "name": "stdout",
     "output_type": "stream",
     "text": [
      "<class 'set'>\n"
     ]
    }
   ],
   "source": [
    "print(type(s))"
   ]
  },
  {
   "cell_type": "code",
   "execution_count": 17,
   "id": "cbeb6cbf-f389-4975-adb8-2a114f6e698e",
   "metadata": {},
   "outputs": [
    {
     "data": {
      "text/plain": [
       "tuple"
      ]
     },
     "execution_count": 17,
     "metadata": {},
     "output_type": "execute_result"
    }
   ],
   "source": [
    "l = (1, 2, 3)\n",
    "type(l)"
   ]
  },
  {
   "cell_type": "code",
   "execution_count": 18,
   "id": "bfefda26-37bc-4c32-ada9-e713dac2b4a5",
   "metadata": {},
   "outputs": [],
   "source": [
    "r = range(5)"
   ]
  },
  {
   "cell_type": "code",
   "execution_count": 19,
   "id": "7dac495c-8d80-44f1-b255-089f117614f2",
   "metadata": {},
   "outputs": [
    {
     "data": {
      "text/plain": [
       "range(0, 5)"
      ]
     },
     "execution_count": 19,
     "metadata": {},
     "output_type": "execute_result"
    }
   ],
   "source": [
    "r"
   ]
  },
  {
   "cell_type": "code",
   "execution_count": 20,
   "id": "9acf1ac7-f12b-4ad2-a0a8-c41a3c3f6319",
   "metadata": {},
   "outputs": [],
   "source": [
    "r = range(1, 5)"
   ]
  },
  {
   "cell_type": "code",
   "execution_count": 21,
   "id": "7fd55c0d-51cd-4a2f-b879-d9bc6ea3f387",
   "metadata": {},
   "outputs": [
    {
     "name": "stdout",
     "output_type": "stream",
     "text": [
      "<class 'range'>\n"
     ]
    }
   ],
   "source": [
    "print(type(r))"
   ]
  },
  {
   "cell_type": "code",
   "execution_count": null,
   "id": "3f650345-f454-4335-98ec-e2b297bfcc22",
   "metadata": {},
   "outputs": [],
   "source": [
    "# operators\n",
    "# arithmatic operators \n",
    "    +, -, /, *, //, %, **\n",
    "# assignment operator\n",
    "    =, +=, -=, /=, //=, **=\n",
    "# comparison operator\n",
    "    ==, >=, <=, !=, >, <\n",
    "# logical operator\n",
    "    and --> It returns True if both the statements are true\n",
    "    or  --> It returns True if any of the statements are true\n",
    "    not --> It reverses the result and returns False if the result is True or vice versa\n",
    "# identity operator\n",
    "    # It used to compare the objects\n",
    "    is --> Return True if both variables are the same object\n",
    "    is not --> It returns True if bothe variavles are not the same object\n",
    "# Membership operator\n",
    "    # It is unsed to test if a sequance is present on a iterable/collection/obejct\n",
    "    in\n",
    "    not in"
   ]
  },
  {
   "cell_type": "markdown",
   "id": "3a8d9552-5679-4549-a494-74c8c65d4b7b",
   "metadata": {},
   "source": [
    "# Arithmatic operator"
   ]
  },
  {
   "cell_type": "code",
   "execution_count": 22,
   "id": "8a860507-261e-4d05-a897-2b49709e4c82",
   "metadata": {},
   "outputs": [
    {
     "data": {
      "text/plain": [
       "2.0"
      ]
     },
     "execution_count": 22,
     "metadata": {},
     "output_type": "execute_result"
    }
   ],
   "source": [
    "2/1"
   ]
  },
  {
   "cell_type": "code",
   "execution_count": 23,
   "id": "b46c1d01-9501-4ded-b234-01f993057b76",
   "metadata": {},
   "outputs": [
    {
     "data": {
      "text/plain": [
       "2.0"
      ]
     },
     "execution_count": 23,
     "metadata": {},
     "output_type": "execute_result"
    }
   ],
   "source": [
    "4/2"
   ]
  },
  {
   "cell_type": "code",
   "execution_count": 24,
   "id": "7fdb82f6-ac76-4f9d-a746-ba2d63c85ed0",
   "metadata": {},
   "outputs": [
    {
     "data": {
      "text/plain": [
       "15"
      ]
     },
     "execution_count": 24,
     "metadata": {},
     "output_type": "execute_result"
    }
   ],
   "source": [
    "5*3"
   ]
  },
  {
   "cell_type": "code",
   "execution_count": 25,
   "id": "dfc559f2-631a-428e-a8ce-d8ee168a14e5",
   "metadata": {},
   "outputs": [
    {
     "data": {
      "text/plain": [
       "2.5"
      ]
     },
     "execution_count": 25,
     "metadata": {},
     "output_type": "execute_result"
    }
   ],
   "source": [
    "5/2"
   ]
  },
  {
   "cell_type": "code",
   "execution_count": 26,
   "id": "15b939ce-45cd-4af5-8bc1-f05ff794bced",
   "metadata": {},
   "outputs": [
    {
     "data": {
      "text/plain": [
       "2"
      ]
     },
     "execution_count": 26,
     "metadata": {},
     "output_type": "execute_result"
    }
   ],
   "source": [
    "5//2"
   ]
  },
  {
   "cell_type": "code",
   "execution_count": 27,
   "id": "386d9b3c-8d34-4d16-b743-a85d79fe1eda",
   "metadata": {},
   "outputs": [
    {
     "data": {
      "text/plain": [
       "1"
      ]
     },
     "execution_count": 27,
     "metadata": {},
     "output_type": "execute_result"
    }
   ],
   "source": [
    "5%2"
   ]
  },
  {
   "cell_type": "code",
   "execution_count": 28,
   "id": "524cef89-e8e8-4423-addb-813f9fb3c6fc",
   "metadata": {},
   "outputs": [
    {
     "data": {
      "text/plain": [
       "81"
      ]
     },
     "execution_count": 28,
     "metadata": {},
     "output_type": "execute_result"
    }
   ],
   "source": [
    "3**4"
   ]
  },
  {
   "cell_type": "code",
   "execution_count": 30,
   "id": "4d368586-0046-418e-82aa-5b7345727bb5",
   "metadata": {},
   "outputs": [
    {
     "data": {
      "text/plain": [
       "2"
      ]
     },
     "execution_count": 30,
     "metadata": {},
     "output_type": "execute_result"
    }
   ],
   "source": [
    "7//3"
   ]
  },
  {
   "cell_type": "markdown",
   "id": "3d259668-eb76-4a92-8ce4-5fa994dde3d7",
   "metadata": {},
   "source": [
    "# Assignment operator"
   ]
  },
  {
   "cell_type": "code",
   "execution_count": 31,
   "id": "1d1123e1-d6c2-4277-bbd4-3c756c99250a",
   "metadata": {},
   "outputs": [],
   "source": [
    "a = 3"
   ]
  },
  {
   "cell_type": "code",
   "execution_count": 32,
   "id": "5606013d-ce34-4d3f-bdd0-464dbdb3996f",
   "metadata": {},
   "outputs": [
    {
     "data": {
      "text/plain": [
       "4"
      ]
     },
     "execution_count": 32,
     "metadata": {},
     "output_type": "execute_result"
    }
   ],
   "source": [
    "a + 1"
   ]
  },
  {
   "cell_type": "code",
   "execution_count": 33,
   "id": "4513f299-5d8a-4e1c-b708-299493d812d2",
   "metadata": {},
   "outputs": [
    {
     "data": {
      "text/plain": [
       "3"
      ]
     },
     "execution_count": 33,
     "metadata": {},
     "output_type": "execute_result"
    }
   ],
   "source": [
    "a"
   ]
  },
  {
   "cell_type": "code",
   "execution_count": 34,
   "id": "9ccb794c-dfe7-455a-9c86-008ea3555f0e",
   "metadata": {},
   "outputs": [],
   "source": [
    "a = a + 1"
   ]
  },
  {
   "cell_type": "code",
   "execution_count": 35,
   "id": "3fc038bf-3b90-4b06-97f4-12ea8db41be4",
   "metadata": {},
   "outputs": [
    {
     "data": {
      "text/plain": [
       "4"
      ]
     },
     "execution_count": 35,
     "metadata": {},
     "output_type": "execute_result"
    }
   ],
   "source": [
    "a"
   ]
  },
  {
   "cell_type": "code",
   "execution_count": 36,
   "id": "a1a02ea4-f448-4594-815c-ef8271aed5e3",
   "metadata": {},
   "outputs": [],
   "source": [
    "a += 1"
   ]
  },
  {
   "cell_type": "code",
   "execution_count": 37,
   "id": "25efdbca-da39-4669-a41c-c5091a862306",
   "metadata": {},
   "outputs": [
    {
     "data": {
      "text/plain": [
       "5"
      ]
     },
     "execution_count": 37,
     "metadata": {},
     "output_type": "execute_result"
    }
   ],
   "source": [
    "a"
   ]
  },
  {
   "cell_type": "code",
   "execution_count": 38,
   "id": "1ba83a92-7e4b-4ee0-9d8e-6c483d0b48bb",
   "metadata": {},
   "outputs": [],
   "source": [
    "a += 5"
   ]
  },
  {
   "cell_type": "code",
   "execution_count": 39,
   "id": "7b82b0d7-c0bb-4d15-964f-455bf4c7ee7b",
   "metadata": {},
   "outputs": [
    {
     "data": {
      "text/plain": [
       "10"
      ]
     },
     "execution_count": 39,
     "metadata": {},
     "output_type": "execute_result"
    }
   ],
   "source": [
    "a"
   ]
  },
  {
   "cell_type": "code",
   "execution_count": 40,
   "id": "d28c874b-2ac3-479a-8691-83fab379a2a7",
   "metadata": {},
   "outputs": [],
   "source": [
    "a -= 2"
   ]
  },
  {
   "cell_type": "code",
   "execution_count": 41,
   "id": "c6cfb218-b898-452f-9aaa-5da2ec435441",
   "metadata": {},
   "outputs": [
    {
     "name": "stdout",
     "output_type": "stream",
     "text": [
      "8\n"
     ]
    }
   ],
   "source": [
    "print(a)"
   ]
  },
  {
   "cell_type": "code",
   "execution_count": 42,
   "id": "f12ca487-f470-4050-b27f-ae499f68a183",
   "metadata": {},
   "outputs": [
    {
     "name": "stdout",
     "output_type": "stream",
     "text": [
      "4.0\n"
     ]
    }
   ],
   "source": [
    "a /= 2\n",
    "print(a)"
   ]
  },
  {
   "cell_type": "code",
   "execution_count": 43,
   "id": "6eb72dd5-00a5-4c9c-b970-1e5d07931048",
   "metadata": {},
   "outputs": [
    {
     "name": "stdout",
     "output_type": "stream",
     "text": [
      "16.0\n"
     ]
    }
   ],
   "source": [
    "a //= 1\n",
    "a **= 2\n",
    "print(a)\n",
    "# 7, 16"
   ]
  },
  {
   "cell_type": "markdown",
   "id": "bb4e939f-e8dd-4d34-86b4-34bc41228fe1",
   "metadata": {},
   "source": [
    "# Comparision operator"
   ]
  },
  {
   "cell_type": "code",
   "execution_count": 44,
   "id": "4691afd6-4f0f-423e-91e7-13c0062d553a",
   "metadata": {},
   "outputs": [
    {
     "data": {
      "text/plain": [
       "False"
      ]
     },
     "execution_count": 44,
     "metadata": {},
     "output_type": "execute_result"
    }
   ],
   "source": [
    "a == 8.0"
   ]
  },
  {
   "cell_type": "code",
   "execution_count": 45,
   "id": "db651869-c41e-411b-9998-f82fcf4f562c",
   "metadata": {},
   "outputs": [
    {
     "data": {
      "text/plain": [
       "True"
      ]
     },
     "execution_count": 45,
     "metadata": {},
     "output_type": "execute_result"
    }
   ],
   "source": [
    "a == 16\n",
    "# True, True"
   ]
  },
  {
   "cell_type": "code",
   "execution_count": 46,
   "id": "5fff55a9-047c-4dd8-9e7b-fe707270116b",
   "metadata": {},
   "outputs": [
    {
     "data": {
      "text/plain": [
       "True"
      ]
     },
     "execution_count": 46,
     "metadata": {},
     "output_type": "execute_result"
    }
   ],
   "source": [
    "a >= 2"
   ]
  },
  {
   "cell_type": "code",
   "execution_count": 47,
   "id": "8e71a714-7c6a-4f0c-8a82-0e6c2093d828",
   "metadata": {},
   "outputs": [
    {
     "data": {
      "text/plain": [
       "False"
      ]
     },
     "execution_count": 47,
     "metadata": {},
     "output_type": "execute_result"
    }
   ],
   "source": [
    "a < 5"
   ]
  },
  {
   "cell_type": "code",
   "execution_count": 48,
   "id": "26b0ba12-5147-4247-8c07-ccd3568400be",
   "metadata": {},
   "outputs": [
    {
     "data": {
      "text/plain": [
       "False"
      ]
     },
     "execution_count": 48,
     "metadata": {},
     "output_type": "execute_result"
    }
   ],
   "source": [
    "a != 16"
   ]
  },
  {
   "cell_type": "markdown",
   "id": "c26521dc-59d6-4559-93b3-6989c9629eac",
   "metadata": {},
   "source": [
    "# Logical operator"
   ]
  },
  {
   "cell_type": "code",
   "execution_count": 49,
   "id": "2939f100-00f5-4e9d-90ed-f107b04c6a8e",
   "metadata": {},
   "outputs": [
    {
     "data": {
      "text/plain": [
       "True"
      ]
     },
     "execution_count": 49,
     "metadata": {},
     "output_type": "execute_result"
    }
   ],
   "source": [
    "# and\n",
    "x = 25\n",
    "x < 30 and x > 20"
   ]
  },
  {
   "cell_type": "code",
   "execution_count": 50,
   "id": "0574f360-efff-4e5a-8605-37b7fc20b054",
   "metadata": {},
   "outputs": [
    {
     "data": {
      "text/plain": [
       "False"
      ]
     },
     "execution_count": 50,
     "metadata": {},
     "output_type": "execute_result"
    }
   ],
   "source": [
    "x >= 50 and x < 5"
   ]
  },
  {
   "cell_type": "code",
   "execution_count": 51,
   "id": "ff712f3d-57df-4c72-bb42-76cb911fdb89",
   "metadata": {},
   "outputs": [
    {
     "data": {
      "text/plain": [
       "True"
      ]
     },
     "execution_count": 51,
     "metadata": {},
     "output_type": "execute_result"
    }
   ],
   "source": [
    "# or\n",
    "a = \"rs\"\n",
    "a == \"rs\" or a == 5"
   ]
  },
  {
   "cell_type": "code",
   "execution_count": 52,
   "id": "43d711a6-a4a1-4d5a-8357-8d863ac34535",
   "metadata": {},
   "outputs": [
    {
     "data": {
      "text/plain": [
       "True"
      ]
     },
     "execution_count": 52,
     "metadata": {},
     "output_type": "execute_result"
    }
   ],
   "source": [
    "a == \"rs\""
   ]
  },
  {
   "cell_type": "code",
   "execution_count": 53,
   "id": "61f2db1f-bf66-4b65-9b97-6defdd81b1df",
   "metadata": {},
   "outputs": [
    {
     "data": {
      "text/plain": [
       "False"
      ]
     },
     "execution_count": 53,
     "metadata": {},
     "output_type": "execute_result"
    }
   ],
   "source": [
    "not(a == \"rs\")"
   ]
  },
  {
   "cell_type": "code",
   "execution_count": 54,
   "id": "3cae8f0a-5730-4a41-8119-9fe3d898b540",
   "metadata": {},
   "outputs": [
    {
     "data": {
      "text/plain": [
       "True"
      ]
     },
     "execution_count": 54,
     "metadata": {},
     "output_type": "execute_result"
    }
   ],
   "source": [
    "not a == 5"
   ]
  },
  {
   "cell_type": "markdown",
   "id": "1bfab4ca-96c5-4a54-988e-01b7f690a70e",
   "metadata": {},
   "source": [
    "# Mutable and immutable objects"
   ]
  },
  {
   "cell_type": "code",
   "execution_count": null,
   "id": "ef966f5c-09a4-4edc-bb01-76ecbbc206d8",
   "metadata": {},
   "outputs": [],
   "source": [
    "Mutability\n",
    "immutable data types\n",
    "int, str, float, complex, tuple, None, range\n",
    "\n",
    "mutable data types\n",
    "list, set, dictionary"
   ]
  },
  {
   "cell_type": "code",
   "execution_count": null,
   "id": "9ca52574-6878-4048-b04c-6da9d84659cb",
   "metadata": {},
   "outputs": [],
   "source": []
  },
  {
   "cell_type": "code",
   "execution_count": null,
   "id": "dc3328ce-ef0a-446b-9c77-9fb57d966040",
   "metadata": {},
   "outputs": [],
   "source": []
  },
  {
   "cell_type": "code",
   "execution_count": 55,
   "id": "645b15dd-04a5-4294-8981-70155e61070f",
   "metadata": {},
   "outputs": [
    {
     "name": "stdout",
     "output_type": "stream",
     "text": [
      "140729764939368\n"
     ]
    }
   ],
   "source": [
    "a = 23\n",
    "print(id(a))"
   ]
  },
  {
   "cell_type": "code",
   "execution_count": 57,
   "id": "57c8f976-c5c3-420d-85c5-901f1912e854",
   "metadata": {},
   "outputs": [
    {
     "name": "stdout",
     "output_type": "stream",
     "text": [
      "140729764939400\n",
      "140729764939368\n"
     ]
    }
   ],
   "source": [
    "a += 1\n",
    "print(id(a))\n",
    "print(id(23))"
   ]
  },
  {
   "cell_type": "code",
   "execution_count": 56,
   "id": "7a77a005-6b75-423e-b5f3-e88c60f868ac",
   "metadata": {},
   "outputs": [
    {
     "data": {
      "text/plain": [
       "140729764939368"
      ]
     },
     "execution_count": 56,
     "metadata": {},
     "output_type": "execute_result"
    }
   ],
   "source": [
    "id(23)"
   ]
  },
  {
   "cell_type": "markdown",
   "id": "fbfd4917-24da-411e-b145-48f373a49230",
   "metadata": {},
   "source": [
    "## Membership operator"
   ]
  },
  {
   "cell_type": "code",
   "execution_count": 59,
   "id": "c10773a2-b793-4cd1-ab0a-c03028cb62b7",
   "metadata": {},
   "outputs": [
    {
     "data": {
      "text/plain": [
       "False"
      ]
     },
     "execution_count": 59,
     "metadata": {},
     "output_type": "execute_result"
    }
   ],
   "source": [
    "l = [1, 2 ,5, \"Sharadh\"]\n",
    "\"sharad\" in l"
   ]
  },
  {
   "cell_type": "code",
   "execution_count": 61,
   "id": "7f44b23f-0d33-4445-aea5-3d1ca8bd5bdc",
   "metadata": {},
   "outputs": [
    {
     "data": {
      "text/plain": [
       "True"
      ]
     },
     "execution_count": 61,
     "metadata": {},
     "output_type": "execute_result"
    }
   ],
   "source": [
    "\"Sharadh\" in l"
   ]
  },
  {
   "cell_type": "code",
   "execution_count": 62,
   "id": "7d2d66ed-4e47-4046-a27e-ca56ed96cf05",
   "metadata": {},
   "outputs": [
    {
     "data": {
      "text/plain": [
       "True"
      ]
     },
     "execution_count": 62,
     "metadata": {},
     "output_type": "execute_result"
    }
   ],
   "source": [
    "1 in l"
   ]
  },
  {
   "cell_type": "code",
   "execution_count": 63,
   "id": "2805954a-4d03-438f-a4c8-e1b50f66642d",
   "metadata": {},
   "outputs": [
    {
     "data": {
      "text/plain": [
       "False"
      ]
     },
     "execution_count": 63,
     "metadata": {},
     "output_type": "execute_result"
    }
   ],
   "source": [
    "3 in l"
   ]
  },
  {
   "cell_type": "code",
   "execution_count": 64,
   "id": "a280be40-e320-4d45-9db8-a7044b9d5ba0",
   "metadata": {},
   "outputs": [
    {
     "data": {
      "text/plain": [
       "True"
      ]
     },
     "execution_count": 64,
     "metadata": {},
     "output_type": "execute_result"
    }
   ],
   "source": [
    "3 not in l"
   ]
  },
  {
   "cell_type": "markdown",
   "id": "5e146f30-1579-45a6-9e45-ed8dfd18c577",
   "metadata": {},
   "source": [
    "## Strings"
   ]
  },
  {
   "cell_type": "code",
   "execution_count": null,
   "id": "3f9c0c85-5ab4-48d1-8c6c-1870d25b065b",
   "metadata": {},
   "outputs": [],
   "source": [
    "single line strings\n",
    "    single quote --> '<your things>'\n",
    "    double quotes --> \"blah blah...\"\n",
    "multiline string\n",
    "    single quote --> '''\n",
    "                     hey I am from multi line\n",
    "                     and I am the next line\n",
    "                     '''\n",
    "    double quotes --> \"\"\"\n",
    "                      hey I am from double quote multi line string\n",
    "                      and I am the next line\n",
    "                      \"\"\""
   ]
  },
  {
   "cell_type": "code",
   "execution_count": 65,
   "id": "3d69c096-7fda-4c85-973c-22f9be6a9fe8",
   "metadata": {},
   "outputs": [
    {
     "ename": "SyntaxError",
     "evalue": "unterminated string literal (detected at line 1) (69090079.py, line 1)",
     "output_type": "error",
     "traceback": [
      "\u001b[1;36m  Cell \u001b[1;32mIn[65], line 1\u001b[1;36m\u001b[0m\n\u001b[1;33m    \"line 1\u001b[0m\n\u001b[1;37m    ^\u001b[0m\n\u001b[1;31mSyntaxError\u001b[0m\u001b[1;31m:\u001b[0m unterminated string literal (detected at line 1)\n"
     ]
    }
   ],
   "source": [
    "\"line 1\n",
    "line2\""
   ]
  },
  {
   "cell_type": "code",
   "execution_count": 66,
   "id": "486682bb-3790-41b1-a7a8-9c5710d77ef3",
   "metadata": {},
   "outputs": [
    {
     "data": {
      "text/plain": [
       "'\\nline1\\nline2\\nline3\\n'"
      ]
     },
     "execution_count": 66,
     "metadata": {},
     "output_type": "execute_result"
    }
   ],
   "source": [
    "\"\"\"\n",
    "line1\n",
    "line2\n",
    "line3\n",
    "\"\"\""
   ]
  },
  {
   "cell_type": "code",
   "execution_count": 67,
   "id": "2367a91f-5c3d-4c34-af3d-6b419c30a69b",
   "metadata": {},
   "outputs": [
    {
     "name": "stdout",
     "output_type": "stream",
     "text": [
      "\n",
      "line1\n",
      "line2\n",
      "line3\n",
      "\n"
     ]
    }
   ],
   "source": [
    "s = \"\"\"\n",
    "line1\n",
    "line2\n",
    "line3\n",
    "\"\"\"\n",
    "print(s)"
   ]
  },
  {
   "cell_type": "code",
   "execution_count": 68,
   "id": "29187f61-1289-464c-b499-314826131ba0",
   "metadata": {},
   "outputs": [],
   "source": [
    "a = \"hello\""
   ]
  },
  {
   "cell_type": "code",
   "execution_count": 69,
   "id": "db891f13-ce9f-42de-aec4-d03e80a4f767",
   "metadata": {},
   "outputs": [
    {
     "name": "stdout",
     "output_type": "stream",
     "text": [
      "hello\n"
     ]
    }
   ],
   "source": [
    "print(a)"
   ]
  },
  {
   "cell_type": "code",
   "execution_count": null,
   "id": "34fb29e5-7d58-473c-825b-df6bcbf1f1ff",
   "metadata": {},
   "outputs": [],
   "source": [
    "# what is the first element of a --> h\n"
   ]
  },
  {
   "cell_type": "code",
   "execution_count": 70,
   "id": "59801b02-8073-4aba-9627-51c743ddc3aa",
   "metadata": {},
   "outputs": [
    {
     "data": {
      "text/plain": [
       "'h'"
      ]
     },
     "execution_count": 70,
     "metadata": {},
     "output_type": "execute_result"
    }
   ],
   "source": [
    "a[0]"
   ]
  },
  {
   "cell_type": "code",
   "execution_count": 71,
   "id": "466ff252-c38b-49c2-8ef1-bc5d17360698",
   "metadata": {},
   "outputs": [
    {
     "data": {
      "text/plain": [
       "5"
      ]
     },
     "execution_count": 71,
     "metadata": {},
     "output_type": "execute_result"
    }
   ],
   "source": [
    "len(a)"
   ]
  },
  {
   "cell_type": "code",
   "execution_count": 72,
   "id": "eed575b0-3cd4-4439-a6ef-53b192c8609a",
   "metadata": {},
   "outputs": [
    {
     "data": {
      "text/plain": [
       "'o'"
      ]
     },
     "execution_count": 72,
     "metadata": {},
     "output_type": "execute_result"
    }
   ],
   "source": [
    "a[4]"
   ]
  },
  {
   "cell_type": "code",
   "execution_count": 73,
   "id": "a2e85f6a-d608-488b-b2f9-5312cc5b7e34",
   "metadata": {},
   "outputs": [
    {
     "ename": "IndexError",
     "evalue": "string index out of range",
     "output_type": "error",
     "traceback": [
      "\u001b[1;31m---------------------------------------------------------------------------\u001b[0m",
      "\u001b[1;31mIndexError\u001b[0m                                Traceback (most recent call last)",
      "Cell \u001b[1;32mIn[73], line 1\u001b[0m\n\u001b[1;32m----> 1\u001b[0m \u001b[43ma\u001b[49m\u001b[43m[\u001b[49m\u001b[38;5;241;43m5\u001b[39;49m\u001b[43m]\u001b[49m\n",
      "\u001b[1;31mIndexError\u001b[0m: string index out of range"
     ]
    }
   ],
   "source": [
    "a[5]"
   ]
  },
  {
   "cell_type": "code",
   "execution_count": 74,
   "id": "97c403b3-5cfc-49da-a653-3ed9412935d8",
   "metadata": {},
   "outputs": [
    {
     "data": {
      "text/plain": [
       "'l'"
      ]
     },
     "execution_count": 74,
     "metadata": {},
     "output_type": "execute_result"
    }
   ],
   "source": [
    "a[2]"
   ]
  },
  {
   "cell_type": "code",
   "execution_count": 75,
   "id": "e4301328-b7b3-4176-b6c8-35b95e798d7d",
   "metadata": {},
   "outputs": [
    {
     "data": {
      "text/plain": [
       "'g'"
      ]
     },
     "execution_count": 75,
     "metadata": {},
     "output_type": "execute_result"
    }
   ],
   "source": [
    "s1 = \"hey I am dancing\"\n",
    "s1[len(s1)-1]"
   ]
  },
  {
   "cell_type": "markdown",
   "id": "c9754410-7725-4333-8d1a-68033bdb8574",
   "metadata": {},
   "source": [
    "# Negative indexing"
   ]
  },
  {
   "cell_type": "code",
   "execution_count": 76,
   "id": "cd9b6a58-6365-4c6e-b36d-92a8dd86875e",
   "metadata": {},
   "outputs": [
    {
     "data": {
      "text/plain": [
       "'g'"
      ]
     },
     "execution_count": 76,
     "metadata": {},
     "output_type": "execute_result"
    }
   ],
   "source": [
    "s1[-1]"
   ]
  },
  {
   "cell_type": "code",
   "execution_count": null,
   "id": "cf567029-da9b-484f-8e47-f9c70de4d978",
   "metadata": {},
   "outputs": [],
   "source": [
    " 0  1  2  3  4  5  6  7  8  9  10 11 12\n",
    " h  e  y  I  a  m  d  a  n  c  i  n  g\n",
    "-13                        -4 -3 -2 -1"
   ]
  },
  {
   "cell_type": "code",
   "execution_count": 80,
   "id": "1380a916-84a0-476a-a241-b48d7e461b14",
   "metadata": {},
   "outputs": [],
   "source": [
    "s1 = \"heyIamdancing\""
   ]
  },
  {
   "cell_type": "code",
   "execution_count": 81,
   "id": "31f71abc-2b2c-4a63-9d3f-5ceeae075498",
   "metadata": {},
   "outputs": [
    {
     "data": {
      "text/plain": [
       "'h'"
      ]
     },
     "execution_count": 81,
     "metadata": {},
     "output_type": "execute_result"
    }
   ],
   "source": [
    "s1[0]"
   ]
  },
  {
   "cell_type": "code",
   "execution_count": 83,
   "id": "1f838b9b-92ff-47c7-8a7d-0f249a98390d",
   "metadata": {},
   "outputs": [
    {
     "data": {
      "text/plain": [
       "'h'"
      ]
     },
     "execution_count": 83,
     "metadata": {},
     "output_type": "execute_result"
    }
   ],
   "source": [
    "s1[-13]"
   ]
  },
  {
   "cell_type": "code",
   "execution_count": 84,
   "id": "0ec8fceb-9131-4013-b7ae-c183fe1da47f",
   "metadata": {},
   "outputs": [
    {
     "data": {
      "text/plain": [
       "True"
      ]
     },
     "execution_count": 84,
     "metadata": {},
     "output_type": "execute_result"
    }
   ],
   "source": [
    "\"am\" in s1"
   ]
  },
  {
   "cell_type": "markdown",
   "id": "a719e3c0-0c4c-454d-8203-7d752f92d1c6",
   "metadata": {},
   "source": [
    "# Slicing"
   ]
  },
  {
   "cell_type": "code",
   "execution_count": 85,
   "id": "a4e5bc62-f507-4ec5-bf1e-c22c1f529638",
   "metadata": {},
   "outputs": [],
   "source": [
    "# it helps us to return the range of the charachters"
   ]
  },
  {
   "cell_type": "code",
   "execution_count": 86,
   "id": "32134a78-50e7-4c18-b15a-cfa853064e8e",
   "metadata": {},
   "outputs": [
    {
     "data": {
      "text/plain": [
       "'yoda'"
      ]
     },
     "execution_count": 86,
     "metadata": {},
     "output_type": "execute_result"
    }
   ],
   "source": [
    "s = \"Edyoda\"\n",
    "s[2:]"
   ]
  },
  {
   "cell_type": "code",
   "execution_count": null,
   "id": "9d452ff3-a0c7-46ef-8cee-e2de5cff610c",
   "metadata": {},
   "outputs": [],
   "source": [
    "syntax of slicing --> string[start:end]"
   ]
  },
  {
   "cell_type": "code",
   "execution_count": 87,
   "id": "1ddb8a9c-e272-4448-8cd4-8a22efd2078d",
   "metadata": {},
   "outputs": [],
   "source": [
    "a = \"abcdefghijklmnopqrstuvwxyz\"\n",
    "# 0-25"
   ]
  },
  {
   "cell_type": "code",
   "execution_count": 88,
   "id": "6c246ed5-5b96-4fa6-97e3-acf6f0d3e591",
   "metadata": {},
   "outputs": [
    {
     "data": {
      "text/plain": [
       "'abcdefg'"
      ]
     },
     "execution_count": 88,
     "metadata": {},
     "output_type": "execute_result"
    }
   ],
   "source": [
    "a[0:7]"
   ]
  },
  {
   "cell_type": "code",
   "execution_count": 89,
   "id": "d3088509-3605-4593-8cb3-31aa433595e2",
   "metadata": {},
   "outputs": [
    {
     "data": {
      "text/plain": [
       "'abcdefgh'"
      ]
     },
     "execution_count": 89,
     "metadata": {},
     "output_type": "execute_result"
    }
   ],
   "source": [
    "a[0:8]"
   ]
  },
  {
   "cell_type": "code",
   "execution_count": 90,
   "id": "c7c652b9-50cb-438c-b381-1c2475d10bbc",
   "metadata": {},
   "outputs": [
    {
     "data": {
      "text/plain": [
       "'abcdefgh'"
      ]
     },
     "execution_count": 90,
     "metadata": {},
     "output_type": "execute_result"
    }
   ],
   "source": [
    "a[:8]"
   ]
  },
  {
   "cell_type": "code",
   "execution_count": 91,
   "id": "bb540cf1-081b-4a74-8065-8fba261c8ce4",
   "metadata": {},
   "outputs": [
    {
     "data": {
      "text/plain": [
       "'ijklmnopqrstuvwxyz'"
      ]
     },
     "execution_count": 91,
     "metadata": {},
     "output_type": "execute_result"
    }
   ],
   "source": [
    "a[8:]"
   ]
  },
  {
   "cell_type": "code",
   "execution_count": 92,
   "id": "887ae202-c3cc-4639-878a-b96c811eca85",
   "metadata": {},
   "outputs": [
    {
     "data": {
      "text/plain": [
       "'hijklmnopqrstuvwxyz'"
      ]
     },
     "execution_count": 92,
     "metadata": {},
     "output_type": "execute_result"
    }
   ],
   "source": [
    "a[7:]"
   ]
  },
  {
   "cell_type": "code",
   "execution_count": 93,
   "id": "8ba6fd2b-d53f-4a27-a6eb-484674149263",
   "metadata": {},
   "outputs": [
    {
     "data": {
      "text/plain": [
       "'hijklmnopqrstuvwxyz'"
      ]
     },
     "execution_count": 93,
     "metadata": {},
     "output_type": "execute_result"
    }
   ],
   "source": [
    "a[7:26]"
   ]
  },
  {
   "cell_type": "code",
   "execution_count": 94,
   "id": "f66d7428-fd82-4f29-ab18-237d2c938db7",
   "metadata": {},
   "outputs": [
    {
     "data": {
      "text/plain": [
       "'acegikmoqsuwy'"
      ]
     },
     "execution_count": 94,
     "metadata": {},
     "output_type": "execute_result"
    }
   ],
   "source": [
    "# striding\n",
    "# syntax for striding --> string[start: end: step]\n",
    "a[::2]"
   ]
  },
  {
   "cell_type": "code",
   "execution_count": 95,
   "id": "443b5364-dcbc-48b8-96a9-83825c97064f",
   "metadata": {},
   "outputs": [
    {
     "data": {
      "text/plain": [
       "'afkpuz'"
      ]
     },
     "execution_count": 95,
     "metadata": {},
     "output_type": "execute_result"
    }
   ],
   "source": [
    "a[::5]"
   ]
  },
  {
   "cell_type": "code",
   "execution_count": 96,
   "id": "4e9466f6-37eb-4a24-8374-82dea9c8be53",
   "metadata": {},
   "outputs": [
    {
     "data": {
      "text/plain": [
       "'cfilorux'"
      ]
     },
     "execution_count": 96,
     "metadata": {},
     "output_type": "execute_result"
    }
   ],
   "source": [
    "a[2::3]"
   ]
  },
  {
   "cell_type": "code",
   "execution_count": 97,
   "id": "017af572-ec6f-4938-a587-5fb542bcc0d0",
   "metadata": {},
   "outputs": [
    {
     "data": {
      "text/plain": [
       "'zyxwvutsrqponmlkjihgfedcba'"
      ]
     },
     "execution_count": 97,
     "metadata": {},
     "output_type": "execute_result"
    }
   ],
   "source": [
    "a[::-1]"
   ]
  },
  {
   "cell_type": "code",
   "execution_count": null,
   "id": "6a97cb25-2e00-4636-9912-9ac83c426c72",
   "metadata": {},
   "outputs": [],
   "source": [
    "start value?\n",
    "end value ?"
   ]
  },
  {
   "cell_type": "code",
   "execution_count": 98,
   "id": "786ff4a8-9eb5-455c-824a-08e4e085b8e0",
   "metadata": {},
   "outputs": [
    {
     "data": {
      "text/plain": [
       "'zyxwvutsrqponmlkjihgfedcb'"
      ]
     },
     "execution_count": 98,
     "metadata": {},
     "output_type": "execute_result"
    }
   ],
   "source": [
    "a[25:0:-1]"
   ]
  },
  {
   "cell_type": "code",
   "execution_count": 101,
   "id": "871c45c6-cab7-4f0c-9843-bcdac91b0c85",
   "metadata": {},
   "outputs": [
    {
     "data": {
      "text/plain": [
       "'zyxwvutsrqponmlkjihgfedcba'"
      ]
     },
     "execution_count": 101,
     "metadata": {},
     "output_type": "execute_result"
    }
   ],
   "source": [
    "a[25::-1]"
   ]
  },
  {
   "cell_type": "code",
   "execution_count": 102,
   "id": "cb742d2b-67d7-43f6-b780-d53c75bbdf04",
   "metadata": {},
   "outputs": [
    {
     "data": {
      "text/plain": [
       "'zyxwvutsrqponmlkjihgfedc'"
      ]
     },
     "execution_count": 102,
     "metadata": {},
     "output_type": "execute_result"
    }
   ],
   "source": [
    "a[25:1:-1]"
   ]
  },
  {
   "cell_type": "code",
   "execution_count": 103,
   "id": "a09dccd3-ae6e-455d-8cec-dcc520fa1fdb",
   "metadata": {},
   "outputs": [
    {
     "data": {
      "text/plain": [
       "'usqomkige'"
      ]
     },
     "execution_count": 103,
     "metadata": {},
     "output_type": "execute_result"
    }
   ],
   "source": [
    "a[20:2:-2]"
   ]
  },
  {
   "cell_type": "code",
   "execution_count": 104,
   "id": "6bf32632-8289-4b4c-b6ff-7b395d9efbe2",
   "metadata": {},
   "outputs": [
    {
     "data": {
      "text/plain": [
       "'zxvtrpnljhfdb'"
      ]
     },
     "execution_count": 104,
     "metadata": {},
     "output_type": "execute_result"
    }
   ],
   "source": [
    "a[::-2]"
   ]
  },
  {
   "cell_type": "code",
   "execution_count": null,
   "id": "ddaadf41-1303-45c9-8995-7520082378a1",
   "metadata": {},
   "outputs": [],
   "source": []
  },
  {
   "cell_type": "code",
   "execution_count": null,
   "id": "9ff8fd3d-d94e-4d8a-8f29-aa25bd844610",
   "metadata": {},
   "outputs": [],
   "source": []
  },
  {
   "cell_type": "code",
   "execution_count": null,
   "id": "4dfdcf7b-8fb5-470c-b05b-01e2886a3309",
   "metadata": {},
   "outputs": [],
   "source": []
  },
  {
   "cell_type": "code",
   "execution_count": null,
   "id": "8cd3dc04-43da-45bf-accf-875d2d6b1303",
   "metadata": {},
   "outputs": [],
   "source": []
  },
  {
   "cell_type": "markdown",
   "id": "237e2371-77f6-4c50-afef-bfd5d3f52c61",
   "metadata": {},
   "source": [
    "https://www.markdownguide.org/cheat-sheet/"
   ]
  }
 ],
 "metadata": {
  "kernelspec": {
   "display_name": "Python 3 (ipykernel)",
   "language": "python",
   "name": "python3"
  },
  "language_info": {
   "codemirror_mode": {
    "name": "ipython",
    "version": 3
   },
   "file_extension": ".py",
   "mimetype": "text/x-python",
   "name": "python",
   "nbconvert_exporter": "python",
   "pygments_lexer": "ipython3",
   "version": "3.13.1"
  }
 },
 "nbformat": 4,
 "nbformat_minor": 5
}
