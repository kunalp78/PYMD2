{
 "cells": [
  {
   "cell_type": "code",
   "execution_count": null,
   "id": "26980295-0fc5-4915-9c62-9f57cd0c730a",
   "metadata": {},
   "outputs": [],
   "source": [
    "# data type\n",
    "\"name\"\n",
    "\"hey I am studying python\"\n",
    "1 2 3 2.0 6.2\n",
    "2 + 6i"
   ]
  },
  {
   "cell_type": "code",
   "execution_count": null,
   "id": "5ff57d9d-aa06-44d0-b459-98bfacd6df5a",
   "metadata": {},
   "outputs": [],
   "source": [
    "string --> \"name\" \"asleen\"\n",
    "number\n",
    "    int --> 1,2,3,4\n",
    "    float\n",
    "bool --> True, False\n",
    "complex --> 5+3j, 2+6j, 9j\n",
    "None\n",
    "\n",
    "collection:\n",
    "    list --> [1, 2, \"elephant\", True, 1] --> mutable data type\n",
    "    tuple --> (1, 2, \"rabbit\", 1) --> immutable data type\n",
    "    set --> {1, 2, 3} --> it stores uniqe data (mutable data type)\n",
    "    dictionary --> {\"value1\": 125, \"value2\": [5,1,2], 5: \"string2\"} --> mutable daat type\n",
    "    range --> range(10) --> 0-9 (immutable data type)"
   ]
  },
  {
   "cell_type": "code",
   "execution_count": 1,
   "id": "b619566d-ad44-4224-b391-be5d7e011eff",
   "metadata": {},
   "outputs": [],
   "source": [
    "a = \"harjit\""
   ]
  },
  {
   "cell_type": "code",
   "execution_count": 2,
   "id": "027cc7de-8fad-4f3e-b409-98ed99948759",
   "metadata": {},
   "outputs": [
    {
     "name": "stdout",
     "output_type": "stream",
     "text": [
      "harjit\n"
     ]
    }
   ],
   "source": [
    "print(a)"
   ]
  },
  {
   "cell_type": "code",
   "execution_count": 3,
   "id": "8e5a17bb-fab5-453b-9e63-0c3d06800380",
   "metadata": {},
   "outputs": [],
   "source": [
    "a = 5 + 3j"
   ]
  },
  {
   "cell_type": "code",
   "execution_count": 4,
   "id": "6b85f601-6d9b-4dd5-8dae-aa76e1371380",
   "metadata": {},
   "outputs": [
    {
     "name": "stdout",
     "output_type": "stream",
     "text": [
      "(5+3j)\n"
     ]
    }
   ],
   "source": [
    "print(a)"
   ]
  },
  {
   "cell_type": "code",
   "execution_count": 5,
   "id": "751cee8f-9b0a-4d19-af9b-642d952c914b",
   "metadata": {},
   "outputs": [
    {
     "data": {
      "text/plain": [
       "8"
      ]
     },
     "execution_count": 5,
     "metadata": {},
     "output_type": "execute_result"
    }
   ],
   "source": [
    "5 + 3"
   ]
  },
  {
   "cell_type": "code",
   "execution_count": 6,
   "id": "54ca6c99-4009-40f0-a206-fc15f2460e76",
   "metadata": {},
   "outputs": [
    {
     "data": {
      "text/plain": [
       "9"
      ]
     },
     "execution_count": 6,
     "metadata": {},
     "output_type": "execute_result"
    }
   ],
   "source": [
    "7 + 2"
   ]
  },
  {
   "cell_type": "code",
   "execution_count": 7,
   "id": "080ff589-cb36-4eae-9b58-9de3eee1226f",
   "metadata": {},
   "outputs": [
    {
     "data": {
      "text/plain": [
       "6"
      ]
     },
     "execution_count": 7,
     "metadata": {},
     "output_type": "execute_result"
    }
   ],
   "source": [
    "8 - 2"
   ]
  },
  {
   "cell_type": "code",
   "execution_count": 8,
   "id": "8a33ffb4-2f79-4119-87d2-95d13f59c5e2",
   "metadata": {},
   "outputs": [
    {
     "data": {
      "text/plain": [
       "-90"
      ]
     },
     "execution_count": 8,
     "metadata": {},
     "output_type": "execute_result"
    }
   ],
   "source": [
    " 10-100"
   ]
  },
  {
   "cell_type": "code",
   "execution_count": 9,
   "id": "033ef2d2-67ce-4fb5-b18b-473a7488dbaa",
   "metadata": {},
   "outputs": [],
   "source": [
    "d = [1, 5, \"RS\"]"
   ]
  },
  {
   "cell_type": "code",
   "execution_count": 10,
   "id": "2c5aaef2-92dd-4b7e-b626-a53fac635ccc",
   "metadata": {},
   "outputs": [
    {
     "name": "stdout",
     "output_type": "stream",
     "text": [
      "[1, 5, 'RS']\n"
     ]
    }
   ],
   "source": [
    "print(d)"
   ]
  },
  {
   "cell_type": "code",
   "execution_count": 11,
   "id": "f2c0b601-2bd4-4a56-9cd5-3bdebe9b9fe4",
   "metadata": {},
   "outputs": [
    {
     "data": {
      "text/plain": [
       "list"
      ]
     },
     "execution_count": 11,
     "metadata": {},
     "output_type": "execute_result"
    }
   ],
   "source": [
    "type(d)"
   ]
  },
  {
   "cell_type": "code",
   "execution_count": 12,
   "id": "27b5d18a-6d97-45f9-9ab2-4cec4603ea65",
   "metadata": {},
   "outputs": [
    {
     "data": {
      "text/plain": [
       "complex"
      ]
     },
     "execution_count": 12,
     "metadata": {},
     "output_type": "execute_result"
    }
   ],
   "source": [
    "type(a)"
   ]
  },
  {
   "cell_type": "code",
   "execution_count": 13,
   "id": "cf74684f-f6e8-4f2a-90b3-c4feaa64114c",
   "metadata": {},
   "outputs": [
    {
     "name": "stdout",
     "output_type": "stream",
     "text": [
      "<class 'int'>\n"
     ]
    }
   ],
   "source": [
    "a = 5\n",
    "print(type(a))"
   ]
  },
  {
   "cell_type": "code",
   "execution_count": 14,
   "id": "a2c7135a-8291-421b-8adf-a6980d553c19",
   "metadata": {},
   "outputs": [
    {
     "name": "stdout",
     "output_type": "stream",
     "text": [
      "<class 'dict'>\n"
     ]
    }
   ],
   "source": [
    "b = {\"k\":25}\n",
    "print(type(b))"
   ]
  },
  {
   "cell_type": "code",
   "execution_count": 15,
   "id": "b34fdb77-36a2-42f6-94a5-c6f568f4df68",
   "metadata": {},
   "outputs": [
    {
     "data": {
      "text/plain": [
       "set"
      ]
     },
     "execution_count": 15,
     "metadata": {},
     "output_type": "execute_result"
    }
   ],
   "source": [
    "s = {1, 2, 3}\n",
    "type(s)"
   ]
  },
  {
   "cell_type": "code",
   "execution_count": 16,
   "id": "86a6d68f-e7f9-46e4-b0a2-03ae744b3088",
   "metadata": {},
   "outputs": [
    {
     "name": "stdout",
     "output_type": "stream",
     "text": [
      "<class 'set'>\n"
     ]
    }
   ],
   "source": [
    "print(type(s))"
   ]
  },
  {
   "cell_type": "code",
   "execution_count": 17,
   "id": "cbeb6cbf-f389-4975-adb8-2a114f6e698e",
   "metadata": {},
   "outputs": [
    {
     "data": {
      "text/plain": [
       "tuple"
      ]
     },
     "execution_count": 17,
     "metadata": {},
     "output_type": "execute_result"
    }
   ],
   "source": [
    "l = (1, 2, 3)\n",
    "type(l)"
   ]
  },
  {
   "cell_type": "code",
   "execution_count": 18,
   "id": "bfefda26-37bc-4c32-ada9-e713dac2b4a5",
   "metadata": {},
   "outputs": [],
   "source": [
    "r = range(5)"
   ]
  },
  {
   "cell_type": "code",
   "execution_count": 19,
   "id": "7dac495c-8d80-44f1-b255-089f117614f2",
   "metadata": {},
   "outputs": [
    {
     "data": {
      "text/plain": [
       "range(0, 5)"
      ]
     },
     "execution_count": 19,
     "metadata": {},
     "output_type": "execute_result"
    }
   ],
   "source": [
    "r"
   ]
  },
  {
   "cell_type": "code",
   "execution_count": 20,
   "id": "9acf1ac7-f12b-4ad2-a0a8-c41a3c3f6319",
   "metadata": {},
   "outputs": [],
   "source": [
    "r = range(1, 5)"
   ]
  },
  {
   "cell_type": "code",
   "execution_count": 21,
   "id": "7fd55c0d-51cd-4a2f-b879-d9bc6ea3f387",
   "metadata": {},
   "outputs": [
    {
     "name": "stdout",
     "output_type": "stream",
     "text": [
      "<class 'range'>\n"
     ]
    }
   ],
   "source": [
    "print(type(r))"
   ]
  },
  {
   "cell_type": "code",
   "execution_count": null,
   "id": "3f650345-f454-4335-98ec-e2b297bfcc22",
   "metadata": {},
   "outputs": [],
   "source": [
    "# operators\n",
    "# arithmatic operators \n",
    "    +, -, /, *, //, %, **\n",
    "# assignment operator\n",
    "    =, +=, -=\n",
    "# comparison operator\n",
    "# logical operator\n",
    "# identity operator"
   ]
  },
  {
   "cell_type": "code",
   "execution_count": 22,
   "id": "8a860507-261e-4d05-a897-2b49709e4c82",
   "metadata": {},
   "outputs": [
    {
     "data": {
      "text/plain": [
       "2.0"
      ]
     },
     "execution_count": 22,
     "metadata": {},
     "output_type": "execute_result"
    }
   ],
   "source": [
    "2/1"
   ]
  },
  {
   "cell_type": "code",
   "execution_count": 23,
   "id": "b46c1d01-9501-4ded-b234-01f993057b76",
   "metadata": {},
   "outputs": [
    {
     "data": {
      "text/plain": [
       "2.0"
      ]
     },
     "execution_count": 23,
     "metadata": {},
     "output_type": "execute_result"
    }
   ],
   "source": [
    "4/2"
   ]
  },
  {
   "cell_type": "code",
   "execution_count": 24,
   "id": "7fdb82f6-ac76-4f9d-a746-ba2d63c85ed0",
   "metadata": {},
   "outputs": [
    {
     "data": {
      "text/plain": [
       "15"
      ]
     },
     "execution_count": 24,
     "metadata": {},
     "output_type": "execute_result"
    }
   ],
   "source": [
    "5*3"
   ]
  },
  {
   "cell_type": "code",
   "execution_count": 25,
   "id": "dfc559f2-631a-428e-a8ce-d8ee168a14e5",
   "metadata": {},
   "outputs": [
    {
     "data": {
      "text/plain": [
       "2.5"
      ]
     },
     "execution_count": 25,
     "metadata": {},
     "output_type": "execute_result"
    }
   ],
   "source": [
    "5/2"
   ]
  },
  {
   "cell_type": "code",
   "execution_count": 26,
   "id": "15b939ce-45cd-4af5-8bc1-f05ff794bced",
   "metadata": {},
   "outputs": [
    {
     "data": {
      "text/plain": [
       "2"
      ]
     },
     "execution_count": 26,
     "metadata": {},
     "output_type": "execute_result"
    }
   ],
   "source": [
    "5//2"
   ]
  },
  {
   "cell_type": "code",
   "execution_count": 27,
   "id": "386d9b3c-8d34-4d16-b743-a85d79fe1eda",
   "metadata": {},
   "outputs": [
    {
     "data": {
      "text/plain": [
       "1"
      ]
     },
     "execution_count": 27,
     "metadata": {},
     "output_type": "execute_result"
    }
   ],
   "source": [
    "5%2"
   ]
  },
  {
   "cell_type": "code",
   "execution_count": 28,
   "id": "524cef89-e8e8-4423-addb-813f9fb3c6fc",
   "metadata": {},
   "outputs": [
    {
     "data": {
      "text/plain": [
       "81"
      ]
     },
     "execution_count": 28,
     "metadata": {},
     "output_type": "execute_result"
    }
   ],
   "source": [
    "3**4"
   ]
  },
  {
   "cell_type": "code",
   "execution_count": 30,
   "id": "4d368586-0046-418e-82aa-5b7345727bb5",
   "metadata": {},
   "outputs": [
    {
     "data": {
      "text/plain": [
       "2"
      ]
     },
     "execution_count": 30,
     "metadata": {},
     "output_type": "execute_result"
    }
   ],
   "source": [
    "7//3"
   ]
  },
  {
   "cell_type": "markdown",
   "id": "3d259668-eb76-4a92-8ce4-5fa994dde3d7",
   "metadata": {},
   "source": [
    "# Assignment operator"
   ]
  },
  {
   "cell_type": "code",
   "execution_count": 31,
   "id": "1d1123e1-d6c2-4277-bbd4-3c756c99250a",
   "metadata": {},
   "outputs": [],
   "source": [
    "a = 3"
   ]
  },
  {
   "cell_type": "code",
   "execution_count": 32,
   "id": "5606013d-ce34-4d3f-bdd0-464dbdb3996f",
   "metadata": {},
   "outputs": [
    {
     "data": {
      "text/plain": [
       "4"
      ]
     },
     "execution_count": 32,
     "metadata": {},
     "output_type": "execute_result"
    }
   ],
   "source": [
    "a + 1"
   ]
  },
  {
   "cell_type": "code",
   "execution_count": 33,
   "id": "4513f299-5d8a-4e1c-b708-299493d812d2",
   "metadata": {},
   "outputs": [
    {
     "data": {
      "text/plain": [
       "3"
      ]
     },
     "execution_count": 33,
     "metadata": {},
     "output_type": "execute_result"
    }
   ],
   "source": [
    "a"
   ]
  },
  {
   "cell_type": "code",
   "execution_count": 34,
   "id": "9ccb794c-dfe7-455a-9c86-008ea3555f0e",
   "metadata": {},
   "outputs": [],
   "source": [
    "a = a + 1"
   ]
  },
  {
   "cell_type": "code",
   "execution_count": 35,
   "id": "3fc038bf-3b90-4b06-97f4-12ea8db41be4",
   "metadata": {},
   "outputs": [
    {
     "data": {
      "text/plain": [
       "4"
      ]
     },
     "execution_count": 35,
     "metadata": {},
     "output_type": "execute_result"
    }
   ],
   "source": [
    "a"
   ]
  },
  {
   "cell_type": "code",
   "execution_count": 36,
   "id": "a1a02ea4-f448-4594-815c-ef8271aed5e3",
   "metadata": {},
   "outputs": [],
   "source": [
    "a += 1"
   ]
  },
  {
   "cell_type": "code",
   "execution_count": 37,
   "id": "25efdbca-da39-4669-a41c-c5091a862306",
   "metadata": {},
   "outputs": [
    {
     "data": {
      "text/plain": [
       "5"
      ]
     },
     "execution_count": 37,
     "metadata": {},
     "output_type": "execute_result"
    }
   ],
   "source": [
    "a"
   ]
  },
  {
   "cell_type": "code",
   "execution_count": 38,
   "id": "1ba83a92-7e4b-4ee0-9d8e-6c483d0b48bb",
   "metadata": {},
   "outputs": [],
   "source": [
    "a += 5"
   ]
  },
  {
   "cell_type": "code",
   "execution_count": 39,
   "id": "7b82b0d7-c0bb-4d15-964f-455bf4c7ee7b",
   "metadata": {},
   "outputs": [
    {
     "data": {
      "text/plain": [
       "10"
      ]
     },
     "execution_count": 39,
     "metadata": {},
     "output_type": "execute_result"
    }
   ],
   "source": [
    "a"
   ]
  },
  {
   "cell_type": "code",
   "execution_count": 40,
   "id": "d28c874b-2ac3-479a-8691-83fab379a2a7",
   "metadata": {},
   "outputs": [],
   "source": [
    "a -= 2"
   ]
  },
  {
   "cell_type": "code",
   "execution_count": 41,
   "id": "c6cfb218-b898-452f-9aaa-5da2ec435441",
   "metadata": {},
   "outputs": [
    {
     "name": "stdout",
     "output_type": "stream",
     "text": [
      "8\n"
     ]
    }
   ],
   "source": [
    "print(a)"
   ]
  },
  {
   "cell_type": "code",
   "execution_count": 42,
   "id": "f12ca487-f470-4050-b27f-ae499f68a183",
   "metadata": {},
   "outputs": [
    {
     "name": "stdout",
     "output_type": "stream",
     "text": [
      "4.0\n"
     ]
    }
   ],
   "source": [
    "a /= 2\n",
    "print(a)"
   ]
  },
  {
   "cell_type": "code",
   "execution_count": 43,
   "id": "6eb72dd5-00a5-4c9c-b970-1e5d07931048",
   "metadata": {},
   "outputs": [
    {
     "name": "stdout",
     "output_type": "stream",
     "text": [
      "16.0\n"
     ]
    }
   ],
   "source": [
    "a //= 1\n",
    "a **= 2\n",
    "print(a)\n",
    "# 7, 16"
   ]
  },
  {
   "cell_type": "code",
   "execution_count": null,
   "id": "4691afd6-4f0f-423e-91e7-13c0062d553a",
   "metadata": {},
   "outputs": [],
   "source": []
  }
 ],
 "metadata": {
  "kernelspec": {
   "display_name": "Python 3 (ipykernel)",
   "language": "python",
   "name": "python3"
  },
  "language_info": {
   "codemirror_mode": {
    "name": "ipython",
    "version": 3
   },
   "file_extension": ".py",
   "mimetype": "text/x-python",
   "name": "python",
   "nbconvert_exporter": "python",
   "pygments_lexer": "ipython3",
   "version": "3.13.1"
  }
 },
 "nbformat": 4,
 "nbformat_minor": 5
}
