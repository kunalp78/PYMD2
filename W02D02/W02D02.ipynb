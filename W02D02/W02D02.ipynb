{
 "cells": [
  {
   "cell_type": "code",
   "execution_count": null,
   "id": "3d2efd2e-1117-4f7d-8154-284769fb096d",
   "metadata": {},
   "outputs": [],
   "source": [
    "# set \n",
    "# mutable data type\n",
    "# it stores unique elemets\n",
    "# it only stores immutable data types\n",
    "# it doesnot support indexing\n",
    "# collection of keys\n",
    "\"\"\"\n",
    "{5, 6, 8, 7}\n",
    "\"\"\""
   ]
  },
  {
   "cell_type": "code",
   "execution_count": 1,
   "id": "dcb2ce57-5ae6-4c81-a3ce-337a94d18dfe",
   "metadata": {},
   "outputs": [],
   "source": [
    "s = set()  # empty set"
   ]
  },
  {
   "cell_type": "code",
   "execution_count": 2,
   "id": "ca10b2d6-abbb-422a-b22b-5422ab5ae47e",
   "metadata": {},
   "outputs": [
    {
     "data": {
      "text/plain": [
       "set"
      ]
     },
     "execution_count": 2,
     "metadata": {},
     "output_type": "execute_result"
    }
   ],
   "source": [
    "type(s)"
   ]
  },
  {
   "cell_type": "code",
   "execution_count": 3,
   "id": "c0fab32a-d72a-4046-9262-4edbe9bee71a",
   "metadata": {},
   "outputs": [
    {
     "name": "stdout",
     "output_type": "stream",
     "text": [
      "4\n"
     ]
    }
   ],
   "source": [
    "s = {4, 5, 5, 2, 1}\n",
    "print(len(s))"
   ]
  },
  {
   "cell_type": "code",
   "execution_count": 4,
   "id": "f1521dcc-7918-4460-9eb0-23be3f555316",
   "metadata": {},
   "outputs": [
    {
     "name": "stdout",
     "output_type": "stream",
     "text": [
      "{1, 2, 4, 5}\n"
     ]
    }
   ],
   "source": [
    "print(s)"
   ]
  },
  {
   "cell_type": "code",
   "execution_count": 5,
   "id": "4c090da2-9d6b-45c1-9d16-61cb7be108bc",
   "metadata": {},
   "outputs": [
    {
     "ename": "TypeError",
     "evalue": "'set' object is not subscriptable",
     "output_type": "error",
     "traceback": [
      "\u001b[1;31m---------------------------------------------------------------------------\u001b[0m",
      "\u001b[1;31mTypeError\u001b[0m                                 Traceback (most recent call last)",
      "Cell \u001b[1;32mIn[5], line 1\u001b[0m\n\u001b[1;32m----> 1\u001b[0m \u001b[43ms\u001b[49m\u001b[43m[\u001b[49m\u001b[38;5;241;43m1\u001b[39;49m\u001b[43m]\u001b[49m\n",
      "\u001b[1;31mTypeError\u001b[0m: 'set' object is not subscriptable"
     ]
    }
   ],
   "source": [
    "s[1]"
   ]
  },
  {
   "cell_type": "code",
   "execution_count": 6,
   "id": "eff58868-beda-4cd9-8988-7e36e2f49be6",
   "metadata": {},
   "outputs": [
    {
     "ename": "TypeError",
     "evalue": "unhashable type: 'list'",
     "output_type": "error",
     "traceback": [
      "\u001b[1;31m---------------------------------------------------------------------------\u001b[0m",
      "\u001b[1;31mTypeError\u001b[0m                                 Traceback (most recent call last)",
      "Cell \u001b[1;32mIn[6], line 1\u001b[0m\n\u001b[1;32m----> 1\u001b[0m s \u001b[38;5;241m=\u001b[39m {[], \u001b[38;5;241m5\u001b[39m, \u001b[38;5;241m8\u001b[39m, (\u001b[38;5;241m5\u001b[39m, \u001b[38;5;241m8\u001b[39m)}\n",
      "\u001b[1;31mTypeError\u001b[0m: unhashable type: 'list'"
     ]
    }
   ],
   "source": [
    "s = {[], 5, 8, (5, 8)}"
   ]
  },
  {
   "cell_type": "code",
   "execution_count": 7,
   "id": "276fecdb-9d17-4a27-a57d-876e20dfa111",
   "metadata": {},
   "outputs": [
    {
     "data": {
      "text/plain": [
       "False"
      ]
     },
     "execution_count": 7,
     "metadata": {},
     "output_type": "execute_result"
    }
   ],
   "source": [
    "s = {\"Ram\", \"Raghu\", \"Ajay\"}\n",
    "\"jasleen\" in s"
   ]
  },
  {
   "cell_type": "code",
   "execution_count": 8,
   "id": "e49c9ba8-44b8-4fcf-b137-472bca175814",
   "metadata": {},
   "outputs": [
    {
     "data": {
      "text/plain": [
       "True"
      ]
     },
     "execution_count": 8,
     "metadata": {},
     "output_type": "execute_result"
    }
   ],
   "source": [
    "\"Ram\" in s"
   ]
  },
  {
   "cell_type": "code",
   "execution_count": 9,
   "id": "8f7d1cf2-d2b9-4af1-96f4-00c4c098f6f3",
   "metadata": {},
   "outputs": [],
   "source": [
    "s.add(\"Divyanshu\")"
   ]
  },
  {
   "cell_type": "code",
   "execution_count": 10,
   "id": "515f121d-aa84-4234-b1a8-5c9c134ec6b5",
   "metadata": {},
   "outputs": [
    {
     "name": "stdout",
     "output_type": "stream",
     "text": [
      "{'Ram', 'Raghu', 'Divyanshu', 'Ajay'}\n"
     ]
    }
   ],
   "source": [
    "print(s)"
   ]
  },
  {
   "cell_type": "code",
   "execution_count": 11,
   "id": "c54bbc26-adb9-491f-b522-941595780fe8",
   "metadata": {},
   "outputs": [],
   "source": [
    "s1 = {1,2,3}\n",
    "s2 = {'Ram', 'Raghu', 'Divyanshu', 'Ajay'}\n",
    "s1.update(s2)"
   ]
  },
  {
   "cell_type": "code",
   "execution_count": 12,
   "id": "a69e3550-9446-4ab5-bdc4-70bcd7423181",
   "metadata": {},
   "outputs": [
    {
     "data": {
      "text/plain": [
       "{1, 2, 3, 'Ajay', 'Divyanshu', 'Raghu', 'Ram'}"
      ]
     },
     "execution_count": 12,
     "metadata": {},
     "output_type": "execute_result"
    }
   ],
   "source": [
    "s1"
   ]
  },
  {
   "cell_type": "code",
   "execution_count": 13,
   "id": "475c3c5d-1df4-4860-aeeb-0eb84e941dc3",
   "metadata": {},
   "outputs": [
    {
     "data": {
      "text/plain": [
       "{'5', 9, 'Ajay', 'Divyanshu', None, 'Raghu', 'Ram'}"
      ]
     },
     "execution_count": 13,
     "metadata": {},
     "output_type": "execute_result"
    }
   ],
   "source": [
    "s3 = {\"5\", 9, None}\n",
    "s2 | s3"
   ]
  },
  {
   "cell_type": "code",
   "execution_count": 14,
   "id": "52bf321b-be36-4b81-86be-c8c09d8fe655",
   "metadata": {
    "collapsed": true,
    "jupyter": {
     "outputs_hidden": true
    },
    "scrolled": true
   },
   "outputs": [
    {
     "name": "stdout",
     "output_type": "stream",
     "text": [
      "Help on class set in module builtins:\n",
      "\n",
      "class set(object)\n",
      " |  set(iterable=(), /)\n",
      " |\n",
      " |  Build an unordered collection of unique elements.\n",
      " |\n",
      " |  Methods defined here:\n",
      " |\n",
      " |  __and__(self, value, /)\n",
      " |      Return self&value.\n",
      " |\n",
      " |  __contains__(self, object, /)\n",
      " |      x.__contains__(y) <==> y in x.\n",
      " |\n",
      " |  __eq__(self, value, /)\n",
      " |      Return self==value.\n",
      " |\n",
      " |  __ge__(self, value, /)\n",
      " |      Return self>=value.\n",
      " |\n",
      " |  __getattribute__(self, name, /)\n",
      " |      Return getattr(self, name).\n",
      " |\n",
      " |  __gt__(self, value, /)\n",
      " |      Return self>value.\n",
      " |\n",
      " |  __iand__(self, value, /)\n",
      " |      Return self&=value.\n",
      " |\n",
      " |  __init__(self, /, *args, **kwargs)\n",
      " |      Initialize self.  See help(type(self)) for accurate signature.\n",
      " |\n",
      " |  __ior__(self, value, /)\n",
      " |      Return self|=value.\n",
      " |\n",
      " |  __isub__(self, value, /)\n",
      " |      Return self-=value.\n",
      " |\n",
      " |  __iter__(self, /)\n",
      " |      Implement iter(self).\n",
      " |\n",
      " |  __ixor__(self, value, /)\n",
      " |      Return self^=value.\n",
      " |\n",
      " |  __le__(self, value, /)\n",
      " |      Return self<=value.\n",
      " |\n",
      " |  __len__(self, /)\n",
      " |      Return len(self).\n",
      " |\n",
      " |  __lt__(self, value, /)\n",
      " |      Return self<value.\n",
      " |\n",
      " |  __ne__(self, value, /)\n",
      " |      Return self!=value.\n",
      " |\n",
      " |  __or__(self, value, /)\n",
      " |      Return self|value.\n",
      " |\n",
      " |  __rand__(self, value, /)\n",
      " |      Return value&self.\n",
      " |\n",
      " |  __reduce__(self, /)\n",
      " |      Return state information for pickling.\n",
      " |\n",
      " |  __repr__(self, /)\n",
      " |      Return repr(self).\n",
      " |\n",
      " |  __ror__(self, value, /)\n",
      " |      Return value|self.\n",
      " |\n",
      " |  __rsub__(self, value, /)\n",
      " |      Return value-self.\n",
      " |\n",
      " |  __rxor__(self, value, /)\n",
      " |      Return value^self.\n",
      " |\n",
      " |  __sizeof__(self, /)\n",
      " |      S.__sizeof__() -> size of S in memory, in bytes.\n",
      " |\n",
      " |  __sub__(self, value, /)\n",
      " |      Return self-value.\n",
      " |\n",
      " |  __xor__(self, value, /)\n",
      " |      Return self^value.\n",
      " |\n",
      " |  add(self, object, /)\n",
      " |      Add an element to a set.\n",
      " |\n",
      " |      This has no effect if the element is already present.\n",
      " |\n",
      " |  clear(self, /)\n",
      " |      Remove all elements from this set.\n",
      " |\n",
      " |  copy(self, /)\n",
      " |      Return a shallow copy of a set.\n",
      " |\n",
      " |  difference(self, /, *others)\n",
      " |      Return a new set with elements in the set that are not in the others.\n",
      " |\n",
      " |  difference_update(self, /, *others)\n",
      " |      Update the set, removing elements found in others.\n",
      " |\n",
      " |  discard(self, object, /)\n",
      " |      Remove an element from a set if it is a member.\n",
      " |\n",
      " |      Unlike set.remove(), the discard() method does not raise\n",
      " |      an exception when an element is missing from the set.\n",
      " |\n",
      " |  intersection(self, /, *others)\n",
      " |      Return a new set with elements common to the set and all others.\n",
      " |\n",
      " |  intersection_update(self, /, *others)\n",
      " |      Update the set, keeping only elements found in it and all others.\n",
      " |\n",
      " |  isdisjoint(self, other, /)\n",
      " |      Return True if two sets have a null intersection.\n",
      " |\n",
      " |  issubset(self, other, /)\n",
      " |      Report whether another set contains this set.\n",
      " |\n",
      " |  issuperset(self, other, /)\n",
      " |      Report whether this set contains another set.\n",
      " |\n",
      " |  pop(self, /)\n",
      " |      Remove and return an arbitrary set element.\n",
      " |\n",
      " |      Raises KeyError if the set is empty.\n",
      " |\n",
      " |  remove(self, object, /)\n",
      " |      Remove an element from a set; it must be a member.\n",
      " |\n",
      " |      If the element is not a member, raise a KeyError.\n",
      " |\n",
      " |  symmetric_difference(self, other, /)\n",
      " |      Return a new set with elements in either the set or other but not both.\n",
      " |\n",
      " |  symmetric_difference_update(self, other, /)\n",
      " |      Update the set, keeping only elements found in either set, but not in both.\n",
      " |\n",
      " |  union(self, /, *others)\n",
      " |      Return a new set with elements from the set and all others.\n",
      " |\n",
      " |  update(self, /, *others)\n",
      " |      Update the set, adding elements from all others.\n",
      " |\n",
      " |  ----------------------------------------------------------------------\n",
      " |  Class methods defined here:\n",
      " |\n",
      " |  __class_getitem__(object, /)\n",
      " |      See PEP 585\n",
      " |\n",
      " |  ----------------------------------------------------------------------\n",
      " |  Static methods defined here:\n",
      " |\n",
      " |  __new__(*args, **kwargs)\n",
      " |      Create and return a new object.  See help(type) for accurate signature.\n",
      " |\n",
      " |  ----------------------------------------------------------------------\n",
      " |  Data and other attributes defined here:\n",
      " |\n",
      " |  __hash__ = None\n",
      "\n"
     ]
    }
   ],
   "source": [
    "help(set)"
   ]
  },
  {
   "cell_type": "code",
   "execution_count": 15,
   "id": "2139be57-7cce-4e84-a515-4880710a8730",
   "metadata": {},
   "outputs": [],
   "source": [
    "s4 = s2 | s3"
   ]
  },
  {
   "cell_type": "code",
   "execution_count": 16,
   "id": "3613eaa4-6947-4106-bea5-df2448a1d989",
   "metadata": {},
   "outputs": [
    {
     "data": {
      "text/plain": [
       "{'5', 9, 'Ajay', 'Divyanshu', None, 'Raghu', 'Ram'}"
      ]
     },
     "execution_count": 16,
     "metadata": {},
     "output_type": "execute_result"
    }
   ],
   "source": [
    "s4"
   ]
  },
  {
   "cell_type": "code",
   "execution_count": 17,
   "id": "4f0207ef-88f5-4f3c-9d70-476cac1ebf43",
   "metadata": {},
   "outputs": [],
   "source": [
    "s4.remove(\"Raghu\")"
   ]
  },
  {
   "cell_type": "code",
   "execution_count": 18,
   "id": "4a7daae8-4cd8-4f58-aab7-159def0c2043",
   "metadata": {},
   "outputs": [
    {
     "data": {
      "text/plain": [
       "{'5', 9, 'Ajay', 'Divyanshu', None, 'Ram'}"
      ]
     },
     "execution_count": 18,
     "metadata": {},
     "output_type": "execute_result"
    }
   ],
   "source": [
    "s4"
   ]
  },
  {
   "cell_type": "code",
   "execution_count": 19,
   "id": "78e145f5-1a42-425e-aa8e-f51edd351b2e",
   "metadata": {},
   "outputs": [],
   "source": [
    "s4.discard(\"Ajay\")"
   ]
  },
  {
   "cell_type": "code",
   "execution_count": 20,
   "id": "20a36746-e38e-4205-b8fe-497ff77e56f4",
   "metadata": {},
   "outputs": [
    {
     "data": {
      "text/plain": [
       "{'5', 9, 'Divyanshu', None, 'Ram'}"
      ]
     },
     "execution_count": 20,
     "metadata": {},
     "output_type": "execute_result"
    }
   ],
   "source": [
    "s4"
   ]
  },
  {
   "cell_type": "markdown",
   "id": "c90fe855-a52b-401e-bbd6-af24531b8668",
   "metadata": {},
   "source": [
    "## Conditional statements"
   ]
  },
  {
   "cell_type": "code",
   "execution_count": 22,
   "id": "7c81a169-79bd-44ce-95e2-7f3ea15699f5",
   "metadata": {},
   "outputs": [
    {
     "name": "stdout",
     "output_type": "stream",
     "text": [
      "550 is greater than 230\n"
     ]
    }
   ],
   "source": [
    "# if <condition>:\n",
    "# ----#statements\n",
    "a = 550\n",
    "b = 230\n",
    "if a > b:\n",
    "    print(f\"{a} is greater than {b}\")"
   ]
  },
  {
   "cell_type": "code",
   "execution_count": 23,
   "id": "ee77477b-0b1c-4bb6-bf5e-19c65df72683",
   "metadata": {},
   "outputs": [],
   "source": [
    "a = 55\n",
    "b = 230\n",
    "if a > b:\n",
    "    print(f\"{a} is greater than {b}\")"
   ]
  },
  {
   "cell_type": "code",
   "execution_count": 24,
   "id": "1e04abe7-b6b2-4c5e-9be0-05492997bffd",
   "metadata": {},
   "outputs": [
    {
     "name": "stdout",
     "output_type": "stream",
     "text": [
      "55 is not greater than 230\n"
     ]
    }
   ],
   "source": [
    "if a > b:\n",
    "    print(f\"{a} is greater than {b}\")\n",
    "else:\n",
    "    print(f\"{a} is not greater than {b}\")"
   ]
  },
  {
   "cell_type": "code",
   "execution_count": 26,
   "id": "49dc5b44-3d78-4422-a985-1aadd55598e1",
   "metadata": {},
   "outputs": [
    {
     "name": "stdout",
     "output_type": "stream",
     "text": [
      "55 is smaller than 230\n"
     ]
    }
   ],
   "source": [
    "if a > b:\n",
    "    print(f\"{a} is greater than {b}\")\n",
    "elif a < b:\n",
    "    print(f\"{a} is smaller than {b}\")\n",
    "else:\n",
    "    print(f\"{a} is equals to {b}\")"
   ]
  },
  {
   "cell_type": "code",
   "execution_count": 27,
   "id": "a5f2fdfe-8743-4760-bf97-7c036e475a13",
   "metadata": {},
   "outputs": [
    {
     "name": "stdin",
     "output_type": "stream",
     "text": [
      "Enter the value for a 45\n",
      "Enter the value for b 45\n"
     ]
    },
    {
     "name": "stdout",
     "output_type": "stream",
     "text": [
      "45 is equals to 45\n"
     ]
    }
   ],
   "source": [
    "a = input(\"Enter the value for a\")\n",
    "b = input(\"Enter the value for b\")\n",
    "if a > b:\n",
    "    print(f\"{a} is greater than {b}\")\n",
    "elif a < b:\n",
    "    print(f\"{a} is smaller than {b}\")\n",
    "else:\n",
    "    print(f\"{a} is equals to {b}\")"
   ]
  },
  {
   "cell_type": "code",
   "execution_count": 28,
   "id": "c90a6acd-c637-4544-b625-a22a633b89b0",
   "metadata": {},
   "outputs": [
    {
     "name": "stdin",
     "output_type": "stream",
     "text": [
      "Enter the value for a 45\n",
      "Enter the value for b 58\n"
     ]
    },
    {
     "name": "stdout",
     "output_type": "stream",
     "text": [
      "45 is smaller than 58\n"
     ]
    }
   ],
   "source": [
    "a = input(\"Enter the value for a\")\n",
    "b = input(\"Enter the value for b\")\n",
    "if a > b:\n",
    "    print(f\"{a} is greater than {b}\")\n",
    "elif a < b:\n",
    "    print(f\"{a} is smaller than {b}\")\n",
    "else:\n",
    "    print(f\"{a} is equals to {b}\")"
   ]
  },
  {
   "cell_type": "code",
   "execution_count": 29,
   "id": "f63708ed-b16b-4fd4-b9d6-d4c4a306f760",
   "metadata": {},
   "outputs": [
    {
     "name": "stdin",
     "output_type": "stream",
     "text": [
      "Enter the value for a 45\n",
      "Enter the value for b 38\n"
     ]
    },
    {
     "name": "stdout",
     "output_type": "stream",
     "text": [
      "45 is greater than 38\n"
     ]
    }
   ],
   "source": [
    "a = input(\"Enter the value for a\")\n",
    "b = input(\"Enter the value for b\")\n",
    "if a > b:\n",
    "    print(f\"{a} is greater than {b}\")\n",
    "elif a < b:\n",
    "    print(f\"{a} is smaller than {b}\")\n",
    "else:\n",
    "    print(f\"{a} is equals to {b}\")"
   ]
  },
  {
   "cell_type": "code",
   "execution_count": 30,
   "id": "47b608a0-dd98-4eb7-a6a6-7442c325795e",
   "metadata": {},
   "outputs": [
    {
     "name": "stdin",
     "output_type": "stream",
     "text": [
      "Enter the value for a 70\n"
     ]
    },
    {
     "ename": "TypeError",
     "evalue": "'>' not supported between instances of 'str' and 'int'",
     "output_type": "error",
     "traceback": [
      "\u001b[1;31m---------------------------------------------------------------------------\u001b[0m",
      "\u001b[1;31mTypeError\u001b[0m                                 Traceback (most recent call last)",
      "Cell \u001b[1;32mIn[30], line 3\u001b[0m\n\u001b[0;32m      1\u001b[0m a \u001b[38;5;241m=\u001b[39m \u001b[38;5;28minput\u001b[39m(\u001b[38;5;124m\"\u001b[39m\u001b[38;5;124mEnter the value for a\u001b[39m\u001b[38;5;124m\"\u001b[39m)\n\u001b[0;32m      2\u001b[0m b \u001b[38;5;241m=\u001b[39m \u001b[38;5;241m56\u001b[39m\n\u001b[1;32m----> 3\u001b[0m \u001b[38;5;28;01mif\u001b[39;00m \u001b[43ma\u001b[49m\u001b[43m \u001b[49m\u001b[38;5;241;43m>\u001b[39;49m\u001b[43m \u001b[49m\u001b[43mb\u001b[49m:\n\u001b[0;32m      4\u001b[0m     \u001b[38;5;28mprint\u001b[39m(\u001b[38;5;124mf\u001b[39m\u001b[38;5;124m\"\u001b[39m\u001b[38;5;132;01m{\u001b[39;00ma\u001b[38;5;132;01m}\u001b[39;00m\u001b[38;5;124m is greater than \u001b[39m\u001b[38;5;132;01m{\u001b[39;00mb\u001b[38;5;132;01m}\u001b[39;00m\u001b[38;5;124m\"\u001b[39m)\n\u001b[0;32m      5\u001b[0m \u001b[38;5;28;01melif\u001b[39;00m a \u001b[38;5;241m<\u001b[39m b:\n",
      "\u001b[1;31mTypeError\u001b[0m: '>' not supported between instances of 'str' and 'int'"
     ]
    }
   ],
   "source": [
    "a = input(\"Enter the value for a\")\n",
    "b = 56\n",
    "if a > b:\n",
    "    print(f\"{a} is greater than {b}\")\n",
    "elif a < b:\n",
    "    print(f\"{a} is smaller than {b}\")\n",
    "else:\n",
    "    print(f\"{a} is equals to {b}\")"
   ]
  },
  {
   "cell_type": "code",
   "execution_count": 31,
   "id": "171dbe47-a598-4aa0-a60a-ef75d7c68158",
   "metadata": {},
   "outputs": [
    {
     "data": {
      "text/plain": [
       "int"
      ]
     },
     "execution_count": 31,
     "metadata": {},
     "output_type": "execute_result"
    }
   ],
   "source": [
    "type(b)"
   ]
  },
  {
   "cell_type": "code",
   "execution_count": 32,
   "id": "464ca957-f4f3-4fb0-993b-88ba3496aaf1",
   "metadata": {},
   "outputs": [
    {
     "data": {
      "text/plain": [
       "str"
      ]
     },
     "execution_count": 32,
     "metadata": {},
     "output_type": "execute_result"
    }
   ],
   "source": [
    "type(a)"
   ]
  },
  {
   "cell_type": "code",
   "execution_count": 33,
   "id": "eb28ba89-f7a6-411a-8a60-99c5a46ccde5",
   "metadata": {},
   "outputs": [
    {
     "data": {
      "text/plain": [
       "'70'"
      ]
     },
     "execution_count": 33,
     "metadata": {},
     "output_type": "execute_result"
    }
   ],
   "source": [
    "a"
   ]
  },
  {
   "cell_type": "code",
   "execution_count": 34,
   "id": "c04db652-12d4-4849-a456-e14161fd537a",
   "metadata": {},
   "outputs": [
    {
     "name": "stdin",
     "output_type": "stream",
     "text": [
      "Enter the value for a 50\n"
     ]
    },
    {
     "name": "stdout",
     "output_type": "stream",
     "text": [
      "50 is smaller than 56\n"
     ]
    }
   ],
   "source": [
    "a = int(input(\"Enter the value for a\"))\n",
    "b = 56\n",
    "if a > b:\n",
    "    print(f\"{a} is greater than {b}\")\n",
    "elif a < b:\n",
    "    print(f\"{a} is smaller than {b}\")\n",
    "else:\n",
    "    print(f\"{a} is equals to {b}\")"
   ]
  },
  {
   "cell_type": "code",
   "execution_count": 35,
   "id": "9430557d-a5a3-4ae8-a7f2-617a28a067b7",
   "metadata": {},
   "outputs": [
    {
     "name": "stdin",
     "output_type": "stream",
     "text": [
      "Enter the value of a 45\n",
      "Enter the value of b 45\n"
     ]
    }
   ],
   "source": [
    "a = int(input(\"Enter the value of a\"))\n",
    "b = int(input(\"Enter the value of b\"))\n",
    "if a == b:\n",
    "    a+=b\n",
    "elif a!=b:\n",
    "    a-=b\n"
   ]
  },
  {
   "cell_type": "code",
   "execution_count": 36,
   "id": "8cdaa22a-e6bf-45b5-b262-f040ef42cd36",
   "metadata": {},
   "outputs": [
    {
     "data": {
      "text/plain": [
       "90"
      ]
     },
     "execution_count": 36,
     "metadata": {},
     "output_type": "execute_result"
    }
   ],
   "source": [
    "a"
   ]
  },
  {
   "cell_type": "code",
   "execution_count": 37,
   "id": "00ff8477-d454-4e38-8c54-8cc1e5354b8b",
   "metadata": {},
   "outputs": [
    {
     "name": "stdin",
     "output_type": "stream",
     "text": [
      "Enter the value of a 45\n",
      "Enter the value of b 36\n"
     ]
    },
    {
     "name": "stdout",
     "output_type": "stream",
     "text": [
      "9\n"
     ]
    }
   ],
   "source": [
    "a = int(input(\"Enter the value of a\"))\n",
    "b = int(input(\"Enter the value of b\"))\n",
    "if a == b:\n",
    "    a+=b\n",
    "elif a!=b:\n",
    "    a-=b\n",
    "print(a)"
   ]
  },
  {
   "cell_type": "code",
   "execution_count": 38,
   "id": "c0b7a7a8-be80-40a4-8d5e-62500b21f6e9",
   "metadata": {},
   "outputs": [
    {
     "name": "stdout",
     "output_type": "stream",
     "text": [
      "Exists\n"
     ]
    }
   ],
   "source": [
    "l = [1, 5, 8, 9]\n",
    "if 1 in l:\n",
    "    print(\"Exists\")\n",
    "elif l[1] == 1:\n",
    "    print(\"Correct\")\n",
    "else:\n",
    "    print(\"I am not sure\")"
   ]
  },
  {
   "cell_type": "code",
   "execution_count": 39,
   "id": "4ad73747-5110-4342-b9b5-1d8bdb92dcd6",
   "metadata": {},
   "outputs": [],
   "source": [
    "if None:\n",
    "    print(\"Falsy value\")"
   ]
  },
  {
   "cell_type": "code",
   "execution_count": 41,
   "id": "dca61526-a682-4f70-ad32-8736f63957a0",
   "metadata": {},
   "outputs": [
    {
     "name": "stdout",
     "output_type": "stream",
     "text": [
      "Truthy value\n"
     ]
    }
   ],
   "source": [
    "if 5 + 9j:\n",
    "    print(\"Truthy value\")"
   ]
  },
  {
   "cell_type": "code",
   "execution_count": null,
   "id": "a0eb27af-247b-4c4b-b9a5-9f62c249bfec",
   "metadata": {},
   "outputs": [],
   "source": [
    "Truthy value:\n",
    "    \"a\", all the number exluding 0s, non empty lists, tuples, strings, dict, sets\n",
    "Falsy value:\n",
    "    False, empty strings, lists, tuples, sets, None, 0 "
   ]
  },
  {
   "cell_type": "code",
   "execution_count": 42,
   "id": "9e63dad9-6414-4262-84b1-74cbc22e86f4",
   "metadata": {},
   "outputs": [],
   "source": [
    "if 0:\n",
    "    print(\"what am I\")"
   ]
  },
  {
   "cell_type": "code",
   "execution_count": 43,
   "id": "415a7c42-b5ea-4d52-96b1-cc3fb3120a85",
   "metadata": {},
   "outputs": [
    {
     "name": "stdout",
     "output_type": "stream",
     "text": [
      "what am I\n"
     ]
    }
   ],
   "source": [
    "if not 0:\n",
    "    print(\"what am I\")"
   ]
  },
  {
   "cell_type": "code",
   "execution_count": 50,
   "id": "7c43ca66-ae34-4966-8c41-ab7976deb3da",
   "metadata": {},
   "outputs": [],
   "source": [
    "if set():\n",
    "  print(\"what am I\")"
   ]
  },
  {
   "cell_type": "code",
   "execution_count": 51,
   "id": "5a560746-8096-4811-90f3-1ed142197bdc",
   "metadata": {},
   "outputs": [
    {
     "name": "stdout",
     "output_type": "stream",
     "text": [
      "what am I\n"
     ]
    }
   ],
   "source": [
    "if set([4]):\n",
    "  print(\"what am I\")"
   ]
  },
  {
   "cell_type": "code",
   "execution_count": 54,
   "id": "e72fb185-5fed-4f4f-9299-ab0ca815fbb2",
   "metadata": {},
   "outputs": [
    {
     "name": "stdin",
     "output_type": "stream",
     "text": [
      "Enter the number 6\n"
     ]
    },
    {
     "name": "stdout",
     "output_type": "stream",
     "text": [
      "Even number\n"
     ]
    }
   ],
   "source": [
    "# nested if condition\n",
    "a = int(input(\"Enter the number\"))\n",
    "if a%2==1:\n",
    "    if a==5:\n",
    "        print(5)\n",
    "    else:\n",
    "        print(\"I dont want this number\")\n",
    "else:\n",
    "    print(\"Even number\")"
   ]
  },
  {
   "cell_type": "code",
   "execution_count": 55,
   "id": "f1ed2c5c-b0ab-49ec-a347-9d7e72108b42",
   "metadata": {},
   "outputs": [
    {
     "name": "stdin",
     "output_type": "stream",
     "text": [
      "Enter the number 3\n"
     ]
    },
    {
     "name": "stdout",
     "output_type": "stream",
     "text": [
      "I dont want this number\n"
     ]
    }
   ],
   "source": [
    "a = int(input(\"Enter the number\"))\n",
    "if a%2==1:\n",
    "    if a==5:\n",
    "        print(5)\n",
    "    else:\n",
    "        print(\"I dont want this number\")\n",
    "else:\n",
    "    print(\"Even number\")"
   ]
  },
  {
   "cell_type": "code",
   "execution_count": 56,
   "id": "685e57cf-eb23-43dd-8243-1d9bed3f7d17",
   "metadata": {},
   "outputs": [
    {
     "name": "stdin",
     "output_type": "stream",
     "text": [
      "Enter the number 5\n"
     ]
    },
    {
     "name": "stdout",
     "output_type": "stream",
     "text": [
      "5\n"
     ]
    }
   ],
   "source": [
    "a = int(input(\"Enter the number\"))\n",
    "if a%2==1:\n",
    "    if a==5:\n",
    "        print(5)\n",
    "    else:\n",
    "        print(\"I dont want this number\")\n",
    "else:\n",
    "    print(\"Even number\")"
   ]
  },
  {
   "cell_type": "code",
   "execution_count": 57,
   "id": "ed251b85-2e0e-49a2-9edd-d881e3d48fd3",
   "metadata": {},
   "outputs": [
    {
     "name": "stdin",
     "output_type": "stream",
     "text": [
      "Enter the number 6\n"
     ]
    },
    {
     "name": "stdout",
     "output_type": "stream",
     "text": [
      "6 is Even\n"
     ]
    }
   ],
   "source": [
    "a = int(input(\"Enter the number\"))\n",
    "print(f\"{a} is Even\") if a%2==0 else print(f\"{a} is odd\")"
   ]
  },
  {
   "cell_type": "code",
   "execution_count": 58,
   "id": "e36a302e-fb60-42fc-b1a2-efcc62bfeae6",
   "metadata": {},
   "outputs": [
    {
     "name": "stdin",
     "output_type": "stream",
     "text": [
      "Enter the number 5\n"
     ]
    },
    {
     "name": "stdout",
     "output_type": "stream",
     "text": [
      "5 is odd\n"
     ]
    }
   ],
   "source": [
    "a = int(input(\"Enter the number\"))\n",
    "print(f\"{a} is Even\") if a%2==0 else print(f\"{a} is odd\")"
   ]
  },
  {
   "cell_type": "code",
   "execution_count": 59,
   "id": "42ce3b91-0dc6-4513-9d0e-1cc46e785ece",
   "metadata": {},
   "outputs": [
    {
     "name": "stdout",
     "output_type": "stream",
     "text": [
      "5 is odd\n"
     ]
    }
   ],
   "source": [
    "if a%2 == 0:\n",
    "    print(f\"{a} is Even\")\n",
    "else:\n",
    "    print(f\"{a} is odd\")"
   ]
  },
  {
   "cell_type": "markdown",
   "id": "7d272052-2f51-4ce3-954c-78cfc1a8e46a",
   "metadata": {},
   "source": [
    "## while loops"
   ]
  },
  {
   "cell_type": "code",
   "execution_count": null,
   "id": "0de33819-b76c-414b-ad0a-f85ba11ebc4c",
   "metadata": {},
   "outputs": [],
   "source": [
    "# while loop is a way to execute a set of statemnts as long as a certain conditon is met"
   ]
  },
  {
   "cell_type": "code",
   "execution_count": 60,
   "id": "e662eeab-440c-470f-8748-fa28c203869b",
   "metadata": {},
   "outputs": [
    {
     "name": "stdout",
     "output_type": "stream",
     "text": [
      "1\n",
      "2\n",
      "3\n",
      "5\n"
     ]
    }
   ],
   "source": [
    "print(1)\n",
    "print(2)\n",
    "print(3)\n",
    "print(5)"
   ]
  },
  {
   "cell_type": "code",
   "execution_count": null,
   "id": "fe116b26-b43e-4376-acd5-0a731a32a67a",
   "metadata": {},
   "outputs": [],
   "source": [
    "while <condition>:\n",
    "    # statemnts"
   ]
  },
  {
   "cell_type": "code",
   "execution_count": 61,
   "id": "2f658984-d2b8-4f9d-becb-101b26fc2f5f",
   "metadata": {},
   "outputs": [
    {
     "data": {
      "text/plain": [
       "65"
      ]
     },
     "execution_count": 61,
     "metadata": {},
     "output_type": "execute_result"
    }
   ],
   "source": [
    "ord(\"A\")"
   ]
  },
  {
   "cell_type": "code",
   "execution_count": 63,
   "id": "05a5526a-fbd9-49a8-a8e5-e8e77b03a14c",
   "metadata": {},
   "outputs": [
    {
     "name": "stdout",
     "output_type": "stream",
     "text": [
      "A\n",
      "B\n",
      "C\n",
      "D\n",
      "E\n",
      "F\n",
      "G\n",
      "H\n",
      "I\n",
      "J\n",
      "K\n",
      "L\n",
      "M\n",
      "N\n",
      "O\n",
      "P\n",
      "Q\n",
      "R\n",
      "S\n",
      "T\n",
      "U\n",
      "V\n",
      "W\n",
      "X\n",
      "Y\n",
      "Z\n"
     ]
    }
   ],
   "source": [
    "a = 65\n",
    "while a < 91:\n",
    "    print(chr(a))\n",
    "    a += 1"
   ]
  },
  {
   "cell_type": "code",
   "execution_count": 64,
   "id": "c01f2fe8-5a2a-48cd-be20-43b61f8c78b9",
   "metadata": {},
   "outputs": [
    {
     "name": "stdout",
     "output_type": "stream",
     "text": [
      "1\n",
      "0\n",
      "-1\n",
      "-2\n",
      "-3\n",
      "-4\n",
      "-5\n",
      "-6\n",
      "-7\n",
      "-8\n",
      "-9\n",
      "-10\n",
      "-11\n",
      "-12\n",
      "-13\n",
      "-14\n",
      "-15\n",
      "-16\n",
      "-17\n",
      "-18\n",
      "-19\n",
      "-20\n"
     ]
    }
   ],
   "source": [
    "a = 1\n",
    "while a >= -20:\n",
    "    print(a)\n",
    "    a -= 1"
   ]
  },
  {
   "cell_type": "code",
   "execution_count": null,
   "id": "0708335f-ddde-4da6-b14a-957750e6024a",
   "metadata": {},
   "outputs": [],
   "source": [
    "# Assignment: print the table of 2\n",
    "# 2 X 1 = 2\n",
    "# 2 X 2 = 4"
   ]
  },
  {
   "cell_type": "code",
   "execution_count": 65,
   "id": "d1b25ab8-4ad5-44e8-a5b2-696a5c7a5204",
   "metadata": {},
   "outputs": [
    {
     "name": "stdout",
     "output_type": "stream",
     "text": [
      "1\n",
      "3\n",
      "5\n",
      "7\n",
      "9\n",
      "11\n",
      "13\n",
      "15\n",
      "17\n",
      "19\n",
      "21\n",
      "23\n",
      "25\n",
      "27\n",
      "29\n",
      "31\n",
      "33\n",
      "35\n",
      "37\n",
      "39\n",
      "41\n",
      "43\n",
      "45\n",
      "47\n",
      "49\n"
     ]
    }
   ],
   "source": [
    "a = 0\n",
    "while 1:\n",
    "    if a == 50:\n",
    "        break\n",
    "    if a % 2:\n",
    "        print(a)\n",
    "    a+=1"
   ]
  },
  {
   "cell_type": "code",
   "execution_count": 66,
   "id": "15489da8-c200-4cde-8012-d4cb93ac627b",
   "metadata": {},
   "outputs": [
    {
     "name": "stdout",
     "output_type": "stream",
     "text": [
      "1 3 5 7 9 11 13 15 17 19 21 23 25 27 29 31 33 35 37 39 41 43 45 47 49 "
     ]
    }
   ],
   "source": [
    "a = 0\n",
    "while 1:\n",
    "    if a == 50:\n",
    "        break\n",
    "    if a % 2:\n",
    "        print(a, end=\" \")\n",
    "    a+=1"
   ]
  },
  {
   "cell_type": "code",
   "execution_count": 67,
   "id": "c30ca2dd-0edf-489d-841e-d90e7df9d215",
   "metadata": {},
   "outputs": [],
   "source": [
    "s = \"I am happy today\\nbecause I am studying python\""
   ]
  },
  {
   "cell_type": "code",
   "execution_count": 68,
   "id": "6d4d3698-e585-4f48-b952-c87b3a0e3913",
   "metadata": {},
   "outputs": [
    {
     "name": "stdout",
     "output_type": "stream",
     "text": [
      "I am happy today\n",
      "because I am studying python\n"
     ]
    }
   ],
   "source": [
    "print(s)"
   ]
  },
  {
   "cell_type": "code",
   "execution_count": 70,
   "id": "29195336-d265-4c78-91b1-aef0943edeb2",
   "metadata": {},
   "outputs": [
    {
     "name": "stdout",
     "output_type": "stream",
     "text": [
      "1 Odd\n",
      "2 Even\n",
      "4 Even\n",
      "6 Even\n",
      "7 Odd\n",
      "8 Even\n",
      "9 Odd\n",
      "10 Even\n"
     ]
    }
   ],
   "source": [
    "# continue\n",
    "a = 1\n",
    "while a<11:\n",
    "    if a == 3 or a == 5:\n",
    "        a += 1\n",
    "        continue\n",
    "    print(a, \"Odd\" if a%2 else \"Even\")\n",
    "    a += 1"
   ]
  },
  {
   "cell_type": "markdown",
   "id": "e63b418f-29e5-41db-933e-7e6aad7cf464",
   "metadata": {},
   "source": [
    "## for loop"
   ]
  },
  {
   "cell_type": "code",
   "execution_count": 72,
   "id": "6d80c3f6-fb61-43d2-8ebe-89a117082fce",
   "metadata": {},
   "outputs": [
    {
     "data": {
      "text/plain": [
       "122"
      ]
     },
     "execution_count": 72,
     "metadata": {},
     "output_type": "execute_result"
    }
   ],
   "source": [
    "# for item in <iterable>:\n",
    "#     #statemts\n",
    "# print a - z\n",
    "ord(\"a\")\n",
    "ord(\"z\")"
   ]
  },
  {
   "cell_type": "code",
   "execution_count": 74,
   "id": "b2d36294-2847-483c-81ba-0079a0412464",
   "metadata": {},
   "outputs": [
    {
     "name": "stdout",
     "output_type": "stream",
     "text": [
      "a b c d e f g h i j k l m n o p q r s t u v w x y z "
     ]
    }
   ],
   "source": [
    "for alphabet in range(97, 123):\n",
    "    print(chr(alphabet), end=\" \")"
   ]
  },
  {
   "cell_type": "code",
   "execution_count": 75,
   "id": "c3d3a8d4-b25c-4f92-b20c-6b18d6fd4f92",
   "metadata": {},
   "outputs": [
    {
     "name": "stdout",
     "output_type": "stream",
     "text": [
      "a b c d e f g h i j k l m n o p q r s t u v w x y z "
     ]
    }
   ],
   "source": [
    "for alphabet in range(ord(\"a\"), ord(\"z\")+1):\n",
    "    print(chr(alphabet), end=\" \")"
   ]
  },
  {
   "cell_type": "code",
   "execution_count": 76,
   "id": "dfde6043-e71d-491a-852f-6841ea55becc",
   "metadata": {},
   "outputs": [
    {
     "name": "stdout",
     "output_type": "stream",
     "text": [
      "a b c d e f g h i j k l m n o p q r s t u v w x y "
     ]
    }
   ],
   "source": [
    "for alphabet in range(ord(\"a\"), ord(\"z\")):\n",
    "    print(chr(alphabet), end=\" \")"
   ]
  },
  {
   "cell_type": "code",
   "execution_count": 77,
   "id": "28898ca9-bec1-4d22-bc88-ff79c7a86c17",
   "metadata": {},
   "outputs": [
    {
     "name": "stdout",
     "output_type": "stream",
     "text": [
      "a "
     ]
    }
   ],
   "source": [
    "for alphabet in range(ord(\"a\"), ord(\"z\")):\n",
    "    print(chr(alphabet), end=\" \")\n",
    "    break"
   ]
  },
  {
   "cell_type": "code",
   "execution_count": 78,
   "id": "37cd0b51-f0a0-417c-ad7f-a3b64bc2356f",
   "metadata": {},
   "outputs": [
    {
     "name": "stdout",
     "output_type": "stream",
     "text": [
      "{'name': 'Raghu', 'age': 52, 'sex': 'M'}\n",
      "{'name': 'Bindu', 'age': 55, 'sex': 'F'}\n",
      "{'age': 55, 'sex': 'F'}\n"
     ]
    }
   ],
   "source": [
    "j = [{\"name\": \"Raghu\", \"age\": 52, \"sex\":\"M\"}, {\"name\":\"Bindu\",\"age\":55,\"sex\":\"F\"}, {\"age\":55,\"sex\":\"F\"}]\n",
    "for item in j:\n",
    "    print(item)"
   ]
  },
  {
   "cell_type": "code",
   "execution_count": 79,
   "id": "d65493e1-f8e0-42bb-ad98-8030025f882a",
   "metadata": {},
   "outputs": [
    {
     "name": "stdout",
     "output_type": "stream",
     "text": [
      "<class 'dict'>\n",
      "{'name': 'Raghu', 'age': 52, 'sex': 'M'}\n",
      "<class 'dict'>\n",
      "{'name': 'Bindu', 'age': 55, 'sex': 'F'}\n",
      "<class 'dict'>\n",
      "{'age': 55, 'sex': 'F'}\n"
     ]
    }
   ],
   "source": [
    "j = [{\"name\": \"Raghu\", \"age\": 52, \"sex\":\"M\"}, {\"name\":\"Bindu\",\"age\":55,\"sex\":\"F\"}, {\"age\":55,\"sex\":\"F\"}]\n",
    "for item in j:\n",
    "    print(type(item))\n",
    "    print(item)"
   ]
  },
  {
   "cell_type": "code",
   "execution_count": 80,
   "id": "61f22a4b-7f33-4124-9038-3a5ef1110dd4",
   "metadata": {},
   "outputs": [
    {
     "name": "stdout",
     "output_type": "stream",
     "text": [
      "{'name': 'Raghu', 'age': 52, 'sex': 'M'}\n",
      "{'name': 'Bindu', 'age': 55, 'sex': 'F'}\n"
     ]
    }
   ],
   "source": [
    "j = [{\"name\": \"Raghu\", \"age\": 52, \"sex\":\"M\"}, {\"name\":\"Bindu\",\"age\":55,\"sex\":\"F\"}, {\"age\":55,\"sex\":\"F\"}]\n",
    "for item in j:\n",
    "    if \"name\" in item:\n",
    "        print(item)\n",
    "    else:\n",
    "        pass"
   ]
  },
  {
   "cell_type": "code",
   "execution_count": 81,
   "id": "924ed3b1-c7f2-4da2-bd6d-30041904b15a",
   "metadata": {},
   "outputs": [
    {
     "name": "stdout",
     "output_type": "stream",
     "text": [
      "{'name': 'Bindu', 'age': 55, 'sex': 'F'}\n",
      "{'age': 55, 'sex': 'F'}\n"
     ]
    }
   ],
   "source": [
    "j = [{\"name\": \"Raghu\", \"age\": 52, \"sex\":\"M\"}, {\"name\":\"Bindu\",\"age\":55,\"sex\":\"F\"}, {\"age\":55,\"sex\":\"F\"}]\n",
    "for item in j:\n",
    "    if \"F\" in item.values():\n",
    "        print(item)\n",
    "    else:\n",
    "        pass"
   ]
  },
  {
   "cell_type": "markdown",
   "id": "e0fe4aa2-07d9-46bf-8c88-3c1786efb05e",
   "metadata": {},
   "source": [
    "# we can run for loop for any iterable"
   ]
  },
  {
   "cell_type": "code",
   "execution_count": 82,
   "id": "ba3f9273-772d-4c59-ae9c-48bce256a3be",
   "metadata": {},
   "outputs": [
    {
     "ename": "TypeError",
     "evalue": "'int' object is not iterable",
     "output_type": "error",
     "traceback": [
      "\u001b[1;31m---------------------------------------------------------------------------\u001b[0m",
      "\u001b[1;31mTypeError\u001b[0m                                 Traceback (most recent call last)",
      "Cell \u001b[1;32mIn[82], line 1\u001b[0m\n\u001b[1;32m----> 1\u001b[0m \u001b[38;5;28;43;01mfor\u001b[39;49;00m\u001b[43m \u001b[49m\u001b[43mi\u001b[49m\u001b[43m \u001b[49m\u001b[38;5;129;43;01min\u001b[39;49;00m\u001b[43m \u001b[49m\u001b[38;5;241;43m7586\u001b[39;49m\u001b[43m:\u001b[49m\n\u001b[0;32m      2\u001b[0m \u001b[43m    \u001b[49m\u001b[38;5;28;43;01mif\u001b[39;49;00m\u001b[43m \u001b[49m\u001b[38;5;241;43m7\u001b[39;49m\u001b[43m \u001b[49m\u001b[38;5;129;43;01min\u001b[39;49;00m\u001b[43m \u001b[49m\u001b[43mi\u001b[49m\u001b[43m:\u001b[49m\n\u001b[0;32m      3\u001b[0m \u001b[43m        \u001b[49m\u001b[38;5;28;43mprint\u001b[39;49m\u001b[43m(\u001b[49m\u001b[38;5;28;43;01mTrue\u001b[39;49;00m\u001b[43m)\u001b[49m\n",
      "\u001b[1;31mTypeError\u001b[0m: 'int' object is not iterable"
     ]
    }
   ],
   "source": [
    "for i in 7586:\n",
    "    if 7 in i:\n",
    "        print(True)\n",
    "\n",
    "# 1) Error -- 3"
   ]
  },
  {
   "cell_type": "code",
   "execution_count": 84,
   "id": "cc44a86b-11bf-4a8d-b6bd-6428eeea7a24",
   "metadata": {},
   "outputs": [
    {
     "name": "stdout",
     "output_type": "stream",
     "text": [
      "True\n"
     ]
    }
   ],
   "source": [
    "for i in \"7586\":\n",
    "    if \"7\" in i:\n",
    "        print(True)"
   ]
  },
  {
   "cell_type": "code",
   "execution_count": null,
   "id": "dd471189-c496-4a57-ae85-62346f3f5639",
   "metadata": {},
   "outputs": [],
   "source": [
    "# function\n",
    "# Its a block of code which runs whne it is called\n",
    "# inbuilt functions\n",
    "    len(), print(), ord(), chr(), sorted(), int(), set() ... \n",
    "# user defined function\n",
    "    it is defined by users"
   ]
  },
  {
   "cell_type": "code",
   "execution_count": 87,
   "id": "26615125-1098-49c7-bbf7-8100e0a32f4b",
   "metadata": {},
   "outputs": [
    {
     "name": "stdout",
     "output_type": "stream",
     "text": [
      "2*1=2\n",
      "2*2=4\n",
      "2*3=6\n",
      "2*4=8\n",
      "2*5=10\n",
      "2*6=12\n",
      "2*7=14\n",
      "2*8=16\n",
      "2*9=18\n",
      "2*10=20\n"
     ]
    }
   ],
   "source": [
    "a=2\n",
    "for x in range(1,11):\n",
    "    print(f\"{a}*{x}={a*x}\")"
   ]
  },
  {
   "cell_type": "code",
   "execution_count": 85,
   "id": "2eaa7f58-970f-436a-bd64-af9148f71666",
   "metadata": {},
   "outputs": [
    {
     "data": {
      "text/plain": [
       "4"
      ]
     },
     "execution_count": 85,
     "metadata": {},
     "output_type": "execute_result"
    }
   ],
   "source": [
    "l = [1, 2, 5, 6]\n",
    "len(l)"
   ]
  },
  {
   "cell_type": "code",
   "execution_count": null,
   "id": "f4ab6ae4-2730-4cc3-a960-5d4a3383d49a",
   "metadata": {},
   "outputs": [],
   "source": [
    "# int name_of_func(int arg1, char arg2) X\n",
    "def name_of_fun(<args>):\n",
    "    # statemts\n",
    "    return data"
   ]
  },
  {
   "cell_type": "code",
   "execution_count": 88,
   "id": "49cc5446-6ded-43c1-98ef-0ed05978cfe1",
   "metadata": {},
   "outputs": [],
   "source": [
    "def print_name():\n",
    "    name = input(\"Enter your name\")\n",
    "    print(\"Hello {}\".format(name))"
   ]
  },
  {
   "cell_type": "code",
   "execution_count": 89,
   "id": "728f4924-786b-41fb-9fc9-28815ea16b08",
   "metadata": {},
   "outputs": [
    {
     "data": {
      "text/plain": [
       "<function __main__.print_name()>"
      ]
     },
     "execution_count": 89,
     "metadata": {},
     "output_type": "execute_result"
    }
   ],
   "source": [
    "print_name"
   ]
  },
  {
   "cell_type": "code",
   "execution_count": 90,
   "id": "b1a839e4-ceb2-4a85-aadb-89c89ee7aad3",
   "metadata": {},
   "outputs": [
    {
     "name": "stdin",
     "output_type": "stream",
     "text": [
      "Enter your name Raghu\n"
     ]
    },
    {
     "name": "stdout",
     "output_type": "stream",
     "text": [
      "Hello Raghu\n"
     ]
    }
   ],
   "source": [
    "print_name()"
   ]
  },
  {
   "cell_type": "code",
   "execution_count": 91,
   "id": "f1073f30-fe5b-483c-8ecb-43f402c43902",
   "metadata": {},
   "outputs": [],
   "source": [
    "def print_name(name):\n",
    "    print(\"Hello {}\".format(name))"
   ]
  },
  {
   "cell_type": "code",
   "execution_count": 92,
   "id": "4c333cd4-d146-4f74-a487-3c1283955ceb",
   "metadata": {},
   "outputs": [
    {
     "ename": "TypeError",
     "evalue": "print_name() missing 1 required positional argument: 'name'",
     "output_type": "error",
     "traceback": [
      "\u001b[1;31m---------------------------------------------------------------------------\u001b[0m",
      "\u001b[1;31mTypeError\u001b[0m                                 Traceback (most recent call last)",
      "Cell \u001b[1;32mIn[92], line 1\u001b[0m\n\u001b[1;32m----> 1\u001b[0m \u001b[43mprint_name\u001b[49m\u001b[43m(\u001b[49m\u001b[43m)\u001b[49m\n",
      "\u001b[1;31mTypeError\u001b[0m: print_name() missing 1 required positional argument: 'name'"
     ]
    }
   ],
   "source": [
    "print_name()"
   ]
  },
  {
   "cell_type": "code",
   "execution_count": 93,
   "id": "01e22313-8c8e-4ec7-8ec5-d2017757b81c",
   "metadata": {},
   "outputs": [
    {
     "name": "stdout",
     "output_type": "stream",
     "text": [
      "Hello Tradingsid\n"
     ]
    }
   ],
   "source": [
    "print_name(name=\"Tradingsid\")"
   ]
  },
  {
   "cell_type": "code",
   "execution_count": 94,
   "id": "517ee37e-d488-4348-a7c9-a2536158c3a9",
   "metadata": {},
   "outputs": [
    {
     "name": "stdout",
     "output_type": "stream",
     "text": [
      "Hello Tradingsid\n"
     ]
    }
   ],
   "source": [
    "print_name(\"Tradingsid\")"
   ]
  },
  {
   "cell_type": "code",
   "execution_count": null,
   "id": "105d79ac-6e50-4f58-861a-603c56373b67",
   "metadata": {},
   "outputs": [],
   "source": []
  },
  {
   "cell_type": "code",
   "execution_count": 96,
   "id": "3c2cc33c-7b66-4257-b2b1-958df62dfeb0",
   "metadata": {},
   "outputs": [],
   "source": [
    "def sunm_of_values(val1, val2, val3):\n",
    "    print(f\"val1= {val1}, val2={val2}, val3={val3}\")\n",
    "    return val1 + val2 + val3"
   ]
  },
  {
   "cell_type": "code",
   "execution_count": 97,
   "id": "50e29ff3-d1f6-49f9-93b6-59772aae1a7a",
   "metadata": {},
   "outputs": [
    {
     "name": "stdout",
     "output_type": "stream",
     "text": [
      "val1= 5, val2=6, val3=7\n"
     ]
    },
    {
     "data": {
      "text/plain": [
       "18"
      ]
     },
     "execution_count": 97,
     "metadata": {},
     "output_type": "execute_result"
    }
   ],
   "source": [
    "sunm_of_values(5, 6, 7)"
   ]
  },
  {
   "cell_type": "code",
   "execution_count": 98,
   "id": "e7ddc2a1-074b-4ba8-8da1-3f108df8754b",
   "metadata": {},
   "outputs": [
    {
     "name": "stdout",
     "output_type": "stream",
     "text": [
      "val1= 5, val2=6, val3=7\n"
     ]
    }
   ],
   "source": [
    "val = sunm_of_values(5, 6, 7)"
   ]
  },
  {
   "cell_type": "code",
   "execution_count": 99,
   "id": "3da6f30c-6a23-4ad2-87a2-ac73613adbbc",
   "metadata": {},
   "outputs": [
    {
     "name": "stdout",
     "output_type": "stream",
     "text": [
      "18\n"
     ]
    }
   ],
   "source": [
    "print(val)"
   ]
  },
  {
   "cell_type": "code",
   "execution_count": 100,
   "id": "fca04c15-0c22-43fd-84ad-32c990a0c640",
   "metadata": {},
   "outputs": [
    {
     "name": "stdout",
     "output_type": "stream",
     "text": [
      "val1= 6, val2=7, val3=5\n"
     ]
    },
    {
     "data": {
      "text/plain": [
       "18"
      ]
     },
     "execution_count": 100,
     "metadata": {},
     "output_type": "execute_result"
    }
   ],
   "source": [
    "sunm_of_values(6, 7, 5)"
   ]
  },
  {
   "cell_type": "code",
   "execution_count": 101,
   "id": "55dbd849-95ab-4ded-b8ef-1b98d5e1689c",
   "metadata": {},
   "outputs": [
    {
     "name": "stdout",
     "output_type": "stream",
     "text": [
      "val1= 5, val2=6, val3=7\n"
     ]
    },
    {
     "data": {
      "text/plain": [
       "18"
      ]
     },
     "execution_count": 101,
     "metadata": {},
     "output_type": "execute_result"
    }
   ],
   "source": [
    "sunm_of_values(val2=6, val3=7, val1=5)"
   ]
  },
  {
   "cell_type": "code",
   "execution_count": null,
   "id": "6b4875b1-365f-45b2-b457-2db96e95a853",
   "metadata": {},
   "outputs": [],
   "source": []
  }
 ],
 "metadata": {
  "kernelspec": {
   "display_name": "Python 3 (ipykernel)",
   "language": "python",
   "name": "python3"
  },
  "language_info": {
   "codemirror_mode": {
    "name": "ipython",
    "version": 3
   },
   "file_extension": ".py",
   "mimetype": "text/x-python",
   "name": "python",
   "nbconvert_exporter": "python",
   "pygments_lexer": "ipython3",
   "version": "3.13.1"
  }
 },
 "nbformat": 4,
 "nbformat_minor": 5
}
