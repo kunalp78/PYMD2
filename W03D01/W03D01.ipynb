{
 "cells": [
  {
   "cell_type": "code",
   "execution_count": 2,
   "id": "464e6bfd-6696-4ab0-9606-27cee07613e2",
   "metadata": {},
   "outputs": [],
   "source": [
    "def func_name(args):\n",
    "    return str(args)"
   ]
  },
  {
   "cell_type": "code",
   "execution_count": 3,
   "id": "6bc28975-039d-4609-bbfa-d60658317538",
   "metadata": {},
   "outputs": [
    {
     "data": {
      "text/plain": [
       "\"{'d': 2}\""
      ]
     },
     "execution_count": 3,
     "metadata": {},
     "output_type": "execute_result"
    }
   ],
   "source": [
    "func_name({\"d\":2})"
   ]
  },
  {
   "cell_type": "code",
   "execution_count": 4,
   "id": "241fe5b3-173d-46c3-b6b3-253af2459cf8",
   "metadata": {},
   "outputs": [],
   "source": [
    "val = func_name({\"d\":2})"
   ]
  },
  {
   "cell_type": "code",
   "execution_count": 5,
   "id": "960ebbfc-a846-47cf-a7b7-1e679ea9e287",
   "metadata": {},
   "outputs": [
    {
     "data": {
      "text/plain": [
       "str"
      ]
     },
     "execution_count": 5,
     "metadata": {},
     "output_type": "execute_result"
    }
   ],
   "source": [
    "type(val)"
   ]
  },
  {
   "cell_type": "code",
   "execution_count": 8,
   "id": "8f678e27-9a2f-45e7-b505-37c16940be76",
   "metadata": {},
   "outputs": [
    {
     "data": {
      "text/plain": [
       "\"{'d': 2}\""
      ]
     },
     "execution_count": 8,
     "metadata": {},
     "output_type": "execute_result"
    }
   ],
   "source": [
    "val"
   ]
  },
  {
   "cell_type": "code",
   "execution_count": 9,
   "id": "f32a6677-42e5-422b-b86c-4a062e8f422a",
   "metadata": {},
   "outputs": [
    {
     "data": {
      "text/plain": [
       "\"'\""
      ]
     },
     "execution_count": 9,
     "metadata": {},
     "output_type": "execute_result"
    }
   ],
   "source": [
    "val[1]"
   ]
  },
  {
   "cell_type": "code",
   "execution_count": 10,
   "id": "7bebd4c3-a50c-43ce-b4aa-43f16fef572b",
   "metadata": {},
   "outputs": [],
   "source": [
    "def summation(val1, val2, val3, val4):\n",
    "    return val1 + val2 + val3 + val4"
   ]
  },
  {
   "cell_type": "code",
   "execution_count": 12,
   "id": "30a8200d-638b-47a1-a6c3-f5c75fa75f45",
   "metadata": {},
   "outputs": [
    {
     "data": {
      "text/plain": [
       "14"
      ]
     },
     "execution_count": 12,
     "metadata": {},
     "output_type": "execute_result"
    }
   ],
   "source": [
    "summation(2, 3, 4, 5)"
   ]
  },
  {
   "cell_type": "code",
   "execution_count": 13,
   "id": "128dbeb2-f4aa-408c-bc9e-6ea15f2ac240",
   "metadata": {},
   "outputs": [
    {
     "ename": "TypeError",
     "evalue": "summation() takes 4 positional arguments but 5 were given",
     "output_type": "error",
     "traceback": [
      "\u001b[1;31m---------------------------------------------------------------------------\u001b[0m",
      "\u001b[1;31mTypeError\u001b[0m                                 Traceback (most recent call last)",
      "Cell \u001b[1;32mIn[13], line 1\u001b[0m\n\u001b[1;32m----> 1\u001b[0m \u001b[43msummation\u001b[49m\u001b[43m(\u001b[49m\u001b[38;5;241;43m2\u001b[39;49m\u001b[43m,\u001b[49m\u001b[43m \u001b[49m\u001b[38;5;241;43m3\u001b[39;49m\u001b[43m,\u001b[49m\u001b[43m \u001b[49m\u001b[38;5;241;43m4\u001b[39;49m\u001b[43m,\u001b[49m\u001b[43m \u001b[49m\u001b[38;5;241;43m5\u001b[39;49m\u001b[43m,\u001b[49m\u001b[43m \u001b[49m\u001b[38;5;241;43m6\u001b[39;49m\u001b[43m)\u001b[49m\n",
      "\u001b[1;31mTypeError\u001b[0m: summation() takes 4 positional arguments but 5 were given"
     ]
    }
   ],
   "source": [
    "summation(2, 3, 4, 5, 6)"
   ]
  },
  {
   "cell_type": "code",
   "execution_count": null,
   "id": "ea974ea6-896e-494d-a2bd-63cd35b9368f",
   "metadata": {},
   "outputs": [],
   "source": [
    "# Arbitary argumnets *args\n",
    "def summation(val1, val2, val3, val4, *args):\n",
    "    return val1 + val2 + val3 + val4"
   ]
  },
  {
   "cell_type": "code",
   "execution_count": 14,
   "id": "a678c68e-26e6-4a5d-a5f2-539f171ac344",
   "metadata": {},
   "outputs": [],
   "source": [
    "def print_val(*args):\n",
    "    print(args)\n",
    "    print(type(args))"
   ]
  },
  {
   "cell_type": "code",
   "execution_count": 15,
   "id": "68b22135-572e-45a1-bfb9-3836fe09bd64",
   "metadata": {},
   "outputs": [
    {
     "name": "stdout",
     "output_type": "stream",
     "text": [
      "(1, 2, 3, 4, 5)\n",
      "<class 'tuple'>\n"
     ]
    }
   ],
   "source": [
    "print_val(1, 2, 3, 4, 5)"
   ]
  },
  {
   "cell_type": "code",
   "execution_count": 16,
   "id": "f1a2c978-c330-4dd8-93a4-1c61091e5b92",
   "metadata": {},
   "outputs": [],
   "source": [
    "def print_val(*args):\n",
    "    summ = 0\n",
    "    for i in args:\n",
    "        summ += i\n",
    "    return summ"
   ]
  },
  {
   "cell_type": "code",
   "execution_count": 17,
   "id": "698eaf3e-08e2-493f-ada5-93d6ee395065",
   "metadata": {},
   "outputs": [
    {
     "data": {
      "text/plain": [
       "36"
      ]
     },
     "execution_count": 17,
     "metadata": {},
     "output_type": "execute_result"
    }
   ],
   "source": [
    "print_val(1, 5, 6, 7, 8, 9)"
   ]
  },
  {
   "cell_type": "code",
   "execution_count": 21,
   "id": "091071e9-ded3-4cab-bf1e-6854a68a9137",
   "metadata": {},
   "outputs": [],
   "source": [
    "def sum_val(*args):\n",
    "    summ = 0\n",
    "    l_o_niv = []\n",
    "    for i in args:\n",
    "        if isinstance(i, int):\n",
    "            summ += i\n",
    "        else:\n",
    "            l_o_niv.append(i)\n",
    "    return summ, l_o_niv"
   ]
  },
  {
   "cell_type": "code",
   "execution_count": 22,
   "id": "b35f43e4-cc44-4261-a806-658e1d82a348",
   "metadata": {},
   "outputs": [
    {
     "data": {
      "text/plain": [
       "(40, ['8', '='])"
      ]
     },
     "execution_count": 22,
     "metadata": {},
     "output_type": "execute_result"
    }
   ],
   "source": [
    "sum_val(5, 6, 9, \"8\", \"=\", 20)"
   ]
  },
  {
   "cell_type": "code",
   "execution_count": null,
   "id": "f932a9a3-e281-467f-9fef-ce1bbc8fc880",
   "metadata": {},
   "outputs": [],
   "source": [
    "l = [5, 5, 2, 2, \"l\", \"k\", \"l\", \"a\", \"a\", \"a\", \"k\", 9]"
   ]
  },
  {
   "cell_type": "code",
   "execution_count": null,
   "id": "63c2399d-4087-4bdc-b0dd-a49f9b56b921",
   "metadata": {},
   "outputs": [],
   "source": [
    "# Q) WAP to print the count of each of the elements in the list\n",
    "5 mins"
   ]
  },
  {
   "cell_type": "code",
   "execution_count": null,
   "id": "1a5f591a-8114-4ade-b89c-17a1ecbf723b",
   "metadata": {},
   "outputs": [],
   "source": [
    "5 --> 2\n",
    "2 --> 2\n",
    "\"l\" --> 2\n",
    "\"k\" --> 2\n",
    "\"a\" --> 3\n",
    "9 --> 1"
   ]
  },
  {
   "cell_type": "code",
   "execution_count": 24,
   "id": "a5c1a1a1-39ec-4e43-a31e-ab22e703aa21",
   "metadata": {},
   "outputs": [
    {
     "name": "stdout",
     "output_type": "stream",
     "text": [
      "{5: 2, 2: 2, 'l': 2, 'k': 2, 'a': 3, 9: 1}\n"
     ]
    }
   ],
   "source": [
    "l = [5, 5, 2, 2, \"l\", \"k\", \"l\", \"a\", \"a\", \"a\", \"k\", 9]\n",
    "counter_dict = {}\n",
    "for i in l:\n",
    "    if i not in counter_dict:\n",
    "        counter_dict[i] = 1\n",
    "    else:\n",
    "        counter_dict[i] += 1\n",
    "print(counter_dict)"
   ]
  },
  {
   "cell_type": "code",
   "execution_count": 25,
   "id": "423a3331-f42b-471e-bfae-2ccb242b3f4e",
   "metadata": {},
   "outputs": [],
   "source": [
    "counter_dict[\"jasleen\"] = \"indian\""
   ]
  },
  {
   "cell_type": "code",
   "execution_count": 26,
   "id": "6814b309-9430-431d-add5-d3ed10215caa",
   "metadata": {},
   "outputs": [
    {
     "data": {
      "text/plain": [
       "{5: 2, 2: 2, 'l': 2, 'k': 2, 'a': 3, 9: 1, 'jasleen': 'indian'}"
      ]
     },
     "execution_count": 26,
     "metadata": {},
     "output_type": "execute_result"
    }
   ],
   "source": [
    "counter_dict"
   ]
  },
  {
   "cell_type": "code",
   "execution_count": 27,
   "id": "9bc7a996-c55d-4c86-9fca-3ac153ae8d49",
   "metadata": {},
   "outputs": [
    {
     "data": {
      "text/plain": [
       "{1: 1, 5: 1, 9: 1, 8: 3, 'j': 5, 0: 3}"
      ]
     },
     "execution_count": 27,
     "metadata": {},
     "output_type": "execute_result"
    }
   ],
   "source": [
    "def counter_func(*args):\n",
    "    count = {}\n",
    "    for i in args:\n",
    "        if i in count:\n",
    "            count[i] += 1\n",
    "        else:\n",
    "            count[i] = 1\n",
    "    return count\n",
    "counter_func(1, 5, 9, 8, \"j\", \"j\", \"j\", \"j\", \"j\", 8, 8, 0, 0, 0)"
   ]
  },
  {
   "cell_type": "code",
   "execution_count": null,
   "id": "df76b288-8dd4-4488-84cb-45dae17956f1",
   "metadata": {},
   "outputs": [],
   "source": []
  },
  {
   "cell_type": "code",
   "execution_count": null,
   "id": "ca883466-e5e8-47b7-9989-f6a23d4c3ff7",
   "metadata": {},
   "outputs": [],
   "source": []
  },
  {
   "cell_type": "code",
   "execution_count": 18,
   "id": "c7403356-022b-41ee-b824-12ff7bee13aa",
   "metadata": {},
   "outputs": [
    {
     "data": {
      "text/plain": [
       "False"
      ]
     },
     "execution_count": 18,
     "metadata": {},
     "output_type": "execute_result"
    }
   ],
   "source": [
    "isinstance(5, str)"
   ]
  },
  {
   "cell_type": "code",
   "execution_count": 19,
   "id": "3c4b8c76-9b40-49df-9103-077a68a233ca",
   "metadata": {},
   "outputs": [
    {
     "data": {
      "text/plain": [
       "True"
      ]
     },
     "execution_count": 19,
     "metadata": {},
     "output_type": "execute_result"
    }
   ],
   "source": [
    "isinstance(5, int)"
   ]
  },
  {
   "cell_type": "code",
   "execution_count": 20,
   "id": "d0929053-fa09-4d0a-8831-9f94c925aefd",
   "metadata": {},
   "outputs": [
    {
     "data": {
      "text/plain": [
       "True"
      ]
     },
     "execution_count": 20,
     "metadata": {},
     "output_type": "execute_result"
    }
   ],
   "source": [
    "type(5) == int"
   ]
  },
  {
   "cell_type": "code",
   "execution_count": null,
   "id": "704ace05-9fe0-4e34-840a-f28f95311cd4",
   "metadata": {},
   "outputs": [],
   "source": [
    "# char add_string(char val1, ...) {\n",
    "#     ...\n",
    "#     return  \n",
    "# }\n"
   ]
  },
  {
   "cell_type": "code",
   "execution_count": 28,
   "id": "12350181-2fdd-4288-a6a9-0aa54199a5cd",
   "metadata": {},
   "outputs": [],
   "source": [
    "# keyword argument **kwargs\n",
    "def nameplate(**value):\n",
    "    print(value)\n",
    "    print(type(value))"
   ]
  },
  {
   "cell_type": "code",
   "execution_count": 29,
   "id": "2d717919-ef04-4d54-89b5-b8d035ba46d2",
   "metadata": {},
   "outputs": [
    {
     "name": "stdout",
     "output_type": "stream",
     "text": [
      "{'name': 'Raghu', 'Citizenship': 'Indian', 'Company': 'Amazon'}\n",
      "<class 'dict'>\n"
     ]
    }
   ],
   "source": [
    "nameplate(name = \"Raghu\", Citizenship = \"Indian\", Company = \"Amazon\")"
   ]
  },
  {
   "cell_type": "code",
   "execution_count": 30,
   "id": "33bb7475-00c4-4db6-97c1-93a6af695c9c",
   "metadata": {},
   "outputs": [],
   "source": [
    "def nameplate(**value):\n",
    "    if value.get(\"name\"):\n",
    "        return f\"Name= {value[\"name\"]}\"\n",
    "    else:\n",
    "        return value"
   ]
  },
  {
   "cell_type": "code",
   "execution_count": 31,
   "id": "330587a0-3b6c-43ea-a8e0-98e15e13c3ca",
   "metadata": {},
   "outputs": [
    {
     "data": {
      "text/plain": [
       "'Name: Ajay'"
      ]
     },
     "execution_count": 31,
     "metadata": {},
     "output_type": "execute_result"
    }
   ],
   "source": [
    "nameplate(name=\"Ajay\")"
   ]
  },
  {
   "cell_type": "code",
   "execution_count": 32,
   "id": "6ce37a0e-8c68-4baf-9269-24ac058c3353",
   "metadata": {},
   "outputs": [
    {
     "data": {
      "text/plain": [
       "{'country': 'Aus'}"
      ]
     },
     "execution_count": 32,
     "metadata": {},
     "output_type": "execute_result"
    }
   ],
   "source": [
    "nameplate(country=\"Aus\")"
   ]
  },
  {
   "cell_type": "code",
   "execution_count": 33,
   "id": "617e5256-0df7-460e-b19a-e00bb8748c70",
   "metadata": {},
   "outputs": [
    {
     "name": "stdout",
     "output_type": "stream",
     "text": [
      "dict_keys(['name'])\n"
     ]
    },
    {
     "data": {
      "text/plain": [
       "'Name= Ajay'"
      ]
     },
     "execution_count": 33,
     "metadata": {},
     "output_type": "execute_result"
    }
   ],
   "source": [
    "def nameplate(**value):\n",
    "    print(value.keys())\n",
    "    if value.get(\"name\"):\n",
    "        return f\"Name= {value[\"name\"]}\"\n",
    "    else:\n",
    "        return value\n",
    "nameplate(name=\"Ajay\")"
   ]
  },
  {
   "cell_type": "code",
   "execution_count": 37,
   "id": "53e4e0db-dd60-4d96-a445-8a36693192f7",
   "metadata": {},
   "outputs": [
    {
     "name": "stdout",
     "output_type": "stream",
     "text": [
      "name Ajay\n",
      "citizenship US\n"
     ]
    }
   ],
   "source": [
    "def nameplate(**value):\n",
    "    # print(value.keys())\n",
    "    for i in value:\n",
    "        print(i, value[i])\n",
    "nameplate(name=\"Ajay\", citizenship=\"US\")"
   ]
  },
  {
   "cell_type": "code",
   "execution_count": 38,
   "id": "0dcfee52-22d9-45cf-86dd-9435a5059d47",
   "metadata": {},
   "outputs": [
    {
     "ename": "SyntaxError",
     "evalue": "positional argument follows keyword argument (2897023253.py, line 1)",
     "output_type": "error",
     "traceback": [
      "\u001b[1;36m  Cell \u001b[1;32mIn[38], line 1\u001b[1;36m\u001b[0m\n\u001b[1;33m    nameplate(name=\"Ajay\", \"US\")\u001b[0m\n\u001b[1;37m                               ^\u001b[0m\n\u001b[1;31mSyntaxError\u001b[0m\u001b[1;31m:\u001b[0m positional argument follows keyword argument\n"
     ]
    }
   ],
   "source": [
    "nameplate(name=\"Ajay\", \"US\")"
   ]
  },
  {
   "cell_type": "code",
   "execution_count": 39,
   "id": "fd931caa-2c7a-4598-a2e4-9d6b2f5d736c",
   "metadata": {},
   "outputs": [],
   "source": [
    "def random_func(val1, val2, *posargs, **keywordargs):\n",
    "    print(val1, val2)\n",
    "    print(posargs)\n",
    "    print(keywordargs)"
   ]
  },
  {
   "cell_type": "code",
   "execution_count": 42,
   "id": "7da7971b-e058-46eb-876d-fba8c3f97faf",
   "metadata": {},
   "outputs": [
    {
     "name": "stdout",
     "output_type": "stream",
     "text": [
      "2 5\n",
      "(5, 4, 8, 7, 9, 'l')\n",
      "{'j': 2}\n"
     ]
    }
   ],
   "source": [
    "random_func(2, 5, 5, 4, 8, 7, 9, \"l\", j= 2)"
   ]
  },
  {
   "cell_type": "code",
   "execution_count": 43,
   "id": "e061d92c-aa48-4813-bb2f-9297f2047bbd",
   "metadata": {},
   "outputs": [
    {
     "name": "stdout",
     "output_type": "stream",
     "text": [
      "Help on function rand_func in module __main__:\n",
      "\n",
      "rand_func(val: int)\n",
      "\n"
     ]
    }
   ],
   "source": [
    "def rand_func(val: int):\n",
    "    print(int)\n",
    "\n",
    "help(rand_func)"
   ]
  },
  {
   "cell_type": "markdown",
   "id": "9f1ab274-4fd4-4665-aed3-786320c29e9e",
   "metadata": {},
   "source": [
    "## Class and Objects"
   ]
  },
  {
   "cell_type": "code",
   "execution_count": null,
   "id": "eb50b811-ea8d-4d14-9ea1-f6dbe9bd5f5b",
   "metadata": {},
   "outputs": [],
   "source": [
    "class Employee:\n",
    "    pass"
   ]
  },
  {
   "cell_type": "code",
   "execution_count": null,
   "id": "5ee70efc-f0d2-4b20-b0e8-4558551e5e19",
   "metadata": {},
   "outputs": [],
   "source": []
  },
  {
   "cell_type": "code",
   "execution_count": 44,
   "id": "39b21bf9-d093-45ee-99cd-d120e65f9ffe",
   "metadata": {},
   "outputs": [
    {
     "data": {
      "text/plain": [
       "8"
      ]
     },
     "execution_count": 44,
     "metadata": {},
     "output_type": "execute_result"
    }
   ],
   "source": [
    "l = [5, 6, 8]\n",
    "l.pop()"
   ]
  },
  {
   "cell_type": "code",
   "execution_count": 45,
   "id": "7da242d2-2c8e-4426-8d1b-ee8b51a22083",
   "metadata": {},
   "outputs": [
    {
     "data": {
      "text/plain": [
       "[5, 6]"
      ]
     },
     "execution_count": 45,
     "metadata": {},
     "output_type": "execute_result"
    }
   ],
   "source": [
    "l"
   ]
  },
  {
   "cell_type": "code",
   "execution_count": 57,
   "id": "1bb9936d-e1d9-4b10-8f9a-6a1b3fcc2535",
   "metadata": {},
   "outputs": [],
   "source": [
    "class A:\n",
    "    c_a = 5\n",
    "    def __init__(self):\n",
    "        self.val = 0\n",
    "        print(\"Hey I am called\")\n",
    "\n",
    "    def incr_val(self, val):\n",
    "        self.val += val\n",
    "\n",
    "    def get_val(self):\n",
    "        return self.val"
   ]
  },
  {
   "cell_type": "code",
   "execution_count": 58,
   "id": "7b3b4de8-c8de-4789-a1b0-a642a6dff2f4",
   "metadata": {},
   "outputs": [
    {
     "name": "stdout",
     "output_type": "stream",
     "text": [
      "Hey I am called\n"
     ]
    }
   ],
   "source": [
    "a = A()"
   ]
  },
  {
   "cell_type": "code",
   "execution_count": 59,
   "id": "8cb5cc08-652c-4a95-90d8-e05e19f43474",
   "metadata": {},
   "outputs": [
    {
     "data": {
      "text/plain": [
       "0"
      ]
     },
     "execution_count": 59,
     "metadata": {},
     "output_type": "execute_result"
    }
   ],
   "source": [
    "a.get_val()"
   ]
  },
  {
   "cell_type": "code",
   "execution_count": 60,
   "id": "5ab78555-79ce-4641-a44e-0cbe6d2144be",
   "metadata": {},
   "outputs": [],
   "source": [
    "a.incr_val(5)"
   ]
  },
  {
   "cell_type": "code",
   "execution_count": 61,
   "id": "667e2d68-5284-40d2-a9ff-44fc3cf9a28b",
   "metadata": {},
   "outputs": [
    {
     "data": {
      "text/plain": [
       "5"
      ]
     },
     "execution_count": 61,
     "metadata": {},
     "output_type": "execute_result"
    }
   ],
   "source": [
    "a.get_val()"
   ]
  },
  {
   "cell_type": "code",
   "execution_count": 62,
   "id": "c3c78894-b67e-43ee-9647-30acd9ce3282",
   "metadata": {},
   "outputs": [
    {
     "data": {
      "text/plain": [
       "5"
      ]
     },
     "execution_count": 62,
     "metadata": {},
     "output_type": "execute_result"
    }
   ],
   "source": [
    "a.val"
   ]
  },
  {
   "cell_type": "code",
   "execution_count": 63,
   "id": "84d1b2fb-a37f-4f46-8402-aa25badc41f2",
   "metadata": {},
   "outputs": [
    {
     "name": "stdout",
     "output_type": "stream",
     "text": [
      "Hey I am called\n"
     ]
    }
   ],
   "source": [
    "b = A()"
   ]
  },
  {
   "cell_type": "code",
   "execution_count": 64,
   "id": "17e4839e-ad6e-4399-9e44-58465e172dff",
   "metadata": {},
   "outputs": [
    {
     "data": {
      "text/plain": [
       "0"
      ]
     },
     "execution_count": 64,
     "metadata": {},
     "output_type": "execute_result"
    }
   ],
   "source": [
    "b.val"
   ]
  },
  {
   "cell_type": "code",
   "execution_count": 65,
   "id": "43d11249-2fc6-40d1-8651-7149b68bdcf0",
   "metadata": {},
   "outputs": [
    {
     "data": {
      "text/plain": [
       "5"
      ]
     },
     "execution_count": 65,
     "metadata": {},
     "output_type": "execute_result"
    }
   ],
   "source": [
    "a.val"
   ]
  },
  {
   "cell_type": "code",
   "execution_count": 66,
   "id": "e8df370c-b3c2-4706-a42b-d68206516dff",
   "metadata": {},
   "outputs": [
    {
     "data": {
      "text/plain": [
       "5"
      ]
     },
     "execution_count": 66,
     "metadata": {},
     "output_type": "execute_result"
    }
   ],
   "source": [
    "a.c_a"
   ]
  },
  {
   "cell_type": "code",
   "execution_count": 67,
   "id": "e851dba5-daac-48e6-be7f-81ad683735da",
   "metadata": {},
   "outputs": [
    {
     "data": {
      "text/plain": [
       "5"
      ]
     },
     "execution_count": 67,
     "metadata": {},
     "output_type": "execute_result"
    }
   ],
   "source": [
    "b.c_a"
   ]
  },
  {
   "cell_type": "code",
   "execution_count": 68,
   "id": "d0bea86d-c8c4-4d93-a015-e05aaaf28170",
   "metadata": {},
   "outputs": [],
   "source": [
    "a.c_a = 10"
   ]
  },
  {
   "cell_type": "code",
   "execution_count": 69,
   "id": "bdd91913-347e-4bb0-984f-f78a345aab14",
   "metadata": {},
   "outputs": [
    {
     "data": {
      "text/plain": [
       "5"
      ]
     },
     "execution_count": 69,
     "metadata": {},
     "output_type": "execute_result"
    }
   ],
   "source": [
    "b.c_a"
   ]
  },
  {
   "cell_type": "code",
   "execution_count": 70,
   "id": "09d8d8d5-b48c-456d-8c05-7454def538b9",
   "metadata": {},
   "outputs": [],
   "source": [
    "A.c_a = \"something\""
   ]
  },
  {
   "cell_type": "code",
   "execution_count": 71,
   "id": "87ae8e15-3328-482e-b7e7-bf73371316cc",
   "metadata": {},
   "outputs": [
    {
     "data": {
      "text/plain": [
       "'something'"
      ]
     },
     "execution_count": 71,
     "metadata": {},
     "output_type": "execute_result"
    }
   ],
   "source": [
    "b.c_a"
   ]
  },
  {
   "cell_type": "code",
   "execution_count": 81,
   "id": "7311e338-5a5e-4381-b86a-36c1ca06a154",
   "metadata": {},
   "outputs": [],
   "source": [
    "class A:\n",
    "    c_a = 5\n",
    "    def __init__(self):\n",
    "        self.val = 0\n",
    "        print(\"Hey I am called\")\n",
    "\n",
    "    def incr_val(self, val):\n",
    "        self.val += val\n",
    "\n",
    "    def get_val(self): #object method\n",
    "        return self.val\n",
    "\n",
    "    @classmethod\n",
    "    def change_c_a(cls, val, i=\"+\"):\n",
    "        if i==\"-\":\n",
    "            cls.c_a -= val\n",
    "        else:\n",
    "            cls.c_a += val"
   ]
  },
  {
   "cell_type": "code",
   "execution_count": 82,
   "id": "15c5db5b-9e0a-4661-94c1-6f16768e7a5b",
   "metadata": {},
   "outputs": [
    {
     "name": "stdout",
     "output_type": "stream",
     "text": [
      "Hey I am called\n",
      "Hey I am called\n"
     ]
    }
   ],
   "source": [
    "a1 = A()\n",
    "b1 = A()"
   ]
  },
  {
   "cell_type": "code",
   "execution_count": 83,
   "id": "6069ac3f-dc81-40f6-a304-9226ad126501",
   "metadata": {},
   "outputs": [
    {
     "data": {
      "text/plain": [
       "{'val': 0}"
      ]
     },
     "execution_count": 83,
     "metadata": {},
     "output_type": "execute_result"
    }
   ],
   "source": [
    "a1.__dict__"
   ]
  },
  {
   "cell_type": "code",
   "execution_count": 84,
   "id": "d8184877-c2ad-4d19-8389-d3e7a6c53d6a",
   "metadata": {},
   "outputs": [
    {
     "data": {
      "text/plain": [
       "{'val': 0}"
      ]
     },
     "execution_count": 84,
     "metadata": {},
     "output_type": "execute_result"
    }
   ],
   "source": [
    "b1.__dict__"
   ]
  },
  {
   "cell_type": "code",
   "execution_count": 85,
   "id": "5dca02f9-31fe-4cfc-b452-3f526d8cc48d",
   "metadata": {},
   "outputs": [],
   "source": [
    "a1.incr_val(5)"
   ]
  },
  {
   "cell_type": "code",
   "execution_count": 86,
   "id": "72d13c89-de48-429d-87e4-3b76a73f3a1c",
   "metadata": {},
   "outputs": [
    {
     "data": {
      "text/plain": [
       "{'val': 5}"
      ]
     },
     "execution_count": 86,
     "metadata": {},
     "output_type": "execute_result"
    }
   ],
   "source": [
    "a1.__dict__"
   ]
  },
  {
   "cell_type": "code",
   "execution_count": 87,
   "id": "a70b6a4b-c40d-47e3-ac10-8d38f1b4b348",
   "metadata": {},
   "outputs": [
    {
     "data": {
      "text/plain": [
       "{'val': 0}"
      ]
     },
     "execution_count": 87,
     "metadata": {},
     "output_type": "execute_result"
    }
   ],
   "source": [
    "b1.__dict__"
   ]
  },
  {
   "cell_type": "code",
   "execution_count": 88,
   "id": "666f6ced-c015-4d35-bb1a-fa1d725f1b3d",
   "metadata": {},
   "outputs": [],
   "source": [
    "a1.change_c_a(6)"
   ]
  },
  {
   "cell_type": "code",
   "execution_count": 89,
   "id": "88391cf1-1543-42a6-9444-9921ac137010",
   "metadata": {},
   "outputs": [
    {
     "data": {
      "text/plain": [
       "11"
      ]
     },
     "execution_count": 89,
     "metadata": {},
     "output_type": "execute_result"
    }
   ],
   "source": [
    "b1.c_a"
   ]
  },
  {
   "cell_type": "code",
   "execution_count": 90,
   "id": "4f32a9d7-9668-4f1b-8ff6-cd157d3b4c22",
   "metadata": {},
   "outputs": [
    {
     "ename": "TypeError",
     "evalue": "A.get_val() missing 1 required positional argument: 'self'",
     "output_type": "error",
     "traceback": [
      "\u001b[1;31m---------------------------------------------------------------------------\u001b[0m",
      "\u001b[1;31mTypeError\u001b[0m                                 Traceback (most recent call last)",
      "Cell \u001b[1;32mIn[90], line 1\u001b[0m\n\u001b[1;32m----> 1\u001b[0m \u001b[43mA\u001b[49m\u001b[38;5;241;43m.\u001b[39;49m\u001b[43mget_val\u001b[49m\u001b[43m(\u001b[49m\u001b[43m)\u001b[49m\n",
      "\u001b[1;31mTypeError\u001b[0m: A.get_val() missing 1 required positional argument: 'self'"
     ]
    }
   ],
   "source": [
    "A.get_val()"
   ]
  },
  {
   "cell_type": "code",
   "execution_count": 91,
   "id": "de8bc619-e6f5-4273-bf25-b4f601a379a5",
   "metadata": {},
   "outputs": [
    {
     "data": {
      "text/plain": [
       "5"
      ]
     },
     "execution_count": 91,
     "metadata": {},
     "output_type": "execute_result"
    }
   ],
   "source": [
    "A.get_val(a1)"
   ]
  },
  {
   "cell_type": "code",
   "execution_count": 92,
   "id": "7c9448ab-8064-4668-a013-d16cadd3b940",
   "metadata": {},
   "outputs": [
    {
     "data": {
      "text/plain": [
       "0"
      ]
     },
     "execution_count": 92,
     "metadata": {},
     "output_type": "execute_result"
    }
   ],
   "source": [
    "A.get_val(b1)"
   ]
  },
  {
   "cell_type": "code",
   "execution_count": 93,
   "id": "b7c6812d-98d5-4c9d-815f-56af172b27d0",
   "metadata": {},
   "outputs": [],
   "source": [
    "class Employee:\n",
    "    def __init__(self, name, age):\n",
    "        self.__name = name\n",
    "        self.__age = age\n",
    "\n",
    "    def get_name(self):\n",
    "        return self.__name\n",
    "\n",
    "    def change_name(self, name):\n",
    "        self._name = name\n",
    "\n",
    "    def get_age(self):\n",
    "        return self.__age"
   ]
  },
  {
   "cell_type": "code",
   "execution_count": 94,
   "id": "410c4562-aee9-4b35-ad0f-f2bfab67c5fd",
   "metadata": {},
   "outputs": [
    {
     "ename": "TypeError",
     "evalue": "Employee.__init__() missing 2 required positional arguments: 'name' and 'age'",
     "output_type": "error",
     "traceback": [
      "\u001b[1;31m---------------------------------------------------------------------------\u001b[0m",
      "\u001b[1;31mTypeError\u001b[0m                                 Traceback (most recent call last)",
      "Cell \u001b[1;32mIn[94], line 1\u001b[0m\n\u001b[1;32m----> 1\u001b[0m e1 \u001b[38;5;241m=\u001b[39m \u001b[43mEmployee\u001b[49m\u001b[43m(\u001b[49m\u001b[43m)\u001b[49m\n",
      "\u001b[1;31mTypeError\u001b[0m: Employee.__init__() missing 2 required positional arguments: 'name' and 'age'"
     ]
    }
   ],
   "source": [
    "e1 = Employee()"
   ]
  },
  {
   "cell_type": "code",
   "execution_count": 95,
   "id": "6a2265b3-8fa5-4ce7-bb27-b368e60af18a",
   "metadata": {},
   "outputs": [],
   "source": [
    "e1 = Employee(\"Raja\", 53)"
   ]
  },
  {
   "cell_type": "code",
   "execution_count": 96,
   "id": "cb99dbf0-689d-4d64-b8d7-c885968fce29",
   "metadata": {},
   "outputs": [
    {
     "ename": "AttributeError",
     "evalue": "'Employee' object has no attribute '__name'",
     "output_type": "error",
     "traceback": [
      "\u001b[1;31m---------------------------------------------------------------------------\u001b[0m",
      "\u001b[1;31mAttributeError\u001b[0m                            Traceback (most recent call last)",
      "Cell \u001b[1;32mIn[96], line 1\u001b[0m\n\u001b[1;32m----> 1\u001b[0m \u001b[43me1\u001b[49m\u001b[38;5;241;43m.\u001b[39;49m\u001b[43m__name\u001b[49m\n",
      "\u001b[1;31mAttributeError\u001b[0m: 'Employee' object has no attribute '__name'"
     ]
    }
   ],
   "source": [
    "e1.__name"
   ]
  },
  {
   "cell_type": "code",
   "execution_count": 97,
   "id": "245dab4d-66cb-46c5-8368-3238b62a7dde",
   "metadata": {},
   "outputs": [
    {
     "data": {
      "text/plain": [
       "'Raja'"
      ]
     },
     "execution_count": 97,
     "metadata": {},
     "output_type": "execute_result"
    }
   ],
   "source": [
    "e1.get_name()"
   ]
  },
  {
   "cell_type": "code",
   "execution_count": null,
   "id": "2da241a9-d408-4600-9ecd-76ce68488f28",
   "metadata": {},
   "outputs": [],
   "source": []
  }
 ],
 "metadata": {
  "kernelspec": {
   "display_name": "Python 3 (ipykernel)",
   "language": "python",
   "name": "python3"
  },
  "language_info": {
   "codemirror_mode": {
    "name": "ipython",
    "version": 3
   },
   "file_extension": ".py",
   "mimetype": "text/x-python",
   "name": "python",
   "nbconvert_exporter": "python",
   "pygments_lexer": "ipython3",
   "version": "3.13.1"
  }
 },
 "nbformat": 4,
 "nbformat_minor": 5
}
