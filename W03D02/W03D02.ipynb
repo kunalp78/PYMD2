{
 "cells": [
  {
   "cell_type": "code",
   "execution_count": 1,
   "id": "69b6a539-e2cc-4736-a11f-1f8bee1384c4",
   "metadata": {},
   "outputs": [],
   "source": [
    "class Car:\n",
    "    def __init__(self, wheel):\n",
    "        self.wheel = wheel\n",
    "        self.color = \"red\"\n",
    "\n",
    "    def change_color(self, color):\n",
    "        self.color = color\n",
    "\n",
    "    def get_color(self):\n",
    "        return self.color\n",
    "\n",
    "    \n",
    "car1 = Car(2)\n",
    "car2 = Car(4)"
   ]
  },
  {
   "cell_type": "code",
   "execution_count": 2,
   "id": "6c26e61c-b289-474f-b673-5e6398344887",
   "metadata": {},
   "outputs": [
    {
     "data": {
      "text/plain": [
       "2"
      ]
     },
     "execution_count": 2,
     "metadata": {},
     "output_type": "execute_result"
    }
   ],
   "source": [
    "car1.wheel"
   ]
  },
  {
   "cell_type": "code",
   "execution_count": 4,
   "id": "b132d29f-c2d0-452c-8112-62652539fea0",
   "metadata": {},
   "outputs": [
    {
     "data": {
      "text/plain": [
       "4"
      ]
     },
     "execution_count": 4,
     "metadata": {},
     "output_type": "execute_result"
    }
   ],
   "source": [
    "car2.wheel"
   ]
  },
  {
   "cell_type": "code",
   "execution_count": 7,
   "id": "a665fc88-ecfe-4add-a223-ae6bd06bda4e",
   "metadata": {},
   "outputs": [],
   "source": [
    "class Car:\n",
    "    \n",
    "    def __init__(self, wheel):\n",
    "        self.wheel = wheel\n",
    "        self.color = \"red\"\n",
    "\n",
    "    def change_color(self, color):\n",
    "        self.color = color\n",
    "\n",
    "    def get_color(self):\n",
    "        print(id(self))\n",
    "        return self.color\n",
    "\n",
    "car1 = Car(5)"
   ]
  },
  {
   "cell_type": "code",
   "execution_count": 8,
   "id": "ed622492-030f-4454-a43f-f08632da1bae",
   "metadata": {},
   "outputs": [
    {
     "name": "stdout",
     "output_type": "stream",
     "text": [
      "1488993517984\n"
     ]
    },
    {
     "data": {
      "text/plain": [
       "'red'"
      ]
     },
     "execution_count": 8,
     "metadata": {},
     "output_type": "execute_result"
    }
   ],
   "source": [
    "car1.get_color()"
   ]
  },
  {
   "cell_type": "code",
   "execution_count": 9,
   "id": "21e52985-2366-4a74-b523-40a4f7fc3340",
   "metadata": {},
   "outputs": [
    {
     "data": {
      "text/plain": [
       "1488993517984"
      ]
     },
     "execution_count": 9,
     "metadata": {},
     "output_type": "execute_result"
    }
   ],
   "source": [
    "id(car1)"
   ]
  },
  {
   "cell_type": "code",
   "execution_count": 18,
   "id": "690f4328-87e9-4db5-8aba-7b0e22953dfa",
   "metadata": {},
   "outputs": [],
   "source": [
    "class Car:\n",
    "    make = \"TATA\"\n",
    "    def __init__(self, wheel):\n",
    "        self.wheel = wheel\n",
    "        self.color = \"red\"\n",
    "\n",
    "    def change_color(self, color):\n",
    "        self.color = color\n",
    "\n",
    "    def get_color(self):\n",
    "        print(id(self))\n",
    "        return self.color\n",
    "\n",
    "    # class methods can be accessed via object references\n",
    "    @classmethod\n",
    "    def change_make(cls, make=\"TATA\"):\n",
    "        print(id(cls))\n",
    "        cls.make = make\n",
    "\n",
    "    @classmethod\n",
    "    def get_make(cls):\n",
    "        return cls.make\n",
    "\n",
    "car1 = Car(5)\n",
    "car2 = Car(4)\n",
    "car3 = Car(2)"
   ]
  },
  {
   "cell_type": "code",
   "execution_count": 19,
   "id": "35f9eb1d-e5b1-417a-9c49-eaa135a9d2f7",
   "metadata": {},
   "outputs": [
    {
     "data": {
      "text/plain": [
       "'TATA'"
      ]
     },
     "execution_count": 19,
     "metadata": {},
     "output_type": "execute_result"
    }
   ],
   "source": [
    "car1.make"
   ]
  },
  {
   "cell_type": "code",
   "execution_count": 20,
   "id": "b18f4fa1-071f-4a39-8564-9abfabc588d9",
   "metadata": {},
   "outputs": [
    {
     "data": {
      "text/plain": [
       "'TATA'"
      ]
     },
     "execution_count": 20,
     "metadata": {},
     "output_type": "execute_result"
    }
   ],
   "source": [
    "car2.make"
   ]
  },
  {
   "cell_type": "code",
   "execution_count": 21,
   "id": "ff33339b-52bb-4cda-a5b7-cab92a12407a",
   "metadata": {},
   "outputs": [
    {
     "data": {
      "text/plain": [
       "5"
      ]
     },
     "execution_count": 21,
     "metadata": {},
     "output_type": "execute_result"
    }
   ],
   "source": [
    "car1.wheel"
   ]
  },
  {
   "cell_type": "code",
   "execution_count": 22,
   "id": "846e3170-d962-4f89-bc7f-0fb9cd2666fc",
   "metadata": {},
   "outputs": [
    {
     "data": {
      "text/plain": [
       "4"
      ]
     },
     "execution_count": 22,
     "metadata": {},
     "output_type": "execute_result"
    }
   ],
   "source": [
    "car2.wheel"
   ]
  },
  {
   "cell_type": "code",
   "execution_count": 23,
   "id": "2f1e5179-8457-4495-ace7-fbbc68fa921f",
   "metadata": {},
   "outputs": [
    {
     "data": {
      "text/plain": [
       "'TATA'"
      ]
     },
     "execution_count": 23,
     "metadata": {},
     "output_type": "execute_result"
    }
   ],
   "source": [
    "Car.make"
   ]
  },
  {
   "cell_type": "code",
   "execution_count": 24,
   "id": "e1d0ccec-60ee-480c-83c9-699334ba354d",
   "metadata": {},
   "outputs": [],
   "source": [
    "car1.change_make(\"Maruti\")"
   ]
  },
  {
   "cell_type": "code",
   "execution_count": 25,
   "id": "62414a55-b6d4-49f3-aaeb-7225f27b4cb1",
   "metadata": {},
   "outputs": [
    {
     "data": {
      "text/plain": [
       "'Maruti'"
      ]
     },
     "execution_count": 25,
     "metadata": {},
     "output_type": "execute_result"
    }
   ],
   "source": [
    "car1.get_make()"
   ]
  },
  {
   "cell_type": "code",
   "execution_count": 26,
   "id": "3fb2c204-39ee-42fd-887b-86fd30a0c5d8",
   "metadata": {},
   "outputs": [
    {
     "data": {
      "text/plain": [
       "'Maruti'"
      ]
     },
     "execution_count": 26,
     "metadata": {},
     "output_type": "execute_result"
    }
   ],
   "source": [
    "car2.get_make()"
   ]
  },
  {
   "cell_type": "code",
   "execution_count": 27,
   "id": "4a28fb78-fa19-48d1-8c44-d4b767dd55f8",
   "metadata": {},
   "outputs": [],
   "source": [
    "car1.make = \"Kunal\""
   ]
  },
  {
   "cell_type": "code",
   "execution_count": 28,
   "id": "a8448792-f9cc-4849-a2d2-bde97df6e96b",
   "metadata": {},
   "outputs": [
    {
     "data": {
      "text/plain": [
       "'Maruti'"
      ]
     },
     "execution_count": 28,
     "metadata": {},
     "output_type": "execute_result"
    }
   ],
   "source": [
    "car2.get_make()"
   ]
  },
  {
   "cell_type": "code",
   "execution_count": 29,
   "id": "49def912-983b-48a8-9471-7f0ecde52014",
   "metadata": {},
   "outputs": [
    {
     "data": {
      "text/plain": [
       "'Maruti'"
      ]
     },
     "execution_count": 29,
     "metadata": {},
     "output_type": "execute_result"
    }
   ],
   "source": [
    "car1.get_make()"
   ]
  },
  {
   "cell_type": "code",
   "execution_count": 30,
   "id": "cd4425bc-1438-471c-8ed1-0973be65ba4a",
   "metadata": {},
   "outputs": [
    {
     "data": {
      "text/plain": [
       "'Kunal'"
      ]
     },
     "execution_count": 30,
     "metadata": {},
     "output_type": "execute_result"
    }
   ],
   "source": [
    "car1.make"
   ]
  },
  {
   "cell_type": "code",
   "execution_count": 31,
   "id": "0529b018-4abe-4c23-997d-99f05467fcda",
   "metadata": {},
   "outputs": [
    {
     "data": {
      "text/plain": [
       "'Maruti'"
      ]
     },
     "execution_count": 31,
     "metadata": {},
     "output_type": "execute_result"
    }
   ],
   "source": [
    "car3.make"
   ]
  },
  {
   "cell_type": "code",
   "execution_count": 32,
   "id": "694a3408-85f3-4ad8-9ec6-e23e4f2495c6",
   "metadata": {},
   "outputs": [],
   "source": [
    "class Car:\n",
    "    make = \"TATA\"\n",
    "    def __init__(self, wheel):\n",
    "        self.wheel = wheel\n",
    "        self.color = \"red\"\n",
    "\n",
    "    def change_color(self, color):\n",
    "        self.color = color\n",
    "\n",
    "    def get_color(self):\n",
    "        print(id(self))\n",
    "        return self.color\n",
    "\n",
    "    # class methods can be accessed via object references\n",
    "    @classmethod\n",
    "    def change_make(cls, make=\"TATA\"):\n",
    "        print(id(cls))\n",
    "        cls.make = make\n",
    "\n",
    "    @classmethod\n",
    "    def get_make(cls):\n",
    "        return cls.make\n",
    "\n",
    "car1 = Car(5)\n",
    "car2 = Car(4)\n",
    "car3 = Car(2)"
   ]
  },
  {
   "cell_type": "code",
   "execution_count": 33,
   "id": "2b9685f0-5b33-445f-babf-22854eaba10e",
   "metadata": {},
   "outputs": [
    {
     "data": {
      "text/plain": [
       "1488976262272"
      ]
     },
     "execution_count": 33,
     "metadata": {},
     "output_type": "execute_result"
    }
   ],
   "source": [
    "id(Car)"
   ]
  },
  {
   "cell_type": "code",
   "execution_count": 34,
   "id": "832489cf-ea84-46c3-8d5a-d6a5c1d19c1c",
   "metadata": {},
   "outputs": [
    {
     "name": "stdout",
     "output_type": "stream",
     "text": [
      "1488976262272\n"
     ]
    }
   ],
   "source": [
    "car1.change_make()"
   ]
  },
  {
   "cell_type": "code",
   "execution_count": 35,
   "id": "4d03e56d-2d10-4a48-9a9d-133e91b5b258",
   "metadata": {},
   "outputs": [
    {
     "data": {
      "text/plain": [
       "1488993531760"
      ]
     },
     "execution_count": 35,
     "metadata": {},
     "output_type": "execute_result"
    }
   ],
   "source": [
    "id(car1)"
   ]
  },
  {
   "cell_type": "code",
   "execution_count": 36,
   "id": "1793c325-f00e-4584-aae9-7f58bcc2597d",
   "metadata": {},
   "outputs": [
    {
     "ename": "TypeError",
     "evalue": "Car.get_color() missing 1 required positional argument: 'self'",
     "output_type": "error",
     "traceback": [
      "\u001b[1;31m---------------------------------------------------------------------------\u001b[0m",
      "\u001b[1;31mTypeError\u001b[0m                                 Traceback (most recent call last)",
      "Cell \u001b[1;32mIn[36], line 1\u001b[0m\n\u001b[1;32m----> 1\u001b[0m \u001b[43mCar\u001b[49m\u001b[38;5;241;43m.\u001b[39;49m\u001b[43mget_color\u001b[49m\u001b[43m(\u001b[49m\u001b[43m)\u001b[49m\n",
      "\u001b[1;31mTypeError\u001b[0m: Car.get_color() missing 1 required positional argument: 'self'"
     ]
    }
   ],
   "source": [
    "Car.get_color()"
   ]
  },
  {
   "cell_type": "code",
   "execution_count": 37,
   "id": "961283b3-20fb-43af-bc0d-503f7d93ae0f",
   "metadata": {},
   "outputs": [
    {
     "name": "stdout",
     "output_type": "stream",
     "text": [
      "1488993531760\n"
     ]
    },
    {
     "data": {
      "text/plain": [
       "'red'"
      ]
     },
     "execution_count": 37,
     "metadata": {},
     "output_type": "execute_result"
    }
   ],
   "source": [
    "Car.get_color(car1)"
   ]
  },
  {
   "cell_type": "code",
   "execution_count": 38,
   "id": "dd50ad0c-f5f2-432c-9e9d-d4c1e0d48bbb",
   "metadata": {},
   "outputs": [
    {
     "name": "stdout",
     "output_type": "stream",
     "text": [
      "1488995167888\n"
     ]
    },
    {
     "data": {
      "text/plain": [
       "'red'"
      ]
     },
     "execution_count": 38,
     "metadata": {},
     "output_type": "execute_result"
    }
   ],
   "source": [
    "Car.get_color(car2)"
   ]
  },
  {
   "cell_type": "code",
   "execution_count": 39,
   "id": "350689b6-1194-4713-900d-fae666ded2e4",
   "metadata": {},
   "outputs": [],
   "source": [
    "# Inheritence"
   ]
  },
  {
   "cell_type": "code",
   "execution_count": 40,
   "id": "6e20a3cf-5a32-4a7e-be89-bdc08a68bb08",
   "metadata": {},
   "outputs": [],
   "source": [
    "class Person:\n",
    "    def __init__(self, fname, age, phno):\n",
    "        self.firstname = fname\n",
    "        self.age = age\n",
    "        self.phno = phno\n",
    "\n",
    "    def printname(self):\n",
    "        print(self.firstname)\n",
    "\n",
    "x = Person(\"Megha\")"
   ]
  },
  {
   "cell_type": "code",
   "execution_count": 41,
   "id": "bdf0a1a0-ff98-49b9-9f65-a3de9b883b69",
   "metadata": {},
   "outputs": [
    {
     "name": "stdout",
     "output_type": "stream",
     "text": [
      "Megha\n"
     ]
    }
   ],
   "source": [
    "x.printname()"
   ]
  },
  {
   "cell_type": "code",
   "execution_count": null,
   "id": "063f6ce2-5f9a-4174-b650-94e09a7e11f5",
   "metadata": {},
   "outputs": [],
   "source": [
    "class Employee:\n",
    "    def __init__(self, fname, empid):\n",
    "        self.fname = fname\n",
    "        self.empid = empid"
   ]
  },
  {
   "cell_type": "code",
   "execution_count": null,
   "id": "c6864d33-429a-4d71-85d7-82e476644ab2",
   "metadata": {},
   "outputs": [],
   "source": [
    "Person --|\n",
    "        name,\n",
    "        age,\n",
    "        phno,\n",
    "        adhaar\n",
    "        etc..\n",
    "|\n",
    "|\n",
    "Student --\n",
    "        studentid\n",
    "        courseid = [course1, course2]"
   ]
  },
  {
   "cell_type": "code",
   "execution_count": 49,
   "id": "620deffc-6e5a-4885-b82f-89bb923def0e",
   "metadata": {},
   "outputs": [],
   "source": [
    "class Person:\n",
    "    def __init__(self):\n",
    "        self.firstname = \"\"\n",
    "        self.age = \"\"\n",
    "        self.phno = \"\"\n",
    "\n",
    "    def set_first_name(self, name):\n",
    "        self.firstname = name\n",
    "\n",
    "    def set_age(self, age):\n",
    "        self.age = age\n",
    "\n",
    "    def set_phn_no(self, phn):\n",
    "        self.phno = phn\n",
    "\n",
    "    def printname(self):\n",
    "        print(self.firstname)\n",
    "\n",
    "class Student(Person):\n",
    "    pass"
   ]
  },
  {
   "cell_type": "code",
   "execution_count": 50,
   "id": "9884ad3e-3f8c-4af3-98df-4096adf4a298",
   "metadata": {},
   "outputs": [],
   "source": [
    "s1 = Student()"
   ]
  },
  {
   "cell_type": "code",
   "execution_count": 51,
   "id": "af41fbe4-aec0-4ed3-bd09-d29061109d62",
   "metadata": {},
   "outputs": [
    {
     "data": {
      "text/plain": [
       "''"
      ]
     },
     "execution_count": 51,
     "metadata": {},
     "output_type": "execute_result"
    }
   ],
   "source": [
    "s1.firstname"
   ]
  },
  {
   "cell_type": "code",
   "execution_count": 52,
   "id": "24616d9f-f32d-462e-8800-70cf7fe9c653",
   "metadata": {},
   "outputs": [
    {
     "ename": "AttributeError",
     "evalue": "'Student' object has no attribute 'adhar'",
     "output_type": "error",
     "traceback": [
      "\u001b[1;31m---------------------------------------------------------------------------\u001b[0m",
      "\u001b[1;31mAttributeError\u001b[0m                            Traceback (most recent call last)",
      "Cell \u001b[1;32mIn[52], line 1\u001b[0m\n\u001b[1;32m----> 1\u001b[0m \u001b[43ms1\u001b[49m\u001b[38;5;241;43m.\u001b[39;49m\u001b[43madhar\u001b[49m\n",
      "\u001b[1;31mAttributeError\u001b[0m: 'Student' object has no attribute 'adhar'"
     ]
    }
   ],
   "source": [
    "s1.adhar"
   ]
  },
  {
   "cell_type": "code",
   "execution_count": 53,
   "id": "be4b4412-0f35-4a1f-8930-88dd7bb5f504",
   "metadata": {},
   "outputs": [],
   "source": [
    "s1.set_first_name(\"Rohan\")"
   ]
  },
  {
   "cell_type": "code",
   "execution_count": 54,
   "id": "32fa65a4-0168-400e-9f58-b2c09b52f270",
   "metadata": {},
   "outputs": [
    {
     "data": {
      "text/plain": [
       "'Rohan'"
      ]
     },
     "execution_count": 54,
     "metadata": {},
     "output_type": "execute_result"
    }
   ],
   "source": [
    "s1.firstname"
   ]
  },
  {
   "cell_type": "code",
   "execution_count": 55,
   "id": "7bbf5858-9d96-4948-bd2d-95ce3c3f4796",
   "metadata": {},
   "outputs": [
    {
     "data": {
      "text/plain": [
       "{'firstname': 'Rohan', 'age': '', 'phno': ''}"
      ]
     },
     "execution_count": 55,
     "metadata": {},
     "output_type": "execute_result"
    }
   ],
   "source": [
    "s1.__dict__"
   ]
  },
  {
   "cell_type": "code",
   "execution_count": 56,
   "id": "8b94d70e-8cfd-4ed9-9f1f-e4360e238c48",
   "metadata": {},
   "outputs": [],
   "source": [
    "class Person:\n",
    "    def __init__(self, fname, age, phno):\n",
    "        self.firstname = fname\n",
    "        self.age = age\n",
    "        self.phno = phno\n",
    "\n",
    "    def set_first_name(self, name):\n",
    "        self.firstname = name\n",
    "\n",
    "    def set_age(self, age):\n",
    "        self.age = age\n",
    "\n",
    "    def set_phn_no(self, phn):\n",
    "        self.phno = phn\n",
    "\n",
    "    def printname(self):\n",
    "        print(self.firstname)\n",
    "\n",
    "class Student(Person):\n",
    "    pass"
   ]
  },
  {
   "cell_type": "code",
   "execution_count": 57,
   "id": "a4ecd098-7416-45e6-a90e-a5f49eadaa8c",
   "metadata": {},
   "outputs": [
    {
     "ename": "TypeError",
     "evalue": "Person.__init__() missing 3 required positional arguments: 'fname', 'age', and 'phno'",
     "output_type": "error",
     "traceback": [
      "\u001b[1;31m---------------------------------------------------------------------------\u001b[0m",
      "\u001b[1;31mTypeError\u001b[0m                                 Traceback (most recent call last)",
      "Cell \u001b[1;32mIn[57], line 1\u001b[0m\n\u001b[1;32m----> 1\u001b[0m s1 \u001b[38;5;241m=\u001b[39m \u001b[43mStudent\u001b[49m\u001b[43m(\u001b[49m\u001b[43m)\u001b[49m\n",
      "\u001b[1;31mTypeError\u001b[0m: Person.__init__() missing 3 required positional arguments: 'fname', 'age', and 'phno'"
     ]
    }
   ],
   "source": [
    "s1 = Student()"
   ]
  },
  {
   "cell_type": "code",
   "execution_count": 58,
   "id": "91ae6e3d-72cb-4ae2-a826-dfadd657bb8d",
   "metadata": {},
   "outputs": [],
   "source": [
    "s1 = Student(\"Ram\", 25, 9123456789)"
   ]
  },
  {
   "cell_type": "code",
   "execution_count": 59,
   "id": "7a6a059e-ae3f-429c-8b91-96468527d5a6",
   "metadata": {},
   "outputs": [
    {
     "data": {
      "text/plain": [
       "9123456789"
      ]
     },
     "execution_count": 59,
     "metadata": {},
     "output_type": "execute_result"
    }
   ],
   "source": [
    "s1.phno"
   ]
  },
  {
   "cell_type": "code",
   "execution_count": 60,
   "id": "387f9719-9e03-4d25-8153-d4f4d236f122",
   "metadata": {},
   "outputs": [
    {
     "name": "stdout",
     "output_type": "stream",
     "text": [
      "Ram\n"
     ]
    }
   ],
   "source": [
    "s1.printname()"
   ]
  },
  {
   "cell_type": "code",
   "execution_count": 61,
   "id": "57fa0222-5e65-4bac-ba32-222d3e48b385",
   "metadata": {},
   "outputs": [
    {
     "data": {
      "text/plain": [
       "{'firstname': 'Ram', 'age': 25, 'phno': 9123456789}"
      ]
     },
     "execution_count": 61,
     "metadata": {},
     "output_type": "execute_result"
    }
   ],
   "source": [
    "s1.__dict__"
   ]
  },
  {
   "cell_type": "code",
   "execution_count": null,
   "id": "11a66617-e45a-46cc-aa45-b3c196463403",
   "metadata": {},
   "outputs": [],
   "source": [
    "# what if parent and child both have same method. and when we create object of child whose mehtod would be called?"
   ]
  },
  {
   "cell_type": "code",
   "execution_count": 62,
   "id": "565a40ee-6cab-41de-a69c-ef560faf1dfb",
   "metadata": {},
   "outputs": [],
   "source": [
    "class Person:\n",
    "    def __init__(self, fname, age, phno):\n",
    "        print(\"Hey I am constructor of Person\")\n",
    "        self.firstname = fname\n",
    "        self.age = age\n",
    "        self.phno = phno\n",
    "\n",
    "    def set_first_name(self, name):\n",
    "        self.firstname = name\n",
    "\n",
    "    def set_age(self, age):\n",
    "        self.age = age\n",
    "\n",
    "    def set_phn_no(self, phn):\n",
    "        self.phno = phn\n",
    "\n",
    "    def printname(self):\n",
    "        print(self.firstname)\n",
    "\n",
    "class Student(Person):\n",
    "    def __init__(self):\n",
    "        print(\"Hey I am init of Student\")"
   ]
  },
  {
   "cell_type": "code",
   "execution_count": 63,
   "id": "add2700c-bdf7-4306-83fa-0c6f1f6f9959",
   "metadata": {},
   "outputs": [
    {
     "name": "stdout",
     "output_type": "stream",
     "text": [
      "Hey I am init of Student\n"
     ]
    }
   ],
   "source": [
    "s1 = Student()"
   ]
  },
  {
   "cell_type": "code",
   "execution_count": 64,
   "id": "56a258a9-c903-438b-bcb0-c615e6ac5a95",
   "metadata": {},
   "outputs": [
    {
     "ename": "AttributeError",
     "evalue": "'Student' object has no attribute 'firstname'",
     "output_type": "error",
     "traceback": [
      "\u001b[1;31m---------------------------------------------------------------------------\u001b[0m",
      "\u001b[1;31mAttributeError\u001b[0m                            Traceback (most recent call last)",
      "Cell \u001b[1;32mIn[64], line 1\u001b[0m\n\u001b[1;32m----> 1\u001b[0m \u001b[43ms1\u001b[49m\u001b[38;5;241;43m.\u001b[39;49m\u001b[43mfirstname\u001b[49m\n",
      "\u001b[1;31mAttributeError\u001b[0m: 'Student' object has no attribute 'firstname'"
     ]
    }
   ],
   "source": [
    "s1.firstname"
   ]
  },
  {
   "cell_type": "code",
   "execution_count": 65,
   "id": "7ce5dc60-1f90-4555-8a3a-a71c7b95fd38",
   "metadata": {},
   "outputs": [
    {
     "name": "stdout",
     "output_type": "stream",
     "text": [
      "Hey I am init of Student\n"
     ]
    },
    {
     "ename": "TypeError",
     "evalue": "Person.__init__() missing 3 required positional arguments: 'fname', 'age', and 'phno'",
     "output_type": "error",
     "traceback": [
      "\u001b[1;31m---------------------------------------------------------------------------\u001b[0m",
      "\u001b[1;31mTypeError\u001b[0m                                 Traceback (most recent call last)",
      "Cell \u001b[1;32mIn[65], line 25\u001b[0m\n\u001b[0;32m     22\u001b[0m         \u001b[38;5;28mprint\u001b[39m(\u001b[38;5;124m\"\u001b[39m\u001b[38;5;124mHey I am init of Student\u001b[39m\u001b[38;5;124m\"\u001b[39m)\n\u001b[0;32m     23\u001b[0m         \u001b[38;5;28msuper\u001b[39m()\u001b[38;5;241m.\u001b[39m\u001b[38;5;21m__init__\u001b[39m()\n\u001b[1;32m---> 25\u001b[0m s1 \u001b[38;5;241m=\u001b[39m \u001b[43mStudent\u001b[49m\u001b[43m(\u001b[49m\u001b[43m)\u001b[49m\n",
      "Cell \u001b[1;32mIn[65], line 23\u001b[0m, in \u001b[0;36mStudent.__init__\u001b[1;34m(self)\u001b[0m\n\u001b[0;32m     21\u001b[0m \u001b[38;5;28;01mdef\u001b[39;00m \u001b[38;5;21m__init__\u001b[39m(\u001b[38;5;28mself\u001b[39m):\n\u001b[0;32m     22\u001b[0m     \u001b[38;5;28mprint\u001b[39m(\u001b[38;5;124m\"\u001b[39m\u001b[38;5;124mHey I am init of Student\u001b[39m\u001b[38;5;124m\"\u001b[39m)\n\u001b[1;32m---> 23\u001b[0m     \u001b[38;5;28;43msuper\u001b[39;49m\u001b[43m(\u001b[49m\u001b[43m)\u001b[49m\u001b[38;5;241;43m.\u001b[39;49m\u001b[38;5;21;43m__init__\u001b[39;49m\u001b[43m(\u001b[49m\u001b[43m)\u001b[49m\n",
      "\u001b[1;31mTypeError\u001b[0m: Person.__init__() missing 3 required positional arguments: 'fname', 'age', and 'phno'"
     ]
    }
   ],
   "source": [
    "class Person:\n",
    "    def __init__(self, fname, age, phno):\n",
    "        print(\"Hey I am constructor of Person\")\n",
    "        self.firstname = fname\n",
    "        self.age = age\n",
    "        self.phno = phno\n",
    "\n",
    "    def set_first_name(self, name):\n",
    "        self.firstname = name\n",
    "\n",
    "    def set_age(self, age):\n",
    "        self.age = age\n",
    "\n",
    "    def set_phn_no(self, phn):\n",
    "        self.phno = phn\n",
    "\n",
    "    def printname(self):\n",
    "        print(self.firstname)\n",
    "\n",
    "class Student(Person):\n",
    "    def __init__(self):\n",
    "        print(\"Hey I am init of Student\")\n",
    "        super().__init__()\n",
    "\n",
    "s1 = Student()"
   ]
  },
  {
   "cell_type": "code",
   "execution_count": 66,
   "id": "2946a4e9-8a35-4e64-aca3-cb9822a6387a",
   "metadata": {},
   "outputs": [
    {
     "name": "stdout",
     "output_type": "stream",
     "text": [
      "Hey I am init of Student\n",
      "Hey I am constructor of Person\n"
     ]
    }
   ],
   "source": [
    "class Person:\n",
    "    def __init__(self, fname, age, phno):\n",
    "        print(\"Hey I am constructor of Person\")\n",
    "        self.firstname = fname\n",
    "        self.age = age\n",
    "        self.phno = phno\n",
    "\n",
    "    def set_first_name(self, name):\n",
    "        self.firstname = name\n",
    "\n",
    "    def set_age(self, age):\n",
    "        self.age = age\n",
    "\n",
    "    def set_phn_no(self, phn):\n",
    "        self.phno = phn\n",
    "\n",
    "    def printname(self):\n",
    "        print(self.firstname)\n",
    "\n",
    "class Student(Person):\n",
    "    def __init__(self, fname, age, phno):\n",
    "        print(\"Hey I am init of Student\")\n",
    "        super().__init__(fname, age, phno)\n",
    "\n",
    "s1 = Student(\"Jaspal\", 26, 9874568515)"
   ]
  },
  {
   "cell_type": "code",
   "execution_count": 67,
   "id": "2425496b-5e94-4541-803e-7d77281da948",
   "metadata": {},
   "outputs": [
    {
     "data": {
      "text/plain": [
       "'Jaspal'"
      ]
     },
     "execution_count": 67,
     "metadata": {},
     "output_type": "execute_result"
    }
   ],
   "source": [
    "s1.firstname"
   ]
  },
  {
   "cell_type": "code",
   "execution_count": 69,
   "id": "c2e813b8-f671-4588-a1b8-d310e20a56bd",
   "metadata": {},
   "outputs": [
    {
     "name": "stdout",
     "output_type": "stream",
     "text": [
      "Hey I am init of Student\n",
      "Hey I am constructor of Person\n"
     ]
    }
   ],
   "source": [
    "class Person:\n",
    "    def __init__(self, fname, age, phno):\n",
    "        print(\"Hey I am constructor of Person\")\n",
    "        self.firstname = fname\n",
    "        self.age = age\n",
    "        self.phno = phno\n",
    "\n",
    "    def set_first_name(self, name):\n",
    "        self.firstname = name\n",
    "\n",
    "    def set_age(self, age):\n",
    "        self.age = age\n",
    "\n",
    "    def set_phn_no(self, phn):\n",
    "        self.phno = phn\n",
    "\n",
    "    def printname(self):\n",
    "        print(f\"{self.firstname} from parent\")\n",
    "\n",
    "class Student(Person):\n",
    "    def __init__(self, stid, fname, age, phno):\n",
    "        print(\"Hey I am init of Student\")\n",
    "        super().__init__(fname, age, phno)\n",
    "        self.studentid = stid\n",
    "        self.courses = []\n",
    "\n",
    "    def enroll_courses(self, course):\n",
    "        self.courses.append(course)\n",
    "\n",
    "    def printname(self):\n",
    "        print(f\"{self.studentid}, {self.firstname} from child\")\n",
    "        super().printname()\n",
    "\n",
    "s1 = Student(1234, \"Jaspal\", 26, 9874568515)"
   ]
  },
  {
   "cell_type": "code",
   "execution_count": 70,
   "id": "0a717825-d8b9-4a54-bd3a-1accfb799c6b",
   "metadata": {},
   "outputs": [
    {
     "name": "stdout",
     "output_type": "stream",
     "text": [
      "1234, Jaspal from child\n",
      "Jaspal from parent\n"
     ]
    }
   ],
   "source": [
    "s1.printname()"
   ]
  },
  {
   "cell_type": "code",
   "execution_count": null,
   "id": "08fe8f74-4b5b-4e21-95e1-661bb4385812",
   "metadata": {},
   "outputs": [],
   "source": [
    "# single inheritence\n",
    "A -> B\n",
    "# multilevel inheritence\n",
    "A -> B -> C\n",
    "# hierical inheritence\n",
    "      A\n",
    "      |\n",
    "-----------------\n",
    "|   |    |    |  |\n",
    "B   C    D    E  F\n",
    "# multiple inheritence\n",
    "A B\n",
    "| |\n",
    "---\n",
    " |\n",
    " C\n",
    "# hybrid inheritence\n",
    "    A\n",
    "    |\n",
    "----------\n",
    "|        |\n",
    "B        C\n",
    "|        |\n",
    "----------\n",
    "    |\n",
    "    C"
   ]
  },
  {
   "cell_type": "code",
   "execution_count": 71,
   "id": "bffdd201-f0bc-4f7e-bb25-4babe7d506bc",
   "metadata": {},
   "outputs": [
    {
     "name": "stdout",
     "output_type": "stream",
     "text": [
      "I am C\n"
     ]
    }
   ],
   "source": [
    "# multilevel inheritence\n",
    "class A:\n",
    "    def __init__(self):\n",
    "        print(\"I am A\")\n",
    "\n",
    "    def date(self):\n",
    "        print(\"12/28/2024\")\n",
    "class B(A):\n",
    "    def __init__(self):\n",
    "        print(\"I am B\")\n",
    "        super().__init__()\n",
    "class C(B):\n",
    "    def __init__(self):\n",
    "        print(\"I am C\")\n",
    "\n",
    "c = C()"
   ]
  },
  {
   "cell_type": "code",
   "execution_count": 72,
   "id": "7aac29da-8442-4912-bdbd-b31b38b56bef",
   "metadata": {},
   "outputs": [
    {
     "name": "stdout",
     "output_type": "stream",
     "text": [
      "12/28/2024\n"
     ]
    }
   ],
   "source": [
    "c.date()"
   ]
  },
  {
   "cell_type": "code",
   "execution_count": 73,
   "id": "45b22d14-977a-4c00-a12e-3589cd0ffdab",
   "metadata": {},
   "outputs": [
    {
     "name": "stdout",
     "output_type": "stream",
     "text": [
      "I am C\n",
      "I am B\n",
      "I am A\n"
     ]
    }
   ],
   "source": [
    "# multilevel inheritence\n",
    "class A:\n",
    "    def __init__(self):\n",
    "        print(\"I am A\")\n",
    "\n",
    "    def date(self):\n",
    "        print(\"12/28/2024\")\n",
    "class B(A):\n",
    "    def __init__(self):\n",
    "        print(\"I am B\")\n",
    "        super().__init__()\n",
    "class C(B):\n",
    "    def __init__(self):\n",
    "        print(\"I am C\")\n",
    "        super().__init__()\n",
    "\n",
    "c2 = C()"
   ]
  },
  {
   "cell_type": "code",
   "execution_count": 74,
   "id": "d6faceef-6881-497e-a11b-e9f7d4b867d3",
   "metadata": {},
   "outputs": [],
   "source": [
    "# mro order (method resolution order)"
   ]
  },
  {
   "cell_type": "code",
   "execution_count": 75,
   "id": "d8a2bba5-b510-46fa-b149-0f0ec0f97bfb",
   "metadata": {},
   "outputs": [
    {
     "name": "stdout",
     "output_type": "stream",
     "text": [
      "Help on C in module __main__ object:\n",
      "\n",
      "class C(B)\n",
      " |  Method resolution order:\n",
      " |      C\n",
      " |      B\n",
      " |      A\n",
      " |      builtins.object\n",
      " |\n",
      " |  Methods defined here:\n",
      " |\n",
      " |  __init__(self)\n",
      " |      Initialize self.  See help(type(self)) for accurate signature.\n",
      " |\n",
      " |  ----------------------------------------------------------------------\n",
      " |  Methods inherited from A:\n",
      " |\n",
      " |  date(self)\n",
      " |\n",
      " |  ----------------------------------------------------------------------\n",
      " |  Data descriptors inherited from A:\n",
      " |\n",
      " |  __dict__\n",
      " |      dictionary for instance variables\n",
      " |\n",
      " |  __weakref__\n",
      " |      list of weak references to the object\n",
      "\n"
     ]
    }
   ],
   "source": [
    "help(c2)"
   ]
  },
  {
   "cell_type": "code",
   "execution_count": 76,
   "id": "56bcd1b9-b88d-455c-b354-a73e71402be5",
   "metadata": {},
   "outputs": [],
   "source": [
    "class A:\n",
    "    def __init__(self):\n",
    "        print(\"I am A\")\n",
    "\n",
    "class B:\n",
    "    def __init__(self):\n",
    "        print(\"I am B\")\n",
    "\n",
    "class C(A, B):\n",
    "    pass"
   ]
  },
  {
   "cell_type": "code",
   "execution_count": 77,
   "id": "f6ae4769-4670-491a-94a9-33cee698d6f1",
   "metadata": {},
   "outputs": [
    {
     "name": "stdout",
     "output_type": "stream",
     "text": [
      "I am A\n"
     ]
    }
   ],
   "source": [
    "c1 = C()"
   ]
  },
  {
   "cell_type": "code",
   "execution_count": 78,
   "id": "19188b65-bd26-4d8a-bdd7-78ce60725864",
   "metadata": {},
   "outputs": [
    {
     "name": "stdout",
     "output_type": "stream",
     "text": [
      "I am B\n"
     ]
    }
   ],
   "source": [
    "class A:\n",
    "    def __init__(self):\n",
    "        print(\"I am A\")\n",
    "\n",
    "class B:\n",
    "    def __init__(self):\n",
    "        print(\"I am B\")\n",
    "\n",
    "class C(B, A):\n",
    "    pass\n",
    "\n",
    "c2 = C()"
   ]
  },
  {
   "cell_type": "code",
   "execution_count": 79,
   "id": "1a23bb1d-09e7-47f0-947b-af9f33abc279",
   "metadata": {},
   "outputs": [
    {
     "name": "stdout",
     "output_type": "stream",
     "text": [
      "Help on C in module __main__ object:\n",
      "\n",
      "class C(B, A)\n",
      " |  Method resolution order:\n",
      " |      C\n",
      " |      B\n",
      " |      A\n",
      " |      builtins.object\n",
      " |\n",
      " |  Methods inherited from B:\n",
      " |\n",
      " |  __init__(self)\n",
      " |      Initialize self.  See help(type(self)) for accurate signature.\n",
      " |\n",
      " |  ----------------------------------------------------------------------\n",
      " |  Data descriptors inherited from B:\n",
      " |\n",
      " |  __dict__\n",
      " |      dictionary for instance variables\n",
      " |\n",
      " |  __weakref__\n",
      " |      list of weak references to the object\n",
      "\n"
     ]
    }
   ],
   "source": [
    "help(c2)"
   ]
  },
  {
   "cell_type": "code",
   "execution_count": 80,
   "id": "acee2103-b07e-4f8c-8cad-2c75235a8be8",
   "metadata": {},
   "outputs": [
    {
     "name": "stdout",
     "output_type": "stream",
     "text": [
      "I am A\n"
     ]
    }
   ],
   "source": [
    "class A:\n",
    "    def __init__(self):\n",
    "        print(\"I am A\")\n",
    "\n",
    "class B:\n",
    "    pass\n",
    "\n",
    "class C(B, A):\n",
    "    pass\n",
    "\n",
    "c3 = C()"
   ]
  },
  {
   "cell_type": "code",
   "execution_count": 81,
   "id": "e510e374-26d6-4408-a41d-6d369af56c3c",
   "metadata": {},
   "outputs": [
    {
     "name": "stdout",
     "output_type": "stream",
     "text": [
      "I am A\n"
     ]
    }
   ],
   "source": [
    "class A:\n",
    "    def __init__(self):\n",
    "        print(\"I am A\")\n",
    "\n",
    "class B:\n",
    "    d = 5\n",
    "\n",
    "class C(B, A):\n",
    "    pass\n",
    "\n",
    "c3 = C()"
   ]
  },
  {
   "cell_type": "code",
   "execution_count": 82,
   "id": "bbb2c89f-8cae-4aaa-a2fd-7f86a1fee794",
   "metadata": {},
   "outputs": [
    {
     "data": {
      "text/plain": [
       "5"
      ]
     },
     "execution_count": 82,
     "metadata": {},
     "output_type": "execute_result"
    }
   ],
   "source": [
    "c3.d"
   ]
  },
  {
   "cell_type": "code",
   "execution_count": 83,
   "id": "edebbd05-be84-4195-92d6-39b1ddd2c587",
   "metadata": {},
   "outputs": [],
   "source": [
    "class A:\n",
    "    pass\n",
    "\n",
    "class B:\n",
    "    d = 5\n",
    "\n",
    "class C(B, A):\n",
    "    pass\n",
    "\n",
    "c3 = C()"
   ]
  },
  {
   "cell_type": "code",
   "execution_count": 84,
   "id": "1a861547-cd88-4822-99d8-b71088f3d039",
   "metadata": {},
   "outputs": [
    {
     "data": {
      "text/plain": [
       "5"
      ]
     },
     "execution_count": 84,
     "metadata": {},
     "output_type": "execute_result"
    }
   ],
   "source": [
    "c3.d"
   ]
  },
  {
   "cell_type": "code",
   "execution_count": 85,
   "id": "b99fe0e9-7564-45d8-aded-09b526c2dc5d",
   "metadata": {},
   "outputs": [
    {
     "name": "stdout",
     "output_type": "stream",
     "text": [
      "I am B\n",
      "I am A\n"
     ]
    }
   ],
   "source": [
    "class A:\n",
    "    def __init__(self):\n",
    "        print(\"I am A\")\n",
    "\n",
    "class B:\n",
    "    def __init__(self):\n",
    "        print(\"I am B\")\n",
    "        super().__init__()\n",
    "\n",
    "class C(B, A):\n",
    "    pass\n",
    "\n",
    "c3 = C()"
   ]
  },
  {
   "cell_type": "code",
   "execution_count": 86,
   "id": "d46bc71b-370f-4fe4-9bec-bad3a838716c",
   "metadata": {},
   "outputs": [
    {
     "name": "stdout",
     "output_type": "stream",
     "text": [
      "I am B\n"
     ]
    }
   ],
   "source": [
    "b = B()"
   ]
  },
  {
   "cell_type": "code",
   "execution_count": 92,
   "id": "1fecc5d8-7df7-425c-aa9d-591abb0f4c67",
   "metadata": {},
   "outputs": [
    {
     "name": "stdout",
     "output_type": "stream",
     "text": [
      "Help on C in module __main__ object:\n",
      "\n",
      "class C(B, A)\n",
      " |  Method resolution order:\n",
      " |      C\n",
      " |      B\n",
      " |      A\n",
      " |      builtins.object\n",
      " |\n",
      " |  Methods inherited from B:\n",
      " |\n",
      " |  __init__(self)\n",
      " |      Initialize self.  See help(type(self)) for accurate signature.\n",
      " |\n",
      " |  ----------------------------------------------------------------------\n",
      " |  Data descriptors inherited from B:\n",
      " |\n",
      " |  __dict__\n",
      " |      dictionary for instance variables\n",
      " |\n",
      " |  __weakref__\n",
      " |      list of weak references to the object\n",
      "\n"
     ]
    }
   ],
   "source": [
    "help(c3)"
   ]
  },
  {
   "cell_type": "markdown",
   "id": "f91b4f21-e07d-4283-a168-2a7342582366",
   "metadata": {},
   "source": [
    "# File handling"
   ]
  },
  {
   "cell_type": "code",
   "execution_count": null,
   "id": "32b418ff-6303-4916-a63c-06240e963e0b",
   "metadata": {},
   "outputs": [],
   "source": []
  }
 ],
 "metadata": {
  "kernelspec": {
   "display_name": "Python 3 (ipykernel)",
   "language": "python",
   "name": "python3"
  },
  "language_info": {
   "codemirror_mode": {
    "name": "ipython",
    "version": 3
   },
   "file_extension": ".py",
   "mimetype": "text/x-python",
   "name": "python",
   "nbconvert_exporter": "python",
   "pygments_lexer": "ipython3",
   "version": "3.13.1"
  }
 },
 "nbformat": 4,
 "nbformat_minor": 5
}
