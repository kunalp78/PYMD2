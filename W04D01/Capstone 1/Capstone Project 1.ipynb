{
 "cells": [
  {
   "cell_type": "code",
   "execution_count": 1,
   "id": "e4216ee0-c5d2-4db6-ba02-f2825206ff58",
   "metadata": {},
   "outputs": [
    {
     "data": {
      "text/plain": [
       "-161146967004933532"
      ]
     },
     "execution_count": 1,
     "metadata": {},
     "output_type": "execute_result"
    }
   ],
   "source": [
    "hash(\"1234\")"
   ]
  },
  {
   "cell_type": "code",
   "execution_count": 2,
   "id": "21fad0b5-74e7-4e60-b717-3a6fc1be2535",
   "metadata": {},
   "outputs": [
    {
     "data": {
      "text/plain": [
       "-161146967004933532"
      ]
     },
     "execution_count": 2,
     "metadata": {},
     "output_type": "execute_result"
    }
   ],
   "source": [
    "hash(\"1234\")"
   ]
  },
  {
   "cell_type": "code",
   "execution_count": 3,
   "id": "8d52a4eb-22f6-40e7-ad84-a006b6528149",
   "metadata": {},
   "outputs": [],
   "source": [
    "password = hash(\"1234\")"
   ]
  },
  {
   "cell_type": "code",
   "execution_count": 4,
   "id": "5d609e63-8527-417c-b74a-7b47a64e98ae",
   "metadata": {},
   "outputs": [
    {
     "data": {
      "text/plain": [
       "-161146967004933532"
      ]
     },
     "execution_count": 4,
     "metadata": {},
     "output_type": "execute_result"
    }
   ],
   "source": [
    "password"
   ]
  },
  {
   "cell_type": "code",
   "execution_count": 8,
   "id": "95eaf655-4614-4bcc-94ae-99a3e65e202b",
   "metadata": {},
   "outputs": [
    {
     "name": "stdin",
     "output_type": "stream",
     "text": [
      "Enter password 12345\n"
     ]
    }
   ],
   "source": [
    "user_pass = hash(input(\"Enter password\"))"
   ]
  },
  {
   "cell_type": "code",
   "execution_count": 9,
   "id": "9e62fb30-e753-473f-9bdd-e40bfc59103d",
   "metadata": {},
   "outputs": [
    {
     "data": {
      "text/plain": [
       "False"
      ]
     },
     "execution_count": 9,
     "metadata": {},
     "output_type": "execute_result"
    }
   ],
   "source": [
    "user_pass == password"
   ]
  },
  {
   "cell_type": "code",
   "execution_count": null,
   "id": "89f4361b-5577-4ae0-9f8a-ca2c4e22c8a9",
   "metadata": {},
   "outputs": [],
   "source": [
    "user = {\n",
    "    username1: <object1>,\n",
    "    username2: <object2>\n",
    "}\n"
   ]
  },
  {
   "cell_type": "code",
   "execution_count": null,
   "id": "017f1abb-f463-45cd-965a-4276178480c6",
   "metadata": {},
   "outputs": [],
   "source": [
    "user = [{user:<user1, phn:95874, password: hashed}]"
   ]
  },
  {
   "cell_type": "code",
   "execution_count": 11,
   "id": "a56cc021-f29c-4452-bb63-10a179027889",
   "metadata": {},
   "outputs": [
    {
     "name": "stdout",
     "output_type": "stream",
     "text": [
      "dfsdiwen fdsfkdsnfsdj eiwikskfdifned\n"
     ]
    }
   ],
   "source": [
    "print(\"dfsdiwen fdsfkdsnfsdj eiwik\"\n",
    "\"skfdifned\")"
   ]
  },
  {
   "cell_type": "code",
   "execution_count": null,
   "id": "546c1d25-45ed-4163-b061-5c167546914a",
   "metadata": {},
   "outputs": [],
   "source": []
  }
 ],
 "metadata": {
  "kernelspec": {
   "display_name": "Python 3 (ipykernel)",
   "language": "python",
   "name": "python3"
  },
  "language_info": {
   "codemirror_mode": {
    "name": "ipython",
    "version": 3
   },
   "file_extension": ".py",
   "mimetype": "text/x-python",
   "name": "python",
   "nbconvert_exporter": "python",
   "pygments_lexer": "ipython3",
   "version": "3.13.1"
  }
 },
 "nbformat": 4,
 "nbformat_minor": 5
}
