{
 "cells": [
  {
   "cell_type": "code",
   "execution_count": 11,
   "id": "ee383dd7-58c9-4331-908f-95997c113beb",
   "metadata": {},
   "outputs": [],
   "source": [
    "class A:\n",
    "    def method1(self):\n",
    "        self.attrib1 = 25\n",
    "        self.__pvt_att = self.attrib1 * 2\n",
    "        print(\"I am public method\")\n",
    "        return self.__pvt_method()\n",
    "\n",
    "    def __pvt_method(self):\n",
    "        print(\"I am Private method\")\n",
    "        return self.__pvt_att"
   ]
  },
  {
   "cell_type": "code",
   "execution_count": 12,
   "id": "41cc23ed-2f31-4e34-acc3-4ba3b109a4db",
   "metadata": {},
   "outputs": [],
   "source": [
    "a1 = A()"
   ]
  },
  {
   "cell_type": "code",
   "execution_count": 4,
   "id": "46edc96d-9bba-4f2e-a4d3-a4b23adb3345",
   "metadata": {},
   "outputs": [
    {
     "name": "stdout",
     "output_type": "stream",
     "text": [
      "I am public method\n"
     ]
    }
   ],
   "source": [
    "a1.method1()"
   ]
  },
  {
   "cell_type": "code",
   "execution_count": 7,
   "id": "678fae20-84d2-4d2d-8e58-e4ccd7872b1b",
   "metadata": {},
   "outputs": [
    {
     "ename": "AttributeError",
     "evalue": "'A' object has no attribute '__pvt_method'",
     "output_type": "error",
     "traceback": [
      "\u001b[1;31m---------------------------------------------------------------------------\u001b[0m",
      "\u001b[1;31mAttributeError\u001b[0m                            Traceback (most recent call last)",
      "Cell \u001b[1;32mIn[7], line 1\u001b[0m\n\u001b[1;32m----> 1\u001b[0m \u001b[43ma1\u001b[49m\u001b[38;5;241;43m.\u001b[39;49m\u001b[43m__pvt_method\u001b[49m()\n",
      "\u001b[1;31mAttributeError\u001b[0m: 'A' object has no attribute '__pvt_method'"
     ]
    }
   ],
   "source": [
    "a1.__pvt_method()"
   ]
  },
  {
   "cell_type": "code",
   "execution_count": 13,
   "id": "4b999aec-cbd7-4a9c-9eec-ff5a60b26149",
   "metadata": {},
   "outputs": [
    {
     "name": "stdout",
     "output_type": "stream",
     "text": [
      "I am public method\n",
      "I am Private method\n"
     ]
    },
    {
     "data": {
      "text/plain": [
       "50"
      ]
     },
     "execution_count": 13,
     "metadata": {},
     "output_type": "execute_result"
    }
   ],
   "source": [
    "a1.method1()"
   ]
  },
  {
   "cell_type": "markdown",
   "id": "36fa2a06-0093-4c50-bd13-c75b5f1c0518",
   "metadata": {},
   "source": [
    "# File handeling"
   ]
  },
  {
   "cell_type": "code",
   "execution_count": null,
   "id": "def8fd13-619e-4694-865b-0467063f1a19",
   "metadata": {},
   "outputs": [],
   "source": [
    "operations we can perfom on a file\n",
    "reading\n",
    "writing\n",
    "updating\n",
    "deleting\n"
   ]
  },
  {
   "cell_type": "code",
   "execution_count": null,
   "id": "69c65728-80d3-4ac8-ab06-23fc65a3d7f2",
   "metadata": {},
   "outputs": [],
   "source": [
    "open(filename, mode)\n",
    "basic modes:\n",
    "    \"r\" - read mode\n",
    "    \"a\" - append mode\n",
    "    \"w\" - write mode\n",
    "    \"x\" - Create mode"
   ]
  },
  {
   "cell_type": "code",
   "execution_count": 14,
   "id": "8138c01e-c2e3-429b-8612-08f3a23663e8",
   "metadata": {},
   "outputs": [
    {
     "name": "stdout",
     "output_type": "stream",
     "text": [
      "Learning stratagies:\n",
      "1) Wake up early\n",
      "2) Revise the formulaes\n",
      "3) Get freshen up\n",
      "4) eat breakfast\n",
      "5) Study Maths\n",
      "6) Study Physics\n"
     ]
    }
   ],
   "source": [
    "# Read mode\n",
    "# Default Value\n",
    "# It opens the file for reading. It throws FilenotFound Error if the file doesn't exists.\n",
    "# file pointer is at the begining of the file\n",
    "fp = open(\"learing.txt\", \"r\")\n",
    "print(fp.read())"
   ]
  },
  {
   "cell_type": "code",
   "execution_count": 15,
   "id": "115dacc0-b446-4702-a7a0-51765504a3c2",
   "metadata": {},
   "outputs": [
    {
     "data": {
      "text/plain": [
       "''"
      ]
     },
     "execution_count": 15,
     "metadata": {},
     "output_type": "execute_result"
    }
   ],
   "source": [
    "fp.read()"
   ]
  },
  {
   "cell_type": "code",
   "execution_count": 16,
   "id": "f7ff6557-1b8f-4b8a-88b4-5b5d1b788637",
   "metadata": {},
   "outputs": [],
   "source": [
    "fp.close()"
   ]
  },
  {
   "cell_type": "code",
   "execution_count": 18,
   "id": "9cb17f1a-fca8-465a-8aa2-e68d010e685b",
   "metadata": {},
   "outputs": [
    {
     "ename": "ValueError",
     "evalue": "I/O operation on closed file.",
     "output_type": "error",
     "traceback": [
      "\u001b[1;31m---------------------------------------------------------------------------\u001b[0m",
      "\u001b[1;31mValueError\u001b[0m                                Traceback (most recent call last)",
      "Cell \u001b[1;32mIn[18], line 1\u001b[0m\n\u001b[1;32m----> 1\u001b[0m \u001b[43mfp\u001b[49m\u001b[38;5;241;43m.\u001b[39;49m\u001b[43mread\u001b[49m\u001b[43m(\u001b[49m\u001b[43m)\u001b[49m\n",
      "\u001b[1;31mValueError\u001b[0m: I/O operation on closed file."
     ]
    }
   ],
   "source": [
    "fp.read()"
   ]
  },
  {
   "cell_type": "code",
   "execution_count": 19,
   "id": "da042c9d-31ec-424b-8852-0bbd2e193cd1",
   "metadata": {},
   "outputs": [
    {
     "name": "stdout",
     "output_type": "stream",
     "text": [
      "0\n"
     ]
    }
   ],
   "source": [
    "# seek --> moves the file pointer to location\n",
    "# tell --> tells us the location of the file pointer\n",
    "fp = open(\"learing.txt\", \"r\")\n",
    "print(fp.tell())"
   ]
  },
  {
   "cell_type": "code",
   "execution_count": 20,
   "id": "b2c05f65-5fed-4edd-8991-1b3f43b81fbb",
   "metadata": {},
   "outputs": [
    {
     "data": {
      "text/plain": [
       "'Learning stratagies:\\n1) Wake up early\\n2) Revise the formulaes\\n3) Get freshen up\\n4) eat breakfast\\n5) Study Maths\\n6) Study Physics'"
      ]
     },
     "execution_count": 20,
     "metadata": {},
     "output_type": "execute_result"
    }
   ],
   "source": [
    "fp.read()"
   ]
  },
  {
   "cell_type": "code",
   "execution_count": 21,
   "id": "6bd140df-f3a9-4dd2-a16d-2da47b09ce32",
   "metadata": {},
   "outputs": [
    {
     "name": "stdout",
     "output_type": "stream",
     "text": [
      "128\n"
     ]
    }
   ],
   "source": [
    "print(fp.tell())"
   ]
  },
  {
   "cell_type": "code",
   "execution_count": 22,
   "id": "dc48879e-f4ea-45d6-a1d5-838841fc3e24",
   "metadata": {},
   "outputs": [
    {
     "data": {
      "text/plain": [
       "1"
      ]
     },
     "execution_count": 22,
     "metadata": {},
     "output_type": "execute_result"
    }
   ],
   "source": [
    "fp.seek(1)"
   ]
  },
  {
   "cell_type": "code",
   "execution_count": 23,
   "id": "bbaffbb6-7d40-4528-922c-892ef8d1f02d",
   "metadata": {},
   "outputs": [
    {
     "data": {
      "text/plain": [
       "'earning stratagies:\\n1) Wake up early\\n2) Revise the formulaes\\n3) Get freshen up\\n4) eat breakfast\\n5) Study Maths\\n6) Study Physics'"
      ]
     },
     "execution_count": 23,
     "metadata": {},
     "output_type": "execute_result"
    }
   ],
   "source": [
    "fp.read()"
   ]
  },
  {
   "cell_type": "code",
   "execution_count": 24,
   "id": "642d7b1e-1921-49fc-b5d5-5ac9e5c3fbe4",
   "metadata": {},
   "outputs": [
    {
     "data": {
      "text/plain": [
       "''"
      ]
     },
     "execution_count": 24,
     "metadata": {},
     "output_type": "execute_result"
    }
   ],
   "source": [
    "fp.read()"
   ]
  },
  {
   "cell_type": "code",
   "execution_count": 25,
   "id": "aeacd346-9edc-4c91-bfa7-841c52622e9c",
   "metadata": {},
   "outputs": [
    {
     "data": {
      "text/plain": [
       "0"
      ]
     },
     "execution_count": 25,
     "metadata": {},
     "output_type": "execute_result"
    }
   ],
   "source": [
    "fp.seek(0)"
   ]
  },
  {
   "cell_type": "code",
   "execution_count": 26,
   "id": "dc7c698d-5e5d-46af-8581-c9faf8990beb",
   "metadata": {},
   "outputs": [
    {
     "data": {
      "text/plain": [
       "'Learning stratagies:\\n'"
      ]
     },
     "execution_count": 26,
     "metadata": {},
     "output_type": "execute_result"
    }
   ],
   "source": [
    "fp.readline()"
   ]
  },
  {
   "cell_type": "code",
   "execution_count": 27,
   "id": "6ed46b9f-041c-4208-9331-6a25c72f50b6",
   "metadata": {},
   "outputs": [
    {
     "data": {
      "text/plain": [
       "'1) Wake up early\\n'"
      ]
     },
     "execution_count": 27,
     "metadata": {},
     "output_type": "execute_result"
    }
   ],
   "source": [
    "fp.readline()"
   ]
  },
  {
   "cell_type": "code",
   "execution_count": 28,
   "id": "57cf60a9-6d3d-45a8-9d44-c73bcdac4b4b",
   "metadata": {},
   "outputs": [
    {
     "data": {
      "text/plain": [
       "'2) Revise the formulaes\\n'"
      ]
     },
     "execution_count": 28,
     "metadata": {},
     "output_type": "execute_result"
    }
   ],
   "source": [
    "fp.readline()"
   ]
  },
  {
   "cell_type": "code",
   "execution_count": 29,
   "id": "b6481e1a-b4e5-4f8a-b7ae-049b7ea2bc20",
   "metadata": {},
   "outputs": [
    {
     "data": {
      "text/plain": [
       "'3) Get freshen up\\n'"
      ]
     },
     "execution_count": 29,
     "metadata": {},
     "output_type": "execute_result"
    }
   ],
   "source": [
    "fp.readline()"
   ]
  },
  {
   "cell_type": "code",
   "execution_count": 30,
   "id": "1a3c4170-42f6-41a3-8504-9aeea46a7fd8",
   "metadata": {},
   "outputs": [
    {
     "data": {
      "text/plain": [
       "'4) eat breakfast\\n'"
      ]
     },
     "execution_count": 30,
     "metadata": {},
     "output_type": "execute_result"
    }
   ],
   "source": [
    "fp.readline()"
   ]
  },
  {
   "cell_type": "code",
   "execution_count": 31,
   "id": "93c074da-0c6a-4648-a40f-b04054fc9e2c",
   "metadata": {},
   "outputs": [
    {
     "data": {
      "text/plain": [
       "97"
      ]
     },
     "execution_count": 31,
     "metadata": {},
     "output_type": "execute_result"
    }
   ],
   "source": [
    "fp.tell()"
   ]
  },
  {
   "cell_type": "code",
   "execution_count": 32,
   "id": "c6b4784f-ebad-4cce-ab4e-95c326834a69",
   "metadata": {},
   "outputs": [
    {
     "data": {
      "text/plain": [
       "'5) Study Maths\\n'"
      ]
     },
     "execution_count": 32,
     "metadata": {},
     "output_type": "execute_result"
    }
   ],
   "source": [
    "fp.readline()"
   ]
  },
  {
   "cell_type": "code",
   "execution_count": 33,
   "id": "32d08d6d-f382-4cc7-97f8-7231e0b3bef4",
   "metadata": {},
   "outputs": [
    {
     "data": {
      "text/plain": [
       "'6) Study Physics'"
      ]
     },
     "execution_count": 33,
     "metadata": {},
     "output_type": "execute_result"
    }
   ],
   "source": [
    "fp.readline()"
   ]
  },
  {
   "cell_type": "code",
   "execution_count": 34,
   "id": "f9082fdc-1e08-44bc-8143-e89fb92d32e9",
   "metadata": {},
   "outputs": [
    {
     "data": {
      "text/plain": [
       "''"
      ]
     },
     "execution_count": 34,
     "metadata": {},
     "output_type": "execute_result"
    }
   ],
   "source": [
    "fp.readline()"
   ]
  },
  {
   "cell_type": "code",
   "execution_count": 35,
   "id": "e960d8fa-5662-4619-96a4-d7b24ca7029a",
   "metadata": {},
   "outputs": [
    {
     "data": {
      "text/plain": [
       "''"
      ]
     },
     "execution_count": 35,
     "metadata": {},
     "output_type": "execute_result"
    }
   ],
   "source": [
    "fp.readline()"
   ]
  },
  {
   "cell_type": "code",
   "execution_count": 36,
   "id": "598e98bf-13b2-4463-805c-2f06c087fafe",
   "metadata": {},
   "outputs": [
    {
     "data": {
      "text/plain": [
       "0"
      ]
     },
     "execution_count": 36,
     "metadata": {},
     "output_type": "execute_result"
    }
   ],
   "source": [
    "fp.seek(0)"
   ]
  },
  {
   "cell_type": "code",
   "execution_count": 37,
   "id": "bf8dd89d-a1f4-4e83-bc94-17ea8d9aac46",
   "metadata": {
    "collapsed": true,
    "jupyter": {
     "outputs_hidden": true
    }
   },
   "outputs": [
    {
     "name": "stdout",
     "output_type": "stream",
     "text": [
      "Help on TextIOWrapper in module _io object:\n",
      "\n",
      "class TextIOWrapper(_TextIOBase)\n",
      " |  TextIOWrapper(\n",
      " |      buffer,\n",
      " |      encoding=None,\n",
      " |      errors=None,\n",
      " |      newline=None,\n",
      " |      line_buffering=False,\n",
      " |      write_through=False\n",
      " |  )\n",
      " |\n",
      " |  Character and line based layer over a BufferedIOBase object, buffer.\n",
      " |\n",
      " |  encoding gives the name of the encoding that the stream will be\n",
      " |  decoded or encoded with. It defaults to locale.getencoding().\n",
      " |\n",
      " |  errors determines the strictness of encoding and decoding (see\n",
      " |  help(codecs.Codec) or the documentation for codecs.register) and\n",
      " |  defaults to \"strict\".\n",
      " |\n",
      " |  newline controls how line endings are handled. It can be None, '',\n",
      " |  '\\n', '\\r', and '\\r\\n'.  It works as follows:\n",
      " |\n",
      " |  * On input, if newline is None, universal newlines mode is\n",
      " |    enabled. Lines in the input can end in '\\n', '\\r', or '\\r\\n', and\n",
      " |    these are translated into '\\n' before being returned to the\n",
      " |    caller. If it is '', universal newline mode is enabled, but line\n",
      " |    endings are returned to the caller untranslated. If it has any of\n",
      " |    the other legal values, input lines are only terminated by the given\n",
      " |    string, and the line ending is returned to the caller untranslated.\n",
      " |\n",
      " |  * On output, if newline is None, any '\\n' characters written are\n",
      " |    translated to the system default line separator, os.linesep. If\n",
      " |    newline is '' or '\\n', no translation takes place. If newline is any\n",
      " |    of the other legal values, any '\\n' characters written are translated\n",
      " |    to the given string.\n",
      " |\n",
      " |  If line_buffering is True, a call to flush is implied when a call to\n",
      " |  write contains a newline character.\n",
      " |\n",
      " |  Method resolution order:\n",
      " |      TextIOWrapper\n",
      " |      _TextIOBase\n",
      " |      _IOBase\n",
      " |      builtins.object\n",
      " |\n",
      " |  Methods defined here:\n",
      " |\n",
      " |  __init__(self, /, *args, **kwargs)\n",
      " |      Initialize self.  See help(type(self)) for accurate signature.\n",
      " |\n",
      " |  __next__(self, /)\n",
      " |      Implement next(self).\n",
      " |\n",
      " |  __reduce__(self, /)\n",
      " |      Helper for pickle.\n",
      " |\n",
      " |  __reduce_ex__(self, object, /)\n",
      " |      Helper for pickle.\n",
      " |\n",
      " |  __repr__(self, /)\n",
      " |      Return repr(self).\n",
      " |\n",
      " |  close(self, /)\n",
      " |      Flush and close the IO object.\n",
      " |\n",
      " |      This method has no effect if the file is already closed.\n",
      " |\n",
      " |  detach(self, /)\n",
      " |      Separate the underlying buffer from the TextIOBase and return it.\n",
      " |\n",
      " |      After the underlying buffer has been detached, the TextIO is in an unusable state.\n",
      " |\n",
      " |  fileno(self, /)\n",
      " |      Return underlying file descriptor if one exists.\n",
      " |\n",
      " |      Raise OSError if the IO object does not use a file descriptor.\n",
      " |\n",
      " |  flush(self, /)\n",
      " |      Flush write buffers, if applicable.\n",
      " |\n",
      " |      This is not implemented for read-only and non-blocking streams.\n",
      " |\n",
      " |  isatty(self, /)\n",
      " |      Return whether this is an 'interactive' stream.\n",
      " |\n",
      " |      Return False if it can't be determined.\n",
      " |\n",
      " |  read(self, size=-1, /)\n",
      " |      Read at most size characters from stream.\n",
      " |\n",
      " |      Read from underlying buffer until we have size characters or we hit EOF.\n",
      " |      If size is negative or omitted, read until EOF.\n",
      " |\n",
      " |  readable(self, /)\n",
      " |      Return whether object was opened for reading.\n",
      " |\n",
      " |      If False, read() will raise OSError.\n",
      " |\n",
      " |  readline(self, size=-1, /)\n",
      " |      Read until newline or EOF.\n",
      " |\n",
      " |      Return an empty string if EOF is hit immediately.\n",
      " |      If size is specified, at most size characters will be read.\n",
      " |\n",
      " |  reconfigure(\n",
      " |      self,\n",
      " |      /,\n",
      " |      *,\n",
      " |      encoding=None,\n",
      " |      errors=None,\n",
      " |      newline=None,\n",
      " |      line_buffering=None,\n",
      " |      write_through=None\n",
      " |  )\n",
      " |      Reconfigure the text stream with new parameters.\n",
      " |\n",
      " |      This also does an implicit stream flush.\n",
      " |\n",
      " |  seek(self, cookie, whence=0, /)\n",
      " |      Set the stream position, and return the new stream position.\n",
      " |\n",
      " |        cookie\n",
      " |          Zero or an opaque number returned by tell().\n",
      " |        whence\n",
      " |          The relative position to seek from.\n",
      " |\n",
      " |      Four operations are supported, given by the following argument\n",
      " |      combinations:\n",
      " |\n",
      " |      - seek(0, SEEK_SET): Rewind to the start of the stream.\n",
      " |      - seek(cookie, SEEK_SET): Restore a previous position;\n",
      " |        'cookie' must be a number returned by tell().\n",
      " |      - seek(0, SEEK_END): Fast-forward to the end of the stream.\n",
      " |      - seek(0, SEEK_CUR): Leave the current stream position unchanged.\n",
      " |\n",
      " |      Any other argument combinations are invalid,\n",
      " |      and may raise exceptions.\n",
      " |\n",
      " |  seekable(self, /)\n",
      " |      Return whether object supports random access.\n",
      " |\n",
      " |      If False, seek(), tell() and truncate() will raise OSError.\n",
      " |      This method may need to do a test seek().\n",
      " |\n",
      " |  tell(self, /)\n",
      " |      Return the stream position as an opaque number.\n",
      " |\n",
      " |      The return value of tell() can be given as input to seek(), to restore a\n",
      " |      previous stream position.\n",
      " |\n",
      " |  truncate(self, pos=None, /)\n",
      " |      Truncate file to size bytes.\n",
      " |\n",
      " |      File pointer is left unchanged. Size defaults to the current IO position\n",
      " |      as reported by tell(). Return the new size.\n",
      " |\n",
      " |  writable(self, /)\n",
      " |      Return whether object was opened for writing.\n",
      " |\n",
      " |      If False, write() will raise OSError.\n",
      " |\n",
      " |  write(self, text, /)\n",
      " |      Write string s to stream.\n",
      " |\n",
      " |      Return the number of characters written\n",
      " |      (which is always equal to the length of the string).\n",
      " |\n",
      " |  ----------------------------------------------------------------------\n",
      " |  Data descriptors defined here:\n",
      " |\n",
      " |  buffer\n",
      " |\n",
      " |  closed\n",
      " |\n",
      " |  encoding\n",
      " |      Encoding of the text stream.\n",
      " |\n",
      " |      Subclasses should override.\n",
      " |\n",
      " |  errors\n",
      " |      The error setting of the decoder or encoder.\n",
      " |\n",
      " |      Subclasses should override.\n",
      " |\n",
      " |  line_buffering\n",
      " |\n",
      " |  name\n",
      " |\n",
      " |  newlines\n",
      " |      Line endings translated so far.\n",
      " |\n",
      " |      Only line endings translated during reading are considered.\n",
      " |\n",
      " |      Subclasses should override.\n",
      " |\n",
      " |  write_through\n",
      " |\n",
      " |  ----------------------------------------------------------------------\n",
      " |  Methods inherited from _IOBase:\n",
      " |\n",
      " |  __del__(self, /)\n",
      " |      Called when the instance is about to be destroyed.\n",
      " |\n",
      " |  __enter__(self, /)\n",
      " |\n",
      " |  __exit__(...)\n",
      " |\n",
      " |  __iter__(self, /)\n",
      " |      Implement iter(self).\n",
      " |\n",
      " |  readlines(self, hint=-1, /)\n",
      " |      Return a list of lines from the stream.\n",
      " |\n",
      " |      hint can be specified to control the number of lines read: no more\n",
      " |      lines will be read if the total size (in bytes/characters) of all\n",
      " |      lines so far exceeds hint.\n",
      " |\n",
      " |  writelines(self, lines, /)\n",
      " |      Write a list of lines to stream.\n",
      " |\n",
      " |      Line separators are not added, so it is usual for each of the\n",
      " |      lines provided to have a line separator at the end.\n",
      " |\n",
      " |  ----------------------------------------------------------------------\n",
      " |  Data descriptors inherited from _IOBase:\n",
      " |\n",
      " |  __dict__\n",
      "\n"
     ]
    }
   ],
   "source": [
    "help(fp)"
   ]
  },
  {
   "cell_type": "code",
   "execution_count": 38,
   "id": "b4fc46eb-b6b0-4138-9045-c0a673deb165",
   "metadata": {},
   "outputs": [
    {
     "data": {
      "text/plain": [
       "['Learning stratagies:\\n',\n",
       " '1) Wake up early\\n',\n",
       " '2) Revise the formulaes\\n',\n",
       " '3) Get freshen up\\n',\n",
       " '4) eat breakfast\\n',\n",
       " '5) Study Maths\\n',\n",
       " '6) Study Physics']"
      ]
     },
     "execution_count": 38,
     "metadata": {},
     "output_type": "execute_result"
    }
   ],
   "source": [
    "fp.readlines()"
   ]
  },
  {
   "cell_type": "code",
   "execution_count": 39,
   "id": "84b13bfd-f8a8-4a55-b63e-920251027505",
   "metadata": {},
   "outputs": [
    {
     "data": {
      "text/plain": [
       "128"
      ]
     },
     "execution_count": 39,
     "metadata": {},
     "output_type": "execute_result"
    }
   ],
   "source": [
    "fp.tell()"
   ]
  },
  {
   "cell_type": "code",
   "execution_count": 40,
   "id": "d1ac6018-892b-4dc9-b4f7-f7e08231a4af",
   "metadata": {},
   "outputs": [],
   "source": [
    "fp.close()"
   ]
  },
  {
   "cell_type": "code",
   "execution_count": 41,
   "id": "370e4ba7-b81d-45c5-a3c7-4c61a8498785",
   "metadata": {},
   "outputs": [
    {
     "name": "stdout",
     "output_type": "stream",
     "text": [
      "1) Wake up early\n",
      "\n",
      "2) Revise the formulaes\n",
      "\n",
      "3) Get freshen up\n",
      "\n",
      "4) eat breakfast\n",
      "\n",
      "5) Study Maths\n",
      "\n",
      "6) Study Physics\n"
     ]
    }
   ],
   "source": [
    "with open(\"learing.txt\") as fp:\n",
    "    lines = fp.readlines()\n",
    "for i in lines:\n",
    "    if \":\" not in i:\n",
    "        print(i)"
   ]
  },
  {
   "cell_type": "code",
   "execution_count": 44,
   "id": "ccc6b3e5-31d2-481e-b331-a04b53f71829",
   "metadata": {},
   "outputs": [
    {
     "name": "stdout",
     "output_type": "stream",
     "text": [
      "LEARNING STRATAGIES:\n",
      "\n",
      "1) WAKE UP EARLY\n",
      "\n",
      "2) REVISE THE FORMULAES\n",
      "\n",
      "3) GET FRESHEN UP\n",
      "\n",
      "Found\n"
     ]
    }
   ],
   "source": [
    "fp = open(\"learing.txt\")\n",
    "for i in range(10):\n",
    "    line = fp.readline()\n",
    "    if \"breakfast\" in line:\n",
    "        print(\"Found\")\n",
    "        fp.close()\n",
    "        break\n",
    "    else:\n",
    "        print(line.upper())"
   ]
  },
  {
   "cell_type": "code",
   "execution_count": 46,
   "id": "580553da-c98d-4c88-9cfb-aa021f1cced1",
   "metadata": {},
   "outputs": [
    {
     "ename": "UnsupportedOperation",
     "evalue": "not writable",
     "output_type": "error",
     "traceback": [
      "\u001b[1;31m---------------------------------------------------------------------------\u001b[0m",
      "\u001b[1;31mUnsupportedOperation\u001b[0m                      Traceback (most recent call last)",
      "Cell \u001b[1;32mIn[46], line 4\u001b[0m\n\u001b[0;32m      2\u001b[0m lines \u001b[38;5;241m=\u001b[39m fp\u001b[38;5;241m.\u001b[39mreadlines()\n\u001b[0;32m      3\u001b[0m lines\u001b[38;5;241m.\u001b[39mappend(\u001b[38;5;124m\"\u001b[39m\u001b[38;5;130;01m\\n\u001b[39;00m\u001b[38;5;124m\"\u001b[39m \u001b[38;5;241m+\u001b[39m \u001b[38;5;124m\"\u001b[39m\u001b[38;5;124mHey I am written from Pythn script\u001b[39m\u001b[38;5;124m\"\u001b[39m)\n\u001b[1;32m----> 4\u001b[0m \u001b[43mfp\u001b[49m\u001b[38;5;241;43m.\u001b[39;49m\u001b[43mwritelines\u001b[49m\u001b[43m(\u001b[49m\u001b[43mlines\u001b[49m\u001b[43m)\u001b[49m\n\u001b[0;32m      5\u001b[0m fp\u001b[38;5;241m.\u001b[39mclose()\n",
      "\u001b[1;31mUnsupportedOperation\u001b[0m: not writable"
     ]
    }
   ],
   "source": [
    "fp = open(\"learing.txt\")\n",
    "lines = fp.readlines()\n",
    "lines.append(\"\\n\" + \"Hey I am written from Pythn script\")\n",
    "fp.writelines(lines)\n",
    "fp.close()"
   ]
  },
  {
   "cell_type": "code",
   "execution_count": 47,
   "id": "2b1f85a2-06fa-4744-8538-4ee9a1ab67e1",
   "metadata": {},
   "outputs": [],
   "source": [
    "fp.close()"
   ]
  },
  {
   "cell_type": "code",
   "execution_count": 48,
   "id": "5f56a185-8226-440c-8a5d-6177c06b5d5e",
   "metadata": {},
   "outputs": [],
   "source": [
    "# \"w\" mode:\n",
    "    # Opens a file for writing and truncates the existing data\n",
    "    # the fp is at the start of the file\n",
    "    # It creates a new file if the file doesnot exist"
   ]
  },
  {
   "cell_type": "code",
   "execution_count": 49,
   "id": "39da64a2-86e5-44c7-b3f3-e79ad5c02619",
   "metadata": {},
   "outputs": [
    {
     "ename": "UnsupportedOperation",
     "evalue": "not readable",
     "output_type": "error",
     "traceback": [
      "\u001b[1;31m---------------------------------------------------------------------------\u001b[0m",
      "\u001b[1;31mUnsupportedOperation\u001b[0m                      Traceback (most recent call last)",
      "Cell \u001b[1;32mIn[49], line 2\u001b[0m\n\u001b[0;32m      1\u001b[0m \u001b[38;5;28;01mwith\u001b[39;00m \u001b[38;5;28mopen\u001b[39m(\u001b[38;5;124m\"\u001b[39m\u001b[38;5;124madvanced_learing.txt\u001b[39m\u001b[38;5;124m\"\u001b[39m, \u001b[38;5;124m\"\u001b[39m\u001b[38;5;124mw\u001b[39m\u001b[38;5;124m\"\u001b[39m) \u001b[38;5;28;01mas\u001b[39;00m fp:\n\u001b[1;32m----> 2\u001b[0m     \u001b[43mfp\u001b[49m\u001b[38;5;241;43m.\u001b[39;49m\u001b[43mread\u001b[49m\u001b[43m(\u001b[49m\u001b[43m)\u001b[49m\n",
      "\u001b[1;31mUnsupportedOperation\u001b[0m: not readable"
     ]
    }
   ],
   "source": [
    "with open(\"advanced_learing.txt\", \"w\") as fp:\n",
    "    fp.read()"
   ]
  },
  {
   "cell_type": "code",
   "execution_count": 50,
   "id": "9e34751d-e4f2-4b2d-b7c6-830229c0e6bb",
   "metadata": {},
   "outputs": [],
   "source": [
    "with open(\"advanced_learing.txt\", \"w\") as fp:\n",
    "    fp.write(\"Watch netflix\")"
   ]
  },
  {
   "cell_type": "code",
   "execution_count": 51,
   "id": "de1e4919-1f1b-4b7f-88d2-9338daca8850",
   "metadata": {},
   "outputs": [],
   "source": [
    "fp = open(\"advanced_learing.txt\", \"w\")"
   ]
  },
  {
   "cell_type": "code",
   "execution_count": 53,
   "id": "3f95b318-e8b6-4c3f-9503-dc2f77c57c02",
   "metadata": {},
   "outputs": [
    {
     "data": {
      "text/plain": [
       "['Learning stratagies:\\n',\n",
       " '1) Wake up early\\n',\n",
       " '2) Revise the formulaes\\n',\n",
       " '3) Get freshen up\\n',\n",
       " '4) eat breakfast\\n',\n",
       " '5) Study Maths\\n',\n",
       " '6) Study Physics',\n",
       " '\\nHey I am written from Pythn script']"
      ]
     },
     "execution_count": 53,
     "metadata": {},
     "output_type": "execute_result"
    }
   ],
   "source": [
    "lines"
   ]
  },
  {
   "cell_type": "code",
   "execution_count": 52,
   "id": "2c0a3ac8-c0ab-437b-9244-dbbb25ecade8",
   "metadata": {},
   "outputs": [
    {
     "data": {
      "text/plain": [
       "0"
      ]
     },
     "execution_count": 52,
     "metadata": {},
     "output_type": "execute_result"
    }
   ],
   "source": [
    "fp.tell()"
   ]
  },
  {
   "cell_type": "code",
   "execution_count": 54,
   "id": "8ea6ffce-5079-4cd0-a444-75e907117771",
   "metadata": {},
   "outputs": [],
   "source": [
    "fp.writelines(lines)"
   ]
  },
  {
   "cell_type": "code",
   "execution_count": 55,
   "id": "f21e04ab-b574-4a07-917a-29af5072d78a",
   "metadata": {},
   "outputs": [],
   "source": [
    "fp.close()"
   ]
  },
  {
   "cell_type": "code",
   "execution_count": 56,
   "id": "b7f14888-5d2c-413e-aeab-4389794e657f",
   "metadata": {},
   "outputs": [
    {
     "name": "stdout",
     "output_type": "stream",
     "text": [
      "['8) Have some enteratinment', '9) Cook food']\n"
     ]
    }
   ],
   "source": [
    "# a --> append mode:\n",
    "    # opens the file in append mode\n",
    "    # file pointer is at the end of the file\n",
    "    # creates a new file if the file is not present\n",
    "\n",
    "fp = open(\"advanced_learing.txt\", \"a\")\n",
    "lines2 = []\n",
    "lines2.append(\"8) Have some enteratinment\")\n",
    "lines2.append(\"9) Cook food\")\n",
    "print(lines2)"
   ]
  },
  {
   "cell_type": "code",
   "execution_count": 57,
   "id": "21ddeaa9-79d1-48ac-acb1-4f4a2de1641b",
   "metadata": {},
   "outputs": [],
   "source": [
    "fp.writelines(lines2)"
   ]
  },
  {
   "cell_type": "code",
   "execution_count": 58,
   "id": "5a73dca6-c073-4471-a69d-14736654d566",
   "metadata": {},
   "outputs": [],
   "source": [
    "fp.close()"
   ]
  },
  {
   "cell_type": "code",
   "execution_count": 59,
   "id": "9e1c6d7c-9b1e-4514-8a8f-267064c1281e",
   "metadata": {},
   "outputs": [
    {
     "name": "stdout",
     "output_type": "stream",
     "text": [
      "215\n"
     ]
    }
   ],
   "source": [
    "fp = open(\"advanced_learing.txt\", \"a\")\n",
    "print(fp.tell())\n",
    "fp.close()"
   ]
  },
  {
   "cell_type": "code",
   "execution_count": null,
   "id": "43503c0e-a3a8-4704-bcd0-e3fe97c30d53",
   "metadata": {},
   "outputs": [],
   "source": [
    "# # Advance mode\n",
    "# 1) r+ mode\n",
    "#     a) opens the file for Read and write openration.\n",
    "#     b) It gives FileNotFound error if file is not present \n",
    "#     c) file pointer is at Bof\n",
    "# 2) w+ mode\n",
    "#     a) Opens the file for Read and Write operations.\n",
    "#     b) Opening with this mode truncates the existing data of the file\n",
    "#     c) Creates a new file if the file doesnt exists\n",
    "#     d) file pointer is at the Bof\n",
    "# 3) a+ mode\n",
    "#     a) Opens the file for Read and Write operations.\n",
    "#     b) File pointer is at the Eof\n",
    "#     c) Creates a new file if File is not present"
   ]
  },
  {
   "cell_type": "code",
   "execution_count": 60,
   "id": "1e07bb4a-b5fd-4b36-b934-9b2aeb176290",
   "metadata": {},
   "outputs": [],
   "source": [
    "fp = open(\"advanced_learing.txt\", \"a+\")\n",
    "lines = fp.readlines()"
   ]
  },
  {
   "cell_type": "code",
   "execution_count": 61,
   "id": "5a69bffd-e056-4690-afbf-9236d6c424fa",
   "metadata": {},
   "outputs": [
    {
     "data": {
      "text/plain": [
       "[]"
      ]
     },
     "execution_count": 61,
     "metadata": {},
     "output_type": "execute_result"
    }
   ],
   "source": [
    "lines"
   ]
  },
  {
   "cell_type": "code",
   "execution_count": 62,
   "id": "d9f70d9e-cbe5-443d-8e3b-142edd325f63",
   "metadata": {},
   "outputs": [
    {
     "data": {
      "text/plain": [
       "0"
      ]
     },
     "execution_count": 62,
     "metadata": {},
     "output_type": "execute_result"
    }
   ],
   "source": [
    "fp.seek(0)"
   ]
  },
  {
   "cell_type": "code",
   "execution_count": 63,
   "id": "2a141c0a-3fc3-4a69-93e5-5c406e8e623e",
   "metadata": {},
   "outputs": [],
   "source": [
    "lines = fp.readlines()"
   ]
  },
  {
   "cell_type": "code",
   "execution_count": 64,
   "id": "962f777b-7f25-4b9f-974f-54be83ee2a8d",
   "metadata": {},
   "outputs": [
    {
     "data": {
      "text/plain": [
       "['Learning stratagies:\\n',\n",
       " '1) Wake up early\\n',\n",
       " '2) Revise the formulaes\\n',\n",
       " '3) Get freshen up\\n',\n",
       " '4) eat breakfast\\n',\n",
       " '5) Study Maths\\n',\n",
       " '6) Study Physics\\n',\n",
       " '7) Hey I am written from Pythn script\\n',\n",
       " '8) Have some enteratinment\\n',\n",
       " '9) Cook food']"
      ]
     },
     "execution_count": 64,
     "metadata": {},
     "output_type": "execute_result"
    }
   ],
   "source": [
    "lines"
   ]
  },
  {
   "cell_type": "code",
   "execution_count": 65,
   "id": "111c07cb-7d78-4309-9353-210b40d51129",
   "metadata": {},
   "outputs": [],
   "source": [
    "lines[0] = \"\\n\" + lines[0]"
   ]
  },
  {
   "cell_type": "code",
   "execution_count": 66,
   "id": "1561899a-4c5d-4630-9f56-165f4465cc39",
   "metadata": {},
   "outputs": [
    {
     "data": {
      "text/plain": [
       "['\\nLearning stratagies:\\n',\n",
       " '1) Wake up early\\n',\n",
       " '2) Revise the formulaes\\n',\n",
       " '3) Get freshen up\\n',\n",
       " '4) eat breakfast\\n',\n",
       " '5) Study Maths\\n',\n",
       " '6) Study Physics\\n',\n",
       " '7) Hey I am written from Pythn script\\n',\n",
       " '8) Have some enteratinment\\n',\n",
       " '9) Cook food']"
      ]
     },
     "execution_count": 66,
     "metadata": {},
     "output_type": "execute_result"
    }
   ],
   "source": [
    "lines"
   ]
  },
  {
   "cell_type": "code",
   "execution_count": 67,
   "id": "f5fa9e9f-05c9-4615-b1cd-5a8b0f7cbbaf",
   "metadata": {},
   "outputs": [],
   "source": [
    "fp.writelines(lines)"
   ]
  },
  {
   "cell_type": "code",
   "execution_count": 68,
   "id": "266cc120-7c06-447f-bbd6-4b85bcb673be",
   "metadata": {},
   "outputs": [],
   "source": [
    "fp.writelines(lines)"
   ]
  },
  {
   "cell_type": "code",
   "execution_count": 69,
   "id": "bc78b19c-c564-456c-9399-035989e0ca38",
   "metadata": {},
   "outputs": [],
   "source": [
    "fp.close()"
   ]
  },
  {
   "cell_type": "code",
   "execution_count": 70,
   "id": "e07be3f0-f376-4460-9c36-7e0addbb376b",
   "metadata": {},
   "outputs": [
    {
     "data": {
      "text/plain": [
       "649"
      ]
     },
     "execution_count": 70,
     "metadata": {},
     "output_type": "execute_result"
    }
   ],
   "source": [
    "fp = open(\"advanced_learing.txt\", \"a+\")\n",
    "fp.tell()"
   ]
  },
  {
   "cell_type": "code",
   "execution_count": 71,
   "id": "f0f1f013-c468-4c39-8671-ecc2d4e47295",
   "metadata": {},
   "outputs": [
    {
     "data": {
      "text/plain": [
       "0"
      ]
     },
     "execution_count": 71,
     "metadata": {},
     "output_type": "execute_result"
    }
   ],
   "source": [
    "fp.seek(0)"
   ]
  },
  {
   "cell_type": "code",
   "execution_count": 72,
   "id": "48fc3ba8-66c2-473e-891f-19d8c6056504",
   "metadata": {},
   "outputs": [
    {
     "data": {
      "text/plain": [
       "0"
      ]
     },
     "execution_count": 72,
     "metadata": {},
     "output_type": "execute_result"
    }
   ],
   "source": [
    "fp.truncate()"
   ]
  },
  {
   "cell_type": "code",
   "execution_count": 73,
   "id": "ec5f2d34-bfd9-4671-90c7-5186bb7ab6fd",
   "metadata": {},
   "outputs": [
    {
     "data": {
      "text/plain": [
       "['\\nLearning stratagies:\\n',\n",
       " '1) Wake up early\\n',\n",
       " '2) Revise the formulaes\\n',\n",
       " '3) Get freshen up\\n',\n",
       " '4) eat breakfast\\n',\n",
       " '5) Study Maths\\n',\n",
       " '6) Study Physics\\n',\n",
       " '7) Hey I am written from Pythn script\\n',\n",
       " '8) Have some enteratinment\\n',\n",
       " '9) Cook food']"
      ]
     },
     "execution_count": 73,
     "metadata": {},
     "output_type": "execute_result"
    }
   ],
   "source": [
    "lines"
   ]
  },
  {
   "cell_type": "code",
   "execution_count": 74,
   "id": "c59cc84a-602f-4ee8-8980-c62b6864fcfa",
   "metadata": {},
   "outputs": [],
   "source": [
    "fp.writelines(lines)"
   ]
  },
  {
   "cell_type": "code",
   "execution_count": 75,
   "id": "880bc0bf-c7d5-4ee2-84c7-3146adf4761e",
   "metadata": {},
   "outputs": [],
   "source": [
    "fp.close()"
   ]
  },
  {
   "cell_type": "code",
   "execution_count": 76,
   "id": "ef740591-e096-4dae-8198-1c62dd41ed8c",
   "metadata": {},
   "outputs": [],
   "source": [
    "class Solution:\n",
    "    def mysqr(self, x):\n",
    "        start = 1\n",
    "        end = x\n",
    "        result = 0\n",
    "        while start <= end:\n",
    "            mid = start + end - start\n",
    "            if mid * mid == x:\n",
    "                result = mid\n",
    "                return result\n",
    "            if mid * mid > x:\n",
    "                end = mid - 1\n",
    "            else:\n",
    "                result = mid\n",
    "                start = mid + 1\n",
    "        return result"
   ]
  },
  {
   "cell_type": "code",
   "execution_count": 77,
   "id": "680d83a3-8179-4e8d-a231-9f85b1848649",
   "metadata": {},
   "outputs": [],
   "source": [
    "S1 = Solution()"
   ]
  },
  {
   "cell_type": "code",
   "execution_count": 79,
   "id": "11bafb7a-ca16-4367-a818-68e745870940",
   "metadata": {},
   "outputs": [
    {
     "data": {
      "text/plain": [
       "2"
      ]
     },
     "execution_count": 79,
     "metadata": {},
     "output_type": "execute_result"
    }
   ],
   "source": [
    "S1.mysqr(5)"
   ]
  },
  {
   "cell_type": "code",
   "execution_count": 80,
   "id": "1f1b1bd0-5d82-48c4-a42a-1c8cdd4ef6b3",
   "metadata": {},
   "outputs": [
    {
     "data": {
      "text/plain": [
       "2"
      ]
     },
     "execution_count": 80,
     "metadata": {},
     "output_type": "execute_result"
    }
   ],
   "source": [
    "Solution.mysqr(Solution(), 5)"
   ]
  },
  {
   "cell_type": "code",
   "execution_count": 81,
   "id": "801f8364-5c91-479d-8940-39063b791c55",
   "metadata": {},
   "outputs": [],
   "source": [
    "class Solution:\n",
    "    @staticmethod\n",
    "    def mysqr(x):\n",
    "        start = 1\n",
    "        end = x\n",
    "        result = 0\n",
    "        while start <= end:\n",
    "            mid = start + end - start\n",
    "            if mid * mid == x:\n",
    "                result = mid\n",
    "                return result\n",
    "            if mid * mid > x:\n",
    "                end = mid - 1\n",
    "            else:\n",
    "                result = mid\n",
    "                start = mid + 1\n",
    "        return result"
   ]
  },
  {
   "cell_type": "code",
   "execution_count": 82,
   "id": "6ea141ef-56d2-47c0-b443-fcf1456067c0",
   "metadata": {},
   "outputs": [
    {
     "data": {
      "text/plain": [
       "2"
      ]
     },
     "execution_count": 82,
     "metadata": {},
     "output_type": "execute_result"
    }
   ],
   "source": [
    "Solution.mysqr(5)"
   ]
  },
  {
   "cell_type": "code",
   "execution_count": 83,
   "id": "f7411d5a-8cd0-4564-b36b-9e68c6e5ef56",
   "metadata": {},
   "outputs": [],
   "source": [
    "s1 = Solution()"
   ]
  },
  {
   "cell_type": "code",
   "execution_count": 84,
   "id": "49080692-57f6-4311-b9d0-eb9e4d3f5c14",
   "metadata": {},
   "outputs": [
    {
     "data": {
      "text/plain": [
       "2"
      ]
     },
     "execution_count": 84,
     "metadata": {},
     "output_type": "execute_result"
    }
   ],
   "source": [
    "s1.mysqr(5)"
   ]
  },
  {
   "cell_type": "code",
   "execution_count": null,
   "id": "61ff4df2-42d6-41ed-a271-8556dc7f9af9",
   "metadata": {},
   "outputs": [],
   "source": [
    "8:17PM"
   ]
  },
  {
   "cell_type": "code",
   "execution_count": null,
   "id": "03d7a3eb-e8a5-4273-a541-c3d5d6c3f3ac",
   "metadata": {},
   "outputs": [],
   "source": []
  }
 ],
 "metadata": {
  "kernelspec": {
   "display_name": "Python 3 (ipykernel)",
   "language": "python",
   "name": "python3"
  },
  "language_info": {
   "codemirror_mode": {
    "name": "ipython",
    "version": 3
   },
   "file_extension": ".py",
   "mimetype": "text/x-python",
   "name": "python",
   "nbconvert_exporter": "python",
   "pygments_lexer": "ipython3",
   "version": "3.13.1"
  }
 },
 "nbformat": 4,
 "nbformat_minor": 5
}
