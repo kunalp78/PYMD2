{
 "cells": [
  {
   "cell_type": "markdown",
   "id": "295d7ef9-f272-4b79-816e-7bbb20a97cf4",
   "metadata": {},
   "source": [
    "# Regex - (Regular Expression)"
   ]
  },
  {
   "cell_type": "code",
   "execution_count": null,
   "id": "685ae037-19d8-4e94-99ee-5944d3d03c80",
   "metadata": {},
   "outputs": [],
   "source": [
    "\"\"\"\n",
    "sadhsu jndisu bi sdfh@gmail.com dfiusbf\n",
    "snuh +9172544782215 jsbugbuj\n",
    "\"\"\""
   ]
  },
  {
   "cell_type": "code",
   "execution_count": null,
   "id": "148c546d-257b-4110-b282-d7dcae970754",
   "metadata": {},
   "outputs": [],
   "source": [
    "A Regular Expression is sequence of characters that defines a search pattern."
   ]
  },
  {
   "cell_type": "markdown",
   "id": "bcf98e83-28af-42e7-abc9-1a646a3c2810",
   "metadata": {},
   "source": [
    "## Metacharacters"
   ]
  },
  {
   "cell_type": "code",
   "execution_count": 6,
   "id": "62e5fa48-8f64-426b-98e4-ac7781d6af68",
   "metadata": {},
   "outputs": [],
   "source": [
    "# Metacharacters are special characters with special meaning."
   ]
  },
  {
   "cell_type": "code",
   "execution_count": null,
   "id": "bee1ce15-ccd0-4441-a4f6-5cbe12fce2c4",
   "metadata": {},
   "outputs": [],
   "source": [
    "[] - Square bracket\n",
    "\n",
    "[xyz]          x -> 1 match\n",
    "               xy -> 2 matches\n",
    "               abc hjy -> 1 match\n",
    "               x xyb zcf -> 4 match\n",
    "               fght rdsk  -> 0 match\n",
    "\n",
    "[a-z]          it will match any lower charcter between a to z\n",
    "[A-Z]\n",
    "[a-zA-Z]       all the alphabets\n",
    "[0-9]           1, 2, 3, 5, 9\n",
    "                1125 --> 4 matches\n",
    "[A-z0-9]        aS9# --> 3 matches\n",
    "\n",
    ". - Period (A period would match any single character expcept a newline'\\n')\n",
    "\n",
    "..              k@    -> 1 match\n",
    "                5     -> 0 match\n",
    "                5@k   -> 1 match\n",
    "                Kx@N  -> 2 matches\n",
    "\n",
    "^ - Caret (is used to check if the string starts with a certain character)\n",
    "\n",
    "^a             a     -> 1 match\n",
    "               abc   -> 1 match\n",
    "               bac   -> 0 match\n",
    "^abc           a     -> 0 matches\n",
    "               abcd  -> 1 match\n",
    "               abd   => 0 match\n",
    "\n",
    "[^ab]          c    -> 1 match\n",
    "               abde -> 2 matches\n",
    "               xyz  -> 3 matches\n",
    "               a    -> 0 match\n",
    "\n",
    "$ - Dollar (is used to check if a certain string ends with a cetain character)\n",
    "\n",
    "p$            megha.pawar.p -> 1 match\n",
    "              omkar.p1980   -> 0 match\n",
    "\n",
    "* - Star (non greedy)\n",
    "It matches zero or more occurences of the pattern on the left side of it\n",
    "String                       Regex\n",
    "gogle                        goo*le\n",
    "google\n",
    "gooogle\n",
    "goooogle\n",
    "\n",
    "a                           a*\n",
    "aa\n",
    "aaaa\n",
    "aaaaaa\n",
    "aaaaaaa\n",
    "\n",
    "+ - plus (greedy)\n",
    "It matches one or more occurences of the pattern on the left side of it\n",
    "Regex                         String\n",
    "goo+gle                       google  -> 1 match\n",
    "                              gogle   -> 0 match\n",
    "                              gooogle -> 1 match\n",
    "                              gooooogle> 1 match\n",
    "ma+n                          maan -> 1 match\n",
    "                              man  -> 1 match\n",
    "                              mn   -> 0 match\n",
    "\n",
    "? - Question Mark\n",
    "It matches zero or one occurence of the pattern left to it\n",
    "\n",
    "ma?n                          maan -> no match\n",
    "                              man  -> 1 match\n",
    "                              mn   -> 1 match\n",
    "\n",
    "{} - Braces\n",
    "\n",
    "a{2}                         aa\n",
    "\n",
    "a{n, m}   -> at least n and at most m repitions of the pattern\n",
    "\n",
    "a{2, 3}                      abc daat   -> 1 match [d (aa) t]\n",
    "                             abaac zaax -> 2 matches [ab (aa) c] [z (aa) x]\n",
    "                             abc dat    -> 0 matches\n",
    "                             aabc daaat -> 2 mt=atches aa, aaa\n",
    "\n",
    "[0-9]{2, 4}                  \"ab123csde\"      -> 1 match 123\n",
    "                             \"12 and 345673\"  -> 3 matches 12, 3456, 73\n",
    "                             \"1 and 2\"        -> 0 matches"
   ]
  },
  {
   "cell_type": "markdown",
   "id": "ba37463d-4fac-4de3-b140-fcae32627ad9",
   "metadata": {},
   "source": [
    "## Python RegEx"
   ]
  },
  {
   "cell_type": "code",
   "execution_count": 7,
   "id": "dca7da8c-ae69-495f-8186-13f286b55576",
   "metadata": {},
   "outputs": [],
   "source": [
    "import re"
   ]
  },
  {
   "cell_type": "code",
   "execution_count": 8,
   "id": "1ecaaf2a-40cd-4cc0-a6fb-a4a2b1c2516a",
   "metadata": {},
   "outputs": [],
   "source": [
    "# re.findall()  -> it returns a list of strings containing all matches"
   ]
  },
  {
   "cell_type": "code",
   "execution_count": 9,
   "id": "67a0ae75-edba-44b7-9537-1d64adaa42ec",
   "metadata": {},
   "outputs": [],
   "source": [
    "import re\n",
    "string = \"gooooogle\"\n",
    "pat = \"goo+gle\""
   ]
  },
  {
   "cell_type": "code",
   "execution_count": 10,
   "id": "c812a225-bd4b-4626-80af-f7a9cb7cbcc6",
   "metadata": {},
   "outputs": [
    {
     "data": {
      "text/plain": [
       "['gooooogle']"
      ]
     },
     "execution_count": 10,
     "metadata": {},
     "output_type": "execute_result"
    }
   ],
   "source": [
    "re.findall(pat, string)"
   ]
  },
  {
   "cell_type": "code",
   "execution_count": 12,
   "id": "daa0b4d9-1a5e-4992-b989-7b62ebd0f475",
   "metadata": {},
   "outputs": [
    {
     "data": {
      "text/plain": [
       "['gooooogle', 'google', 'gooogle']"
      ]
     },
     "execution_count": 12,
     "metadata": {},
     "output_type": "execute_result"
    }
   ],
   "source": [
    "string = \"goooooglegooglejshsbcdshfbvdskuhfvgoooglejbcisbjkbahvaggleuosb\"\n",
    "re.findall(pat, string)"
   ]
  },
  {
   "cell_type": "code",
   "execution_count": 13,
   "id": "75675a70-1b92-4f92-a24e-214107d5f83e",
   "metadata": {},
   "outputs": [
    {
     "data": {
      "text/plain": [
       "['x', 'x', 'y', 'z']"
      ]
     },
     "execution_count": 13,
     "metadata": {},
     "output_type": "execute_result"
    }
   ],
   "source": [
    "re.findall(\"[xyz]\", \"x xyb zcf\")"
   ]
  },
  {
   "cell_type": "code",
   "execution_count": 14,
   "id": "f58422e2-13f4-4364-8f65-b8e4044b2720",
   "metadata": {},
   "outputs": [
    {
     "data": {
      "text/plain": [
       "['xx', 'xx']"
      ]
     },
     "execution_count": 14,
     "metadata": {},
     "output_type": "execute_result"
    }
   ],
   "source": [
    "string = \"xx xyb zcfgxx\"\n",
    "re.findall(\"[x][x]\", string)"
   ]
  },
  {
   "cell_type": "code",
   "execution_count": 15,
   "id": "8c9b7e0d-527c-4edd-92d3-04b685320546",
   "metadata": {},
   "outputs": [
    {
     "data": {
      "text/plain": [
       "['xx', 'xy', 'zc', 'fg', 'xx']"
      ]
     },
     "execution_count": 15,
     "metadata": {},
     "output_type": "execute_result"
    }
   ],
   "source": [
    "re.findall(\"[a-z][a-z]\", string)"
   ]
  },
  {
   "cell_type": "code",
   "execution_count": 16,
   "id": "6ad1597b-c28e-496c-8b73-e71da61225a3",
   "metadata": {
    "collapsed": true,
    "jupyter": {
     "outputs_hidden": true
    }
   },
   "outputs": [
    {
     "data": {
      "text/plain": [
       "['g',\n",
       " 'o',\n",
       " 'o',\n",
       " 'o',\n",
       " ' ',\n",
       " 'o',\n",
       " 'o',\n",
       " 'g',\n",
       " 'l',\n",
       " 'e',\n",
       " 'g',\n",
       " 'o',\n",
       " 'o',\n",
       " 'g',\n",
       " 'l',\n",
       " 'e',\n",
       " ' ',\n",
       " 'j',\n",
       " 's',\n",
       " 'h',\n",
       " 's',\n",
       " 'b',\n",
       " 'c',\n",
       " 'd',\n",
       " 's',\n",
       " ' ',\n",
       " 'h',\n",
       " 'f',\n",
       " 'b',\n",
       " 'v',\n",
       " 'd',\n",
       " 's',\n",
       " 'k',\n",
       " 'u',\n",
       " 'h',\n",
       " ' ',\n",
       " 'f',\n",
       " 'v',\n",
       " 'g',\n",
       " 'o',\n",
       " 'o',\n",
       " 'o',\n",
       " 'g',\n",
       " 'l',\n",
       " ' ',\n",
       " 'e',\n",
       " 'j',\n",
       " '@',\n",
       " 'b',\n",
       " ' ',\n",
       " 'c',\n",
       " 'i',\n",
       " 's',\n",
       " 'b',\n",
       " 'j',\n",
       " 'k',\n",
       " ' ',\n",
       " 'b',\n",
       " 'a',\n",
       " 'h',\n",
       " ' ',\n",
       " 'v',\n",
       " 'a',\n",
       " 'g',\n",
       " 'g',\n",
       " 'l',\n",
       " 'e',\n",
       " 'u',\n",
       " 'o',\n",
       " 's',\n",
       " 'b']"
      ]
     },
     "execution_count": 16,
     "metadata": {},
     "output_type": "execute_result"
    }
   ],
   "source": [
    "string = \"gooo ooglegoogle jshsbcds hfbvdskuh fvgooogl ej@b cisbjk bah vaggleuosb\"\n",
    "re.findall(\".\", string)"
   ]
  },
  {
   "cell_type": "code",
   "execution_count": 17,
   "id": "b5c3750c-66db-416b-98be-2a8468fe16cb",
   "metadata": {},
   "outputs": [
    {
     "data": {
      "text/plain": [
       "['gooo',\n",
       " ' oog',\n",
       " 'lego',\n",
       " 'ogle',\n",
       " ' jsh',\n",
       " 'sbcd',\n",
       " 's hf',\n",
       " 'bvds',\n",
       " 'kuh ',\n",
       " 'fvgo',\n",
       " 'oogl',\n",
       " ' ej@',\n",
       " 'b ci',\n",
       " 'sbjk',\n",
       " ' bah',\n",
       " ' vag',\n",
       " 'gleu']"
      ]
     },
     "execution_count": 17,
     "metadata": {},
     "output_type": "execute_result"
    }
   ],
   "source": [
    "re.findall(\".{4}\", string)"
   ]
  },
  {
   "cell_type": "code",
   "execution_count": 21,
   "id": "f7200063-406b-4eb3-8f34-c2f3936e0b29",
   "metadata": {},
   "outputs": [
    {
     "data": {
      "text/plain": [
       "['gooo',\n",
       " 'oogl',\n",
       " 'egoo',\n",
       " 'jshs',\n",
       " 'bcds',\n",
       " 'hfbv',\n",
       " 'dsku',\n",
       " 'fvgo',\n",
       " 'oogl',\n",
       " 'ej@b',\n",
       " 'cisb',\n",
       " 'vagg',\n",
       " 'leuo']"
      ]
     },
     "execution_count": 21,
     "metadata": {},
     "output_type": "execute_result"
    }
   ],
   "source": [
    "re.findall(\"[A-z0-9@]{4}\", string)"
   ]
  },
  {
   "cell_type": "code",
   "execution_count": 30,
   "id": "89e21b71-f56d-42d7-84a8-9f6f025ced51",
   "metadata": {},
   "outputs": [
    {
     "data": {
      "text/plain": [
       "['gooo',\n",
       " 'oogl',\n",
       " 'egoo',\n",
       " 'gle',\n",
       " 'jshs',\n",
       " 'bcds',\n",
       " 'hfbv',\n",
       " 'dsku',\n",
       " 'fvgo',\n",
       " 'oogl',\n",
       " 'ej@b',\n",
       " 'cisb',\n",
       " 'jk',\n",
       " 'bah',\n",
       " 'vagg',\n",
       " 'leuo',\n",
       " 'sb']"
      ]
     },
     "execution_count": 30,
     "metadata": {},
     "output_type": "execute_result"
    }
   ],
   "source": [
    "string = \"gooo ooglegoogle jshsbcds hfbvdskuh fvgooogl ej@b cisbjk bah vaggleuosb\"\n",
    "# string = \"Abx jl\"\n",
    "re.findall(\"[A-z0-9@]{2,4}\", string)"
   ]
  },
  {
   "cell_type": "code",
   "execution_count": 31,
   "id": "a2159d86-3dfd-47a7-9758-f4412aedc295",
   "metadata": {},
   "outputs": [
    {
     "data": {
      "text/plain": [
       "['mn']"
      ]
     },
     "execution_count": 31,
     "metadata": {},
     "output_type": "execute_result"
    }
   ],
   "source": [
    "re.findall(\"ma?n\", \"mn\")"
   ]
  },
  {
   "cell_type": "code",
   "execution_count": 32,
   "id": "f5d43fff-2a7a-402d-aeac-f63ba5fb2db1",
   "metadata": {},
   "outputs": [
    {
     "data": {
      "text/plain": [
       "[]"
      ]
     },
     "execution_count": 32,
     "metadata": {},
     "output_type": "execute_result"
    }
   ],
   "source": [
    "re.findall(\"ma?n\", \"maan\")"
   ]
  },
  {
   "cell_type": "code",
   "execution_count": 33,
   "id": "486f6e15-78e3-436d-b70e-f1a5d684fc44",
   "metadata": {},
   "outputs": [
    {
     "data": {
      "text/plain": [
       "['mmman']"
      ]
     },
     "execution_count": 33,
     "metadata": {},
     "output_type": "execute_result"
    }
   ],
   "source": [
    "re.findall(\"m+a?n\", \"mmman\")"
   ]
  },
  {
   "cell_type": "code",
   "execution_count": 35,
   "id": "55eabdf2-71c7-4e7c-aba6-08c20274b9a5",
   "metadata": {},
   "outputs": [
    {
     "data": {
      "text/plain": [
       "['jaspal@gmail.com', 'jshsb@cds.com', 'fvgoo@og.in']"
      ]
     },
     "execution_count": 35,
     "metadata": {},
     "output_type": "execute_result"
    }
   ],
   "source": [
    "string = \"gooo ooglegoogle jaspal@gmail.com jshsb@cds.com hfbvdskuh fvgoo@og.in ej@i cisbjk bah vaggleuosb\"\n",
    "re.findall(\"[a-z]+@[a-z]+\\\\.[a-z]{2,3}\", string)"
   ]
  },
  {
   "cell_type": "code",
   "execution_count": 37,
   "id": "4fc46b73-667b-4b12-bfba-d70fabbc3055",
   "metadata": {},
   "outputs": [
    {
     "data": {
      "text/plain": [
       "['jaspal@gmail.com', 'jshsb@cds.com', 'fvgoo@og.in', 'kunalp78@gmail.com']"
      ]
     },
     "execution_count": 37,
     "metadata": {},
     "output_type": "execute_result"
    }
   ],
   "source": [
    "string = \"gooo ooglegoogle jaspal@gmail.com jshsb@cds.com hfbvdskuh fvgoo@og.in ej@i cisbjk bah kunalp78@gmail.com vaggleuosb\"\n",
    "re.findall(\"[A-z0-9]+@[a-z]+\\\\.[a-z]{2,3}\", string)"
   ]
  },
  {
   "cell_type": "code",
   "execution_count": 39,
   "id": "385fd765-3c53-444a-8541-ecff4eb8ebfc",
   "metadata": {},
   "outputs": [
    {
     "data": {
      "text/plain": [
       "['jaspal@gmail.com',\n",
       " 'jshsb@cds.com',\n",
       " '@hfbvdsk.uh',\n",
       " 'fvgoo@og.in',\n",
       " 'kunalp78@gmail.com']"
      ]
     },
     "execution_count": 39,
     "metadata": {},
     "output_type": "execute_result"
    }
   ],
   "source": [
    "string = \"gooo ooglegoogle jaspal@gmail.com jshsb@cds.com @hfbvdsk.uh fvgoo@og.in ej@i cisbjk bah kunalp78@gmail.com vaggleuosb\"\n",
    "re.findall(\"[A-z0-9]*@[a-z]+\\\\.[a-z]{2,3}\", string)"
   ]
  },
  {
   "cell_type": "code",
   "execution_count": 41,
   "id": "bed13fb7-a354-4e0f-9bc2-cc0176010a5f",
   "metadata": {},
   "outputs": [],
   "source": [
    "string = \"gooo ooglegoogle jaspal@gmail.com jshsb@cds.com hfbvdskuh fvgoo@og.in ej@i cisbjk bah kunalp78@gmail.com vaggleuosb\"\n",
    "var = re.search(\"[A-z0-9]+@[a-z]+\\\\.[a-z]{2,3}\", string)"
   ]
  },
  {
   "cell_type": "code",
   "execution_count": 43,
   "id": "d7ffea93-791d-4b60-b3cf-da237179780f",
   "metadata": {},
   "outputs": [
    {
     "data": {
      "text/plain": [
       "'jaspal@gmail.com'"
      ]
     },
     "execution_count": 43,
     "metadata": {},
     "output_type": "execute_result"
    }
   ],
   "source": [
    "var.group()"
   ]
  },
  {
   "cell_type": "code",
   "execution_count": 44,
   "id": "850542a6-c121-40bc-9ba8-71c570cee897",
   "metadata": {},
   "outputs": [
    {
     "data": {
      "text/plain": [
       "<re.Match object; span=(17, 33), match='jaspal@gmail.com'>"
      ]
     },
     "execution_count": 44,
     "metadata": {},
     "output_type": "execute_result"
    }
   ],
   "source": [
    "var"
   ]
  },
  {
   "cell_type": "code",
   "execution_count": 48,
   "id": "252c617e-fc4e-4ab7-be35-76261cd2d69b",
   "metadata": {},
   "outputs": [
    {
     "data": {
      "text/plain": [
       "17"
      ]
     },
     "execution_count": 48,
     "metadata": {},
     "output_type": "execute_result"
    }
   ],
   "source": [
    "var.start()"
   ]
  },
  {
   "cell_type": "code",
   "execution_count": 50,
   "id": "61e8220a-ab58-40a2-a10f-bf7b0c3ccbc1",
   "metadata": {},
   "outputs": [
    {
     "data": {
      "text/plain": [
       "33"
      ]
     },
     "execution_count": 50,
     "metadata": {},
     "output_type": "execute_result"
    }
   ],
   "source": [
    "var.end()"
   ]
  },
  {
   "cell_type": "code",
   "execution_count": 51,
   "id": "79a75392-3097-48f1-bfb9-bb7d08c4c853",
   "metadata": {},
   "outputs": [],
   "source": [
    "string = \"gooo ooglegoogle jaspal@gmail.com jshsb@cds.com hfbvdskuh fvgoo@og.in ej@i cisbjk bah kunalp78@gmail.com vaggleuosb\"\n",
    "var = re.search(\"[A-z0-9]+@[a-z]+\\\\.[a-z]{2,3}\", string)"
   ]
  },
  {
   "cell_type": "code",
   "execution_count": 53,
   "id": "681aa72c-dd80-4038-8af5-88929ba4c004",
   "metadata": {},
   "outputs": [
    {
     "data": {
      "text/plain": [
       "'jaspal'"
      ]
     },
     "execution_count": 53,
     "metadata": {},
     "output_type": "execute_result"
    }
   ],
   "source": [
    "re.sub(\"@.+\", \"\", var.group())"
   ]
  },
  {
   "cell_type": "code",
   "execution_count": 54,
   "id": "b3a2d8df-32d3-40bc-ab84-2288b36617e4",
   "metadata": {},
   "outputs": [
    {
     "name": "stdout",
     "output_type": "stream",
     "text": [
      "jaspal\n",
      "jshsb\n",
      "fvgoo\n",
      "kunalp78\n"
     ]
    }
   ],
   "source": [
    "string = \"gooo ooglegoogle jaspal@gmail.com jshsb@cds.com @hfbvdsk.uh fvgoo@og.in ej@i cisbjk bah kunalp78@gmail.com vaggleuosb\"\n",
    "var = re.findall(\"[A-z0-9]+@[a-z]+\\\\.[a-z]{2,3}\", string)\n",
    "for i in var:\n",
    "    print(re.sub(\"@.+\", \"\", i))"
   ]
  },
  {
   "cell_type": "code",
   "execution_count": null,
   "id": "607732a9-dcbc-4b4b-92ee-c345b805691d",
   "metadata": {},
   "outputs": [],
   "source": []
  }
 ],
 "metadata": {
  "kernelspec": {
   "display_name": "Python 3 (ipykernel)",
   "language": "python",
   "name": "python3"
  },
  "language_info": {
   "codemirror_mode": {
    "name": "ipython",
    "version": 3
   },
   "file_extension": ".py",
   "mimetype": "text/x-python",
   "name": "python",
   "nbconvert_exporter": "python",
   "pygments_lexer": "ipython3",
   "version": "3.13.1"
  }
 },
 "nbformat": 4,
 "nbformat_minor": 5
}
