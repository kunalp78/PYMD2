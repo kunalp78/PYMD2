{
 "cells": [
  {
   "cell_type": "code",
   "execution_count": 1,
   "id": "b08c16ce-4b7c-410b-b411-da6d799a3db6",
   "metadata": {},
   "outputs": [],
   "source": [
    "# JSON - (JavaScript Object notation)"
   ]
  },
  {
   "cell_type": "code",
   "execution_count": 2,
   "id": "93a31bd2-83d9-45e0-a47f-f41aa386b02b",
   "metadata": {},
   "outputs": [],
   "source": [
    "file = open(\"filename.json\", \"a+\")\n",
    "file.close()"
   ]
  },
  {
   "cell_type": "code",
   "execution_count": 3,
   "id": "5fd99ada-a9d1-4734-9281-28fe9c63a0d1",
   "metadata": {},
   "outputs": [],
   "source": [
    "import json"
   ]
  },
  {
   "cell_type": "code",
   "execution_count": 4,
   "id": "14398d62-b5c3-4487-8023-bb3f68be591c",
   "metadata": {},
   "outputs": [],
   "source": [
    "class Student:\n",
    "    def __init__(self, name, phn, password):\n",
    "        self.name = name\n",
    "        self.phn = phn\n",
    "        self.password = hash(password)\n",
    "\n",
    "    def set_name(self):\n",
    "        ...\n"
   ]
  },
  {
   "cell_type": "code",
   "execution_count": 5,
   "id": "a17ec228-e5a8-4982-a71a-58a6e8c2324c",
   "metadata": {},
   "outputs": [],
   "source": [
    "s0 = Student(\"Chiranjeev\", 91234567890, 12345)"
   ]
  },
  {
   "cell_type": "code",
   "execution_count": 6,
   "id": "3e87f6c8-d41e-4f8b-9c0b-fce853bd8182",
   "metadata": {},
   "outputs": [],
   "source": [
    "s1 = Student(\"Megha\", 91324567890, 32145)"
   ]
  },
  {
   "cell_type": "code",
   "execution_count": 56,
   "id": "7e83805d-30f3-439f-bf69-c10ff69016d3",
   "metadata": {},
   "outputs": [
    {
     "name": "stdin",
     "output_type": "stream",
     "text": [
      "Do you want to exit:  n\n",
      "Enter the name of student:  Sarvanan\n",
      "Enter the phone Number of the student:  9876542300\n",
      "Enter the password:  5554sarvana\n",
      "Do you want to exit:  y\n"
     ]
    }
   ],
   "source": [
    "l = []\n",
    "while 1:\n",
    "    exit = input(\"Do you want to exit: \")\n",
    "    if exit.lower() == \"y\":\n",
    "        break\n",
    "    name = input(\"Enter the name of student: \")\n",
    "    phn = input(\"Enter the phone Number of the student: \")\n",
    "    password = input(\"Enter the password: \")\n",
    "    l.append(Student(name, phn, password).__dict__)\n",
    "    fp = open(\"filename.json\", \"r+\")\n",
    "    content = json.load(fp)\n",
    "    content.extend(l)\n",
    "    l.clear()\n",
    "    fp.seek(0)\n",
    "    fp.truncate()\n",
    "    json.dump(content, fp)\n",
    "    fp.close()"
   ]
  },
  {
   "cell_type": "code",
   "execution_count": 8,
   "id": "e2391f35-bac8-4cd0-bf90-e434d387185d",
   "metadata": {},
   "outputs": [
    {
     "data": {
      "text/plain": [
       "[<__main__.Student at 0x1e7d8c465d0>,\n",
       " <__main__.Student at 0x1e7d8d976f0>,\n",
       " <__main__.Student at 0x1e7d8d975c0>]"
      ]
     },
     "execution_count": 8,
     "metadata": {},
     "output_type": "execute_result"
    }
   ],
   "source": [
    "l"
   ]
  },
  {
   "cell_type": "code",
   "execution_count": 10,
   "id": "907ccb93-b0d1-4492-bcba-07f10da9066d",
   "metadata": {},
   "outputs": [
    {
     "data": {
      "text/plain": [
       "'Cheeranjeev'"
      ]
     },
     "execution_count": 10,
     "metadata": {},
     "output_type": "execute_result"
    }
   ],
   "source": [
    "l[0].name"
   ]
  },
  {
   "cell_type": "code",
   "execution_count": 12,
   "id": "1780025a-e164-4d5c-9896-93af5bca96f8",
   "metadata": {},
   "outputs": [
    {
     "data": {
      "text/plain": [
       "'Megha'"
      ]
     },
     "execution_count": 12,
     "metadata": {},
     "output_type": "execute_result"
    }
   ],
   "source": [
    "l[1].name"
   ]
  },
  {
   "cell_type": "code",
   "execution_count": 13,
   "id": "4fea37c6-ef70-43f6-83b2-4bab748d2f82",
   "metadata": {},
   "outputs": [
    {
     "data": {
      "text/plain": [
       "'Sarvanan'"
      ]
     },
     "execution_count": 13,
     "metadata": {},
     "output_type": "execute_result"
    }
   ],
   "source": [
    "l[2].name"
   ]
  },
  {
   "cell_type": "code",
   "execution_count": 14,
   "id": "ca44b739-6a69-464a-9f9f-af38dae74eb8",
   "metadata": {},
   "outputs": [
    {
     "data": {
      "text/plain": [
       "{'name': 'Cheeranjeev', 'phn': '91234567890', 'password': 1195970970815399275}"
      ]
     },
     "execution_count": 14,
     "metadata": {},
     "output_type": "execute_result"
    }
   ],
   "source": [
    "l[0].__dict__"
   ]
  },
  {
   "cell_type": "code",
   "execution_count": 16,
   "id": "77a3d1d2-4a5a-4af7-a61a-3a89aa31e269",
   "metadata": {},
   "outputs": [
    {
     "data": {
      "text/plain": [
       "[{'name': 'Chiranjeev', 'phn': '9123456789', 'password': -5949156462715632470},\n",
       " {'name': 'Megha', 'phn': '9154687230', 'password': -8784226511549431627},\n",
       " {'name': 'Sarvanan', 'phn': '9154786320', 'password': -3673632992497530074}]"
      ]
     },
     "execution_count": 16,
     "metadata": {},
     "output_type": "execute_result"
    }
   ],
   "source": [
    "l"
   ]
  },
  {
   "cell_type": "code",
   "execution_count": 17,
   "id": "f271e303-95ed-4e5a-87ed-90e1e549b732",
   "metadata": {},
   "outputs": [],
   "source": [
    "fp = open(\"filename.json\", \"r+\")"
   ]
  },
  {
   "cell_type": "code",
   "execution_count": 18,
   "id": "64fd9754-b438-4925-b4ba-f31935eda7ef",
   "metadata": {},
   "outputs": [
    {
     "ename": "TypeError",
     "evalue": "write() argument must be str, not dict",
     "output_type": "error",
     "traceback": [
      "\u001b[1;31m---------------------------------------------------------------------------\u001b[0m",
      "\u001b[1;31mTypeError\u001b[0m                                 Traceback (most recent call last)",
      "Cell \u001b[1;32mIn[18], line 1\u001b[0m\n\u001b[1;32m----> 1\u001b[0m \u001b[43mfp\u001b[49m\u001b[38;5;241;43m.\u001b[39;49m\u001b[43mwritelines\u001b[49m\u001b[43m(\u001b[49m\u001b[43ml\u001b[49m\u001b[43m)\u001b[49m\n",
      "\u001b[1;31mTypeError\u001b[0m: write() argument must be str, not dict"
     ]
    }
   ],
   "source": [
    "fp.writelines(l)"
   ]
  },
  {
   "cell_type": "code",
   "execution_count": 19,
   "id": "cc963f85-363d-411b-aaa5-eec71abca039",
   "metadata": {},
   "outputs": [
    {
     "data": {
      "text/plain": [
       "\"[{'name': 'Chiranjeev', 'phn': '9123456789', 'password': -5949156462715632470}, {'name': 'Megha', 'phn': '9154687230', 'password': -8784226511549431627}, {'name': 'Sarvanan', 'phn': '9154786320', 'password': -3673632992497530074}]\""
      ]
     },
     "execution_count": 19,
     "metadata": {},
     "output_type": "execute_result"
    }
   ],
   "source": [
    "str(l)"
   ]
  },
  {
   "cell_type": "code",
   "execution_count": 20,
   "id": "5f8e7d84-8508-414a-9bef-29f290df3774",
   "metadata": {},
   "outputs": [],
   "source": [
    "fp.writelines(str(l))"
   ]
  },
  {
   "cell_type": "code",
   "execution_count": 21,
   "id": "5a634965-67c4-487f-888d-3a14c017cfbe",
   "metadata": {},
   "outputs": [],
   "source": [
    "fp.close()"
   ]
  },
  {
   "cell_type": "code",
   "execution_count": 22,
   "id": "764f0ab6-4b29-4ac7-9972-eaf46dfd0a37",
   "metadata": {},
   "outputs": [
    {
     "data": {
      "text/plain": [
       "{'name': 'Chiranjeev', 'phn': '9123456789', 'password': -5949156462715632470}"
      ]
     },
     "execution_count": 22,
     "metadata": {},
     "output_type": "execute_result"
    }
   ],
   "source": [
    "l[0]"
   ]
  },
  {
   "cell_type": "code",
   "execution_count": 23,
   "id": "bed87124-c544-4a9b-8e5b-ae730b2921c7",
   "metadata": {},
   "outputs": [
    {
     "data": {
      "text/plain": [
       "'Chiranjeev'"
      ]
     },
     "execution_count": 23,
     "metadata": {},
     "output_type": "execute_result"
    }
   ],
   "source": [
    "l[0][\"name\"]"
   ]
  },
  {
   "cell_type": "code",
   "execution_count": 24,
   "id": "42d5f7ae-2d62-4238-9d5e-e37381fae026",
   "metadata": {},
   "outputs": [],
   "source": [
    "fp = open(\"filename.json\")"
   ]
  },
  {
   "cell_type": "code",
   "execution_count": 25,
   "id": "08c41a6d-d37e-4e01-b1b7-5d1c1e15fcd9",
   "metadata": {},
   "outputs": [],
   "source": [
    "l1 = fp.read()"
   ]
  },
  {
   "cell_type": "code",
   "execution_count": 26,
   "id": "c00dad8b-264a-4c09-9056-38f4fa004a1a",
   "metadata": {},
   "outputs": [
    {
     "data": {
      "text/plain": [
       "\"[{'name': 'Chiranjeev', 'phn': '9123456789', 'password': -5949156462715632470}, {'name': 'Megha', 'phn': '9154687230', 'password': -8784226511549431627}, {'name': 'Sarvanan', 'phn': '9154786320', 'password': -3673632992497530074}]\""
      ]
     },
     "execution_count": 26,
     "metadata": {},
     "output_type": "execute_result"
    }
   ],
   "source": [
    "l1"
   ]
  },
  {
   "cell_type": "code",
   "execution_count": 27,
   "id": "6b40daa2-403c-4cb4-ab2c-b8753a68109d",
   "metadata": {},
   "outputs": [
    {
     "data": {
      "text/plain": [
       "[{'name': 'Chiranjeev', 'phn': '9123456789', 'password': -5949156462715632470},\n",
       " {'name': 'Megha', 'phn': '9154687230', 'password': -8784226511549431627},\n",
       " {'name': 'Sarvanan', 'phn': '9154786320', 'password': -3673632992497530074}]"
      ]
     },
     "execution_count": 27,
     "metadata": {},
     "output_type": "execute_result"
    }
   ],
   "source": [
    "l"
   ]
  },
  {
   "cell_type": "code",
   "execution_count": 28,
   "id": "00a6b8f6-22a1-4f1b-bcf5-35691d26c725",
   "metadata": {},
   "outputs": [
    {
     "data": {
      "text/plain": [
       "{'name': 'Chiranjeev', 'phn': '9123456789', 'password': -5949156462715632470}"
      ]
     },
     "execution_count": 28,
     "metadata": {},
     "output_type": "execute_result"
    }
   ],
   "source": [
    "l[0]"
   ]
  },
  {
   "cell_type": "code",
   "execution_count": 29,
   "id": "614f4a1e-d6c2-4ff0-89af-3cbfcc2be704",
   "metadata": {},
   "outputs": [
    {
     "data": {
      "text/plain": [
       "'Chiranjeev'"
      ]
     },
     "execution_count": 29,
     "metadata": {},
     "output_type": "execute_result"
    }
   ],
   "source": [
    "l[0][\"name\"]"
   ]
  },
  {
   "cell_type": "code",
   "execution_count": 30,
   "id": "7f0bb292-e6f1-41fa-8bb8-70d68cd7ac8a",
   "metadata": {},
   "outputs": [
    {
     "data": {
      "text/plain": [
       "'['"
      ]
     },
     "execution_count": 30,
     "metadata": {},
     "output_type": "execute_result"
    }
   ],
   "source": [
    "l1[0]"
   ]
  },
  {
   "cell_type": "code",
   "execution_count": 31,
   "id": "6034f6f8-7371-4406-bdec-2edec9b149ec",
   "metadata": {},
   "outputs": [],
   "source": [
    "fp.close()"
   ]
  },
  {
   "cell_type": "code",
   "execution_count": 32,
   "id": "b4e7b1a3-06f2-466e-9e9b-1fcfb2607468",
   "metadata": {},
   "outputs": [],
   "source": [
    "import json"
   ]
  },
  {
   "cell_type": "code",
   "execution_count": 37,
   "id": "59900bf7-baac-47da-8f53-012a37b33729",
   "metadata": {},
   "outputs": [],
   "source": [
    "fp = open(\"filename.json\", \"r+\")"
   ]
  },
  {
   "cell_type": "code",
   "execution_count": 41,
   "id": "9cceb58d-a72c-4c5a-be9a-f6327fe33ff7",
   "metadata": {},
   "outputs": [],
   "source": [
    "json.dump(l, fp)"
   ]
  },
  {
   "cell_type": "code",
   "execution_count": 42,
   "id": "1c82fea9-8f37-4b2d-8d6e-d7b67731e71b",
   "metadata": {},
   "outputs": [],
   "source": [
    "fp.close()"
   ]
  },
  {
   "cell_type": "code",
   "execution_count": 43,
   "id": "8666b1f0-ad05-463e-81a9-dbbb852ca8df",
   "metadata": {},
   "outputs": [],
   "source": [
    "fp = open(\"filename.json\", \"r+\")"
   ]
  },
  {
   "cell_type": "code",
   "execution_count": 44,
   "id": "b3b0022d-3b41-49e4-8c78-7e46479bbef9",
   "metadata": {},
   "outputs": [],
   "source": [
    "content = json.load(fp)"
   ]
  },
  {
   "cell_type": "code",
   "execution_count": 45,
   "id": "4335467c-17fe-4d70-a20b-5cde4cc15b14",
   "metadata": {},
   "outputs": [
    {
     "data": {
      "text/plain": [
       "[{'name': 'Chiranjeev', 'phn': '9123456789', 'password': -5949156462715632470},\n",
       " {'name': 'Megha', 'phn': '9154687230', 'password': -8784226511549431627},\n",
       " {'name': 'Sarvanan', 'phn': '9154786320', 'password': -3673632992497530074}]"
      ]
     },
     "execution_count": 45,
     "metadata": {},
     "output_type": "execute_result"
    }
   ],
   "source": [
    "content"
   ]
  },
  {
   "cell_type": "code",
   "execution_count": 46,
   "id": "f6787cd5-8dae-4ac2-8230-0a28d7098f73",
   "metadata": {},
   "outputs": [
    {
     "data": {
      "text/plain": [
       "{'name': 'Sarvanan', 'phn': '9154786320', 'password': -3673632992497530074}"
      ]
     },
     "execution_count": 46,
     "metadata": {},
     "output_type": "execute_result"
    }
   ],
   "source": [
    "content.pop()"
   ]
  },
  {
   "cell_type": "code",
   "execution_count": 47,
   "id": "5336e0ad-bb59-4c10-8cbc-eae28cbd5d60",
   "metadata": {},
   "outputs": [
    {
     "data": {
      "text/plain": [
       "[{'name': 'Chiranjeev', 'phn': '9123456789', 'password': -5949156462715632470},\n",
       " {'name': 'Megha', 'phn': '9154687230', 'password': -8784226511549431627}]"
      ]
     },
     "execution_count": 47,
     "metadata": {},
     "output_type": "execute_result"
    }
   ],
   "source": [
    "content"
   ]
  },
  {
   "cell_type": "code",
   "execution_count": 48,
   "id": "7879ef2e-81c8-4171-8ee0-c92fd29b361f",
   "metadata": {},
   "outputs": [
    {
     "data": {
      "text/plain": [
       "230"
      ]
     },
     "execution_count": 48,
     "metadata": {},
     "output_type": "execute_result"
    }
   ],
   "source": [
    "fp.tell()"
   ]
  },
  {
   "cell_type": "code",
   "execution_count": 49,
   "id": "66207d20-2711-4524-b57c-ce887d6fc27e",
   "metadata": {},
   "outputs": [
    {
     "data": {
      "text/plain": [
       "0"
      ]
     },
     "execution_count": 49,
     "metadata": {},
     "output_type": "execute_result"
    }
   ],
   "source": [
    "fp.seek(0)"
   ]
  },
  {
   "cell_type": "code",
   "execution_count": 51,
   "id": "6b3841e1-3aca-4ffd-867d-b47c7e8f3378",
   "metadata": {},
   "outputs": [
    {
     "data": {
      "text/plain": [
       "0"
      ]
     },
     "execution_count": 51,
     "metadata": {},
     "output_type": "execute_result"
    }
   ],
   "source": [
    "fp.truncate()"
   ]
  },
  {
   "cell_type": "code",
   "execution_count": 52,
   "id": "b57d3da6-10d3-4153-a578-7e6a50b56b2b",
   "metadata": {},
   "outputs": [],
   "source": [
    "json.dump(content, fp)"
   ]
  },
  {
   "cell_type": "code",
   "execution_count": 55,
   "id": "591fb632-4592-4afd-86c9-cd8bcfbd0e61",
   "metadata": {},
   "outputs": [],
   "source": [
    "fp.close()"
   ]
  },
  {
   "cell_type": "code",
   "execution_count": 57,
   "id": "85064894-6e27-4402-9bca-16e800774cc4",
   "metadata": {},
   "outputs": [],
   "source": [
    "l = [\"a\",\"b\"]\n",
    "l.append(\"c\")"
   ]
  },
  {
   "cell_type": "code",
   "execution_count": 58,
   "id": "2d08fa21-1e8c-4fe2-af25-dd09d696e950",
   "metadata": {},
   "outputs": [],
   "source": [
    "j = [\"d\"]"
   ]
  },
  {
   "cell_type": "code",
   "execution_count": 59,
   "id": "cae81fbf-eebc-4ff8-8d0e-de35a6ab2fdc",
   "metadata": {},
   "outputs": [],
   "source": [
    "l.append(j)"
   ]
  },
  {
   "cell_type": "code",
   "execution_count": 60,
   "id": "3a3ad863-bf8d-4c6c-8d9e-13618e2f9bd1",
   "metadata": {},
   "outputs": [
    {
     "data": {
      "text/plain": [
       "['a', 'b', 'c', ['d']]"
      ]
     },
     "execution_count": 60,
     "metadata": {},
     "output_type": "execute_result"
    }
   ],
   "source": [
    "l"
   ]
  },
  {
   "cell_type": "code",
   "execution_count": 61,
   "id": "8d7a7743-45b9-4a4a-9486-23e80c794980",
   "metadata": {},
   "outputs": [],
   "source": [
    "l.extend(j)"
   ]
  },
  {
   "cell_type": "code",
   "execution_count": 62,
   "id": "5e303a7c-7b25-4608-96f7-7c4525e55d25",
   "metadata": {},
   "outputs": [
    {
     "data": {
      "text/plain": [
       "['a', 'b', 'c', ['d'], 'd']"
      ]
     },
     "execution_count": 62,
     "metadata": {},
     "output_type": "execute_result"
    }
   ],
   "source": [
    "l"
   ]
  },
  {
   "cell_type": "code",
   "execution_count": 63,
   "id": "efa64dc4-4676-400f-9a2e-a74d1c1a489e",
   "metadata": {},
   "outputs": [
    {
     "name": "stdin",
     "output_type": "stream",
     "text": [
      "Do you want to exit:  n\n",
      "Enter the name of student:  Kunal\n",
      "Enter the phone Number of the student:  91546877923\n",
      "Enter the password:  password123@\n",
      "Do you want to exit:  y\n"
     ]
    }
   ],
   "source": [
    "while 1:\n",
    "    exit = input(\"Do you want to exit: \")\n",
    "    if exit.lower() == \"y\":\n",
    "        break\n",
    "    name = input(\"Enter the name of student: \")\n",
    "    phn = input(\"Enter the phone Number of the student: \")\n",
    "    password = input(\"Enter the password: \")\n",
    "    fp = open(\"filename.json\", \"r+\")\n",
    "    content = json.load(fp)\n",
    "    content.append(Student(name, phn, password).__dict__)\n",
    "    fp.seek(0)\n",
    "    fp.truncate()\n",
    "    json.dump(content, fp)\n",
    "    fp.close()"
   ]
  },
  {
   "cell_type": "code",
   "execution_count": 64,
   "id": "263997fd-a734-48c6-816b-f35e28e61d33",
   "metadata": {},
   "outputs": [],
   "source": [
    "fp = open(\"new_json.json\", \"a+\")"
   ]
  },
  {
   "cell_type": "code",
   "execution_count": 65,
   "id": "914a6785-de46-4225-a38a-9918ab8417ab",
   "metadata": {},
   "outputs": [
    {
     "ename": "JSONDecodeError",
     "evalue": "Expecting value: line 1 column 1 (char 0)",
     "output_type": "error",
     "traceback": [
      "\u001b[1;31m---------------------------------------------------------------------------\u001b[0m",
      "\u001b[1;31mJSONDecodeError\u001b[0m                           Traceback (most recent call last)",
      "Cell \u001b[1;32mIn[65], line 1\u001b[0m\n\u001b[1;32m----> 1\u001b[0m \u001b[43mjson\u001b[49m\u001b[38;5;241;43m.\u001b[39;49m\u001b[43mload\u001b[49m\u001b[43m(\u001b[49m\u001b[43mfp\u001b[49m\u001b[43m)\u001b[49m\n",
      "File \u001b[1;32m~\\AppData\\Local\\Programs\\Python\\Python313\\Lib\\json\\__init__.py:293\u001b[0m, in \u001b[0;36mload\u001b[1;34m(fp, cls, object_hook, parse_float, parse_int, parse_constant, object_pairs_hook, **kw)\u001b[0m\n\u001b[0;32m    274\u001b[0m \u001b[38;5;28;01mdef\u001b[39;00m \u001b[38;5;21mload\u001b[39m(fp, \u001b[38;5;241m*\u001b[39m, \u001b[38;5;28mcls\u001b[39m\u001b[38;5;241m=\u001b[39m\u001b[38;5;28;01mNone\u001b[39;00m, object_hook\u001b[38;5;241m=\u001b[39m\u001b[38;5;28;01mNone\u001b[39;00m, parse_float\u001b[38;5;241m=\u001b[39m\u001b[38;5;28;01mNone\u001b[39;00m,\n\u001b[0;32m    275\u001b[0m         parse_int\u001b[38;5;241m=\u001b[39m\u001b[38;5;28;01mNone\u001b[39;00m, parse_constant\u001b[38;5;241m=\u001b[39m\u001b[38;5;28;01mNone\u001b[39;00m, object_pairs_hook\u001b[38;5;241m=\u001b[39m\u001b[38;5;28;01mNone\u001b[39;00m, \u001b[38;5;241m*\u001b[39m\u001b[38;5;241m*\u001b[39mkw):\n\u001b[0;32m    276\u001b[0m \u001b[38;5;250m    \u001b[39m\u001b[38;5;124;03m\"\"\"Deserialize ``fp`` (a ``.read()``-supporting file-like object containing\u001b[39;00m\n\u001b[0;32m    277\u001b[0m \u001b[38;5;124;03m    a JSON document) to a Python object.\u001b[39;00m\n\u001b[0;32m    278\u001b[0m \n\u001b[1;32m   (...)\u001b[0m\n\u001b[0;32m    291\u001b[0m \u001b[38;5;124;03m    kwarg; otherwise ``JSONDecoder`` is used.\u001b[39;00m\n\u001b[0;32m    292\u001b[0m \u001b[38;5;124;03m    \"\"\"\u001b[39;00m\n\u001b[1;32m--> 293\u001b[0m     \u001b[38;5;28;01mreturn\u001b[39;00m \u001b[43mloads\u001b[49m\u001b[43m(\u001b[49m\u001b[43mfp\u001b[49m\u001b[38;5;241;43m.\u001b[39;49m\u001b[43mread\u001b[49m\u001b[43m(\u001b[49m\u001b[43m)\u001b[49m\u001b[43m,\u001b[49m\n\u001b[0;32m    294\u001b[0m \u001b[43m        \u001b[49m\u001b[38;5;28;43mcls\u001b[39;49m\u001b[38;5;241;43m=\u001b[39;49m\u001b[38;5;28;43mcls\u001b[39;49m\u001b[43m,\u001b[49m\u001b[43m \u001b[49m\u001b[43mobject_hook\u001b[49m\u001b[38;5;241;43m=\u001b[39;49m\u001b[43mobject_hook\u001b[49m\u001b[43m,\u001b[49m\n\u001b[0;32m    295\u001b[0m \u001b[43m        \u001b[49m\u001b[43mparse_float\u001b[49m\u001b[38;5;241;43m=\u001b[39;49m\u001b[43mparse_float\u001b[49m\u001b[43m,\u001b[49m\u001b[43m \u001b[49m\u001b[43mparse_int\u001b[49m\u001b[38;5;241;43m=\u001b[39;49m\u001b[43mparse_int\u001b[49m\u001b[43m,\u001b[49m\n\u001b[0;32m    296\u001b[0m \u001b[43m        \u001b[49m\u001b[43mparse_constant\u001b[49m\u001b[38;5;241;43m=\u001b[39;49m\u001b[43mparse_constant\u001b[49m\u001b[43m,\u001b[49m\u001b[43m \u001b[49m\u001b[43mobject_pairs_hook\u001b[49m\u001b[38;5;241;43m=\u001b[39;49m\u001b[43mobject_pairs_hook\u001b[49m\u001b[43m,\u001b[49m\u001b[43m \u001b[49m\u001b[38;5;241;43m*\u001b[39;49m\u001b[38;5;241;43m*\u001b[39;49m\u001b[43mkw\u001b[49m\u001b[43m)\u001b[49m\n",
      "File \u001b[1;32m~\\AppData\\Local\\Programs\\Python\\Python313\\Lib\\json\\__init__.py:346\u001b[0m, in \u001b[0;36mloads\u001b[1;34m(s, cls, object_hook, parse_float, parse_int, parse_constant, object_pairs_hook, **kw)\u001b[0m\n\u001b[0;32m    341\u001b[0m     s \u001b[38;5;241m=\u001b[39m s\u001b[38;5;241m.\u001b[39mdecode(detect_encoding(s), \u001b[38;5;124m'\u001b[39m\u001b[38;5;124msurrogatepass\u001b[39m\u001b[38;5;124m'\u001b[39m)\n\u001b[0;32m    343\u001b[0m \u001b[38;5;28;01mif\u001b[39;00m (\u001b[38;5;28mcls\u001b[39m \u001b[38;5;129;01mis\u001b[39;00m \u001b[38;5;28;01mNone\u001b[39;00m \u001b[38;5;129;01mand\u001b[39;00m object_hook \u001b[38;5;129;01mis\u001b[39;00m \u001b[38;5;28;01mNone\u001b[39;00m \u001b[38;5;129;01mand\u001b[39;00m\n\u001b[0;32m    344\u001b[0m         parse_int \u001b[38;5;129;01mis\u001b[39;00m \u001b[38;5;28;01mNone\u001b[39;00m \u001b[38;5;129;01mand\u001b[39;00m parse_float \u001b[38;5;129;01mis\u001b[39;00m \u001b[38;5;28;01mNone\u001b[39;00m \u001b[38;5;129;01mand\u001b[39;00m\n\u001b[0;32m    345\u001b[0m         parse_constant \u001b[38;5;129;01mis\u001b[39;00m \u001b[38;5;28;01mNone\u001b[39;00m \u001b[38;5;129;01mand\u001b[39;00m object_pairs_hook \u001b[38;5;129;01mis\u001b[39;00m \u001b[38;5;28;01mNone\u001b[39;00m \u001b[38;5;129;01mand\u001b[39;00m \u001b[38;5;129;01mnot\u001b[39;00m kw):\n\u001b[1;32m--> 346\u001b[0m     \u001b[38;5;28;01mreturn\u001b[39;00m \u001b[43m_default_decoder\u001b[49m\u001b[38;5;241;43m.\u001b[39;49m\u001b[43mdecode\u001b[49m\u001b[43m(\u001b[49m\u001b[43ms\u001b[49m\u001b[43m)\u001b[49m\n\u001b[0;32m    347\u001b[0m \u001b[38;5;28;01mif\u001b[39;00m \u001b[38;5;28mcls\u001b[39m \u001b[38;5;129;01mis\u001b[39;00m \u001b[38;5;28;01mNone\u001b[39;00m:\n\u001b[0;32m    348\u001b[0m     \u001b[38;5;28mcls\u001b[39m \u001b[38;5;241m=\u001b[39m JSONDecoder\n",
      "File \u001b[1;32m~\\AppData\\Local\\Programs\\Python\\Python313\\Lib\\json\\decoder.py:345\u001b[0m, in \u001b[0;36mJSONDecoder.decode\u001b[1;34m(self, s, _w)\u001b[0m\n\u001b[0;32m    340\u001b[0m \u001b[38;5;28;01mdef\u001b[39;00m \u001b[38;5;21mdecode\u001b[39m(\u001b[38;5;28mself\u001b[39m, s, _w\u001b[38;5;241m=\u001b[39mWHITESPACE\u001b[38;5;241m.\u001b[39mmatch):\n\u001b[0;32m    341\u001b[0m \u001b[38;5;250m    \u001b[39m\u001b[38;5;124;03m\"\"\"Return the Python representation of ``s`` (a ``str`` instance\u001b[39;00m\n\u001b[0;32m    342\u001b[0m \u001b[38;5;124;03m    containing a JSON document).\u001b[39;00m\n\u001b[0;32m    343\u001b[0m \n\u001b[0;32m    344\u001b[0m \u001b[38;5;124;03m    \"\"\"\u001b[39;00m\n\u001b[1;32m--> 345\u001b[0m     obj, end \u001b[38;5;241m=\u001b[39m \u001b[38;5;28;43mself\u001b[39;49m\u001b[38;5;241;43m.\u001b[39;49m\u001b[43mraw_decode\u001b[49m\u001b[43m(\u001b[49m\u001b[43ms\u001b[49m\u001b[43m,\u001b[49m\u001b[43m \u001b[49m\u001b[43midx\u001b[49m\u001b[38;5;241;43m=\u001b[39;49m\u001b[43m_w\u001b[49m\u001b[43m(\u001b[49m\u001b[43ms\u001b[49m\u001b[43m,\u001b[49m\u001b[43m \u001b[49m\u001b[38;5;241;43m0\u001b[39;49m\u001b[43m)\u001b[49m\u001b[38;5;241;43m.\u001b[39;49m\u001b[43mend\u001b[49m\u001b[43m(\u001b[49m\u001b[43m)\u001b[49m\u001b[43m)\u001b[49m\n\u001b[0;32m    346\u001b[0m     end \u001b[38;5;241m=\u001b[39m _w(s, end)\u001b[38;5;241m.\u001b[39mend()\n\u001b[0;32m    347\u001b[0m     \u001b[38;5;28;01mif\u001b[39;00m end \u001b[38;5;241m!=\u001b[39m \u001b[38;5;28mlen\u001b[39m(s):\n",
      "File \u001b[1;32m~\\AppData\\Local\\Programs\\Python\\Python313\\Lib\\json\\decoder.py:363\u001b[0m, in \u001b[0;36mJSONDecoder.raw_decode\u001b[1;34m(self, s, idx)\u001b[0m\n\u001b[0;32m    361\u001b[0m     obj, end \u001b[38;5;241m=\u001b[39m \u001b[38;5;28mself\u001b[39m\u001b[38;5;241m.\u001b[39mscan_once(s, idx)\n\u001b[0;32m    362\u001b[0m \u001b[38;5;28;01mexcept\u001b[39;00m \u001b[38;5;167;01mStopIteration\u001b[39;00m \u001b[38;5;28;01mas\u001b[39;00m err:\n\u001b[1;32m--> 363\u001b[0m     \u001b[38;5;28;01mraise\u001b[39;00m JSONDecodeError(\u001b[38;5;124m\"\u001b[39m\u001b[38;5;124mExpecting value\u001b[39m\u001b[38;5;124m\"\u001b[39m, s, err\u001b[38;5;241m.\u001b[39mvalue) \u001b[38;5;28;01mfrom\u001b[39;00m \u001b[38;5;28;01mNone\u001b[39;00m\n\u001b[0;32m    364\u001b[0m \u001b[38;5;28;01mreturn\u001b[39;00m obj, end\n",
      "\u001b[1;31mJSONDecodeError\u001b[0m: Expecting value: line 1 column 1 (char 0)"
     ]
    }
   ],
   "source": [
    "json.load(fp)"
   ]
  },
  {
   "cell_type": "code",
   "execution_count": 67,
   "id": "246878d6-ee73-43d6-877d-fa2b479225b2",
   "metadata": {},
   "outputs": [],
   "source": [
    "try:\n",
    "    json.load(fp)\n",
    "except json.JSONDecodeError:\n",
    "    l = []\n",
    "    json.dump(l, fp)\n",
    "    fp.close()"
   ]
  },
  {
   "cell_type": "code",
   "execution_count": null,
   "id": "77cac3a4-179b-497d-95f3-3ba66e939540",
   "metadata": {},
   "outputs": [],
   "source": []
  }
 ],
 "metadata": {
  "kernelspec": {
   "display_name": "Python 3 (ipykernel)",
   "language": "python",
   "name": "python3"
  },
  "language_info": {
   "codemirror_mode": {
    "name": "ipython",
    "version": 3
   },
   "file_extension": ".py",
   "mimetype": "text/x-python",
   "name": "python",
   "nbconvert_exporter": "python",
   "pygments_lexer": "ipython3",
   "version": "3.13.1"
  }
 },
 "nbformat": 4,
 "nbformat_minor": 5
}
